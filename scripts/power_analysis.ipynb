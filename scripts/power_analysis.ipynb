{
 "cells": [
  {
   "cell_type": "code",
   "execution_count": 2,
   "id": "1cea5053",
   "metadata": {},
   "outputs": [],
   "source": [
    "library(data.table)\n",
    "library(\"brglm2\")\n",
    "library(\"ggeffects\")\n",
    "library(\"ggplot2\")\n",
    "library(\"pheatmap\")\n",
    "library(\"parallel\")\n",
    "library(\"ggeffects\")"
   ]
  },
  {
   "cell_type": "code",
   "execution_count": 3,
   "id": "841b98cd",
   "metadata": {},
   "outputs": [],
   "source": [
    "data(\"lizards\")"
   ]
  },
  {
   "cell_type": "code",
   "execution_count": 55,
   "id": "5207d536",
   "metadata": {},
   "outputs": [
    {
     "data": {
      "text/html": [
       "<table class=\"dataframe\">\n",
       "<caption>A data.frame: 17 × 15</caption>\n",
       "<thead>\n",
       "\t<tr><th scope=col>Donor</th><th scope=col>Treat</th><th scope=col>cInd</th><th scope=col>cTot</th><th scope=col>S</th><th scope=col>xs</th><th scope=col>col</th><th scope=col>cNet</th><th scope=col>predicted</th><th scope=col>std.error</th><th scope=col>conf.high</th><th scope=col>conf.low</th><th scope=col>ys</th><th scope=col>locus</th><th scope=col>filteringSetting</th></tr>\n",
       "\t<tr><th scope=col>&lt;chr&gt;</th><th scope=col>&lt;fct&gt;</th><th scope=col>&lt;int&gt;</th><th scope=col>&lt;int&gt;</th><th scope=col>&lt;chr&gt;</th><th scope=col>&lt;dbl&gt;</th><th scope=col>&lt;chr&gt;</th><th scope=col>&lt;int&gt;</th><th scope=col>&lt;dbl&gt;</th><th scope=col>&lt;dbl&gt;</th><th scope=col>&lt;dbl&gt;</th><th scope=col>&lt;dbl&gt;</th><th scope=col>&lt;dbl&gt;</th><th scope=col>&lt;chr&gt;</th><th scope=col>&lt;chr&gt;</th></tr>\n",
       "</thead>\n",
       "<tbody>\n",
       "\t<tr><td>D3734</td><td>HiFi</td><td> 33</td><td> 74032</td><td>S1 </td><td>1.1</td><td>cornflowerblue</td><td> 73999</td><td>0.0004893059</td><td>0.07517308</td><td>0.0005669362</td><td>0.000422301</td><td>0.0004457532</td><td>1617_OT_0436_ALT</td><td>raw_class3</td></tr>\n",
       "\t<tr><td>D3742</td><td>HiFi</td><td>138</td><td>112950</td><td>S2 </td><td>2.1</td><td>cornflowerblue</td><td>112812</td><td>0.0012364804</td><td>0.05010296</td><td>0.0013638907</td><td>0.001120959</td><td>0.0012217795</td><td>1617_OT_0436_ALT</td><td>raw_class3</td></tr>\n",
       "\t<tr><td>D3742</td><td>HiFi</td><td> 23</td><td> 34263</td><td>S3 </td><td>2.1</td><td>cornflowerblue</td><td> 34240</td><td>0.0012364804</td><td>0.05010296</td><td>0.0013638907</td><td>0.001120959</td><td>0.0006712781</td><td>1617_OT_0436_ALT</td><td>raw_class3</td></tr>\n",
       "\t<tr><td>D3742</td><td>NoEP</td><td>142</td><td> 52754</td><td>S4 </td><td>1.9</td><td>grey40        </td><td> 52612</td><td>0.0019706432</td><td>0.05006053</td><td>0.0021733585</td><td>0.001786802</td><td>0.0026917390</td><td>1617_OT_0436_ALT</td><td>raw_class3</td></tr>\n",
       "\t<tr><td>D3742</td><td>NoEP</td><td>190</td><td> 76407</td><td>S5 </td><td>1.9</td><td>grey40        </td><td> 76217</td><td>0.0019706432</td><td>0.05006053</td><td>0.0021733585</td><td>0.001786802</td><td>0.0024866832</td><td>1617_OT_0436_ALT</td><td>raw_class3</td></tr>\n",
       "\t<tr><td>D3742</td><td>NoEP</td><td> 52</td><td> 21482</td><td>S9 </td><td>1.9</td><td>grey40        </td><td> 21430</td><td>0.0019706432</td><td>0.05006053</td><td>0.0021733585</td><td>0.001786802</td><td>0.0024206312</td><td>1617_OT_0436_ALT</td><td>raw_class3</td></tr>\n",
       "\t<tr><td>D3908</td><td>HiFi</td><td> 83</td><td> 59090</td><td>S10</td><td>3.1</td><td>cornflowerblue</td><td> 59007</td><td>0.0009026582</td><td>0.05986945</td><td>0.0010149286</td><td>0.000802797</td><td>0.0014046370</td><td>1617_OT_0436_ALT</td><td>raw_class3</td></tr>\n",
       "\t<tr><td>D3908</td><td>HiFi</td><td>130</td><td> 84313</td><td>S11</td><td>3.1</td><td>cornflowerblue</td><td> 84183</td><td>0.0009026582</td><td>0.05986945</td><td>0.0010149286</td><td>0.000802797</td><td>0.0015418737</td><td>1617_OT_0436_ALT</td><td>raw_class3</td></tr>\n",
       "\t<tr><td>D3734</td><td>HiFi</td><td> 38</td><td>100325</td><td>S12</td><td>1.1</td><td>cornflowerblue</td><td>100287</td><td>0.0004893059</td><td>0.07517308</td><td>0.0005669362</td><td>0.000422301</td><td>0.0003787690</td><td>1617_OT_0436_ALT</td><td>raw_class3</td></tr>\n",
       "\t<tr><td>D3908</td><td>HiFi</td><td> 46</td><td> 31306</td><td>S13</td><td>3.1</td><td>cornflowerblue</td><td> 31260</td><td>0.0009026582</td><td>0.05986945</td><td>0.0010149286</td><td>0.000802797</td><td>0.0014693669</td><td>1617_OT_0436_ALT</td><td>raw_class3</td></tr>\n",
       "\t<tr><td>D3908</td><td>NoEP</td><td> 74</td><td> 77662</td><td>S14</td><td>2.9</td><td>grey40        </td><td> 77588</td><td>0.0014388989</td><td>0.05038237</td><td>0.0015880017</td><td>0.001303778</td><td>0.0009528470</td><td>1617_OT_0436_ALT</td><td>raw_class3</td></tr>\n",
       "\t<tr><td>D3908</td><td>NoEP</td><td> 90</td><td> 90516</td><td>S18</td><td>2.9</td><td>grey40        </td><td> 90426</td><td>0.0014388989</td><td>0.05038237</td><td>0.0015880017</td><td>0.001303778</td><td>0.0009942994</td><td>1617_OT_0436_ALT</td><td>raw_class3</td></tr>\n",
       "\t<tr><td>D3908</td><td>NoEP</td><td> 40</td><td> 44461</td><td>S19</td><td>2.9</td><td>grey40        </td><td> 44421</td><td>0.0014388989</td><td>0.05038237</td><td>0.0015880017</td><td>0.001303778</td><td>0.0008996649</td><td>1617_OT_0436_ALT</td><td>raw_class3</td></tr>\n",
       "\t<tr><td>D3734</td><td>NoEP</td><td> 45</td><td> 65003</td><td>S20</td><td>0.9</td><td>grey40        </td><td> 64958</td><td>0.0007801788</td><td>0.06935972</td><td>0.0008936839</td><td>0.000681080</td><td>0.0006922757</td><td>1617_OT_0436_ALT</td><td>raw_class3</td></tr>\n",
       "\t<tr><td>D3734</td><td>NoEP</td><td> 92</td><td> 85365</td><td>S21</td><td>0.9</td><td>grey40        </td><td> 85273</td><td>0.0007801788</td><td>0.06935972</td><td>0.0008936839</td><td>0.000681080</td><td>0.0010777251</td><td>1617_OT_0436_ALT</td><td>raw_class3</td></tr>\n",
       "\t<tr><td>D3734</td><td>NoEP</td><td> 21</td><td> 34555</td><td>S22</td><td>0.9</td><td>grey40        </td><td> 34534</td><td>0.0007801788</td><td>0.06935972</td><td>0.0008936839</td><td>0.000681080</td><td>0.0006077268</td><td>1617_OT_0436_ALT</td><td>raw_class3</td></tr>\n",
       "\t<tr><td>D3742</td><td>HiFi</td><td> 47</td><td> 92076</td><td>S23</td><td>2.1</td><td>cornflowerblue</td><td> 92029</td><td>0.0012364804</td><td>0.05010296</td><td>0.0013638907</td><td>0.001120959</td><td>0.0005104479</td><td>1617_OT_0436_ALT</td><td>raw_class3</td></tr>\n",
       "</tbody>\n",
       "</table>\n"
      ],
      "text/latex": [
       "A data.frame: 17 × 15\n",
       "\\begin{tabular}{lllllllllllllll}\n",
       " Donor & Treat & cInd & cTot & S & xs & col & cNet & predicted & std.error & conf.high & conf.low & ys & locus & filteringSetting\\\\\n",
       " <chr> & <fct> & <int> & <int> & <chr> & <dbl> & <chr> & <int> & <dbl> & <dbl> & <dbl> & <dbl> & <dbl> & <chr> & <chr>\\\\\n",
       "\\hline\n",
       "\t D3734 & HiFi &  33 &  74032 & S1  & 1.1 & cornflowerblue &  73999 & 0.0004893059 & 0.07517308 & 0.0005669362 & 0.000422301 & 0.0004457532 & 1617\\_OT\\_0436\\_ALT & raw\\_class3\\\\\n",
       "\t D3742 & HiFi & 138 & 112950 & S2  & 2.1 & cornflowerblue & 112812 & 0.0012364804 & 0.05010296 & 0.0013638907 & 0.001120959 & 0.0012217795 & 1617\\_OT\\_0436\\_ALT & raw\\_class3\\\\\n",
       "\t D3742 & HiFi &  23 &  34263 & S3  & 2.1 & cornflowerblue &  34240 & 0.0012364804 & 0.05010296 & 0.0013638907 & 0.001120959 & 0.0006712781 & 1617\\_OT\\_0436\\_ALT & raw\\_class3\\\\\n",
       "\t D3742 & NoEP & 142 &  52754 & S4  & 1.9 & grey40         &  52612 & 0.0019706432 & 0.05006053 & 0.0021733585 & 0.001786802 & 0.0026917390 & 1617\\_OT\\_0436\\_ALT & raw\\_class3\\\\\n",
       "\t D3742 & NoEP & 190 &  76407 & S5  & 1.9 & grey40         &  76217 & 0.0019706432 & 0.05006053 & 0.0021733585 & 0.001786802 & 0.0024866832 & 1617\\_OT\\_0436\\_ALT & raw\\_class3\\\\\n",
       "\t D3742 & NoEP &  52 &  21482 & S9  & 1.9 & grey40         &  21430 & 0.0019706432 & 0.05006053 & 0.0021733585 & 0.001786802 & 0.0024206312 & 1617\\_OT\\_0436\\_ALT & raw\\_class3\\\\\n",
       "\t D3908 & HiFi &  83 &  59090 & S10 & 3.1 & cornflowerblue &  59007 & 0.0009026582 & 0.05986945 & 0.0010149286 & 0.000802797 & 0.0014046370 & 1617\\_OT\\_0436\\_ALT & raw\\_class3\\\\\n",
       "\t D3908 & HiFi & 130 &  84313 & S11 & 3.1 & cornflowerblue &  84183 & 0.0009026582 & 0.05986945 & 0.0010149286 & 0.000802797 & 0.0015418737 & 1617\\_OT\\_0436\\_ALT & raw\\_class3\\\\\n",
       "\t D3734 & HiFi &  38 & 100325 & S12 & 1.1 & cornflowerblue & 100287 & 0.0004893059 & 0.07517308 & 0.0005669362 & 0.000422301 & 0.0003787690 & 1617\\_OT\\_0436\\_ALT & raw\\_class3\\\\\n",
       "\t D3908 & HiFi &  46 &  31306 & S13 & 3.1 & cornflowerblue &  31260 & 0.0009026582 & 0.05986945 & 0.0010149286 & 0.000802797 & 0.0014693669 & 1617\\_OT\\_0436\\_ALT & raw\\_class3\\\\\n",
       "\t D3908 & NoEP &  74 &  77662 & S14 & 2.9 & grey40         &  77588 & 0.0014388989 & 0.05038237 & 0.0015880017 & 0.001303778 & 0.0009528470 & 1617\\_OT\\_0436\\_ALT & raw\\_class3\\\\\n",
       "\t D3908 & NoEP &  90 &  90516 & S18 & 2.9 & grey40         &  90426 & 0.0014388989 & 0.05038237 & 0.0015880017 & 0.001303778 & 0.0009942994 & 1617\\_OT\\_0436\\_ALT & raw\\_class3\\\\\n",
       "\t D3908 & NoEP &  40 &  44461 & S19 & 2.9 & grey40         &  44421 & 0.0014388989 & 0.05038237 & 0.0015880017 & 0.001303778 & 0.0008996649 & 1617\\_OT\\_0436\\_ALT & raw\\_class3\\\\\n",
       "\t D3734 & NoEP &  45 &  65003 & S20 & 0.9 & grey40         &  64958 & 0.0007801788 & 0.06935972 & 0.0008936839 & 0.000681080 & 0.0006922757 & 1617\\_OT\\_0436\\_ALT & raw\\_class3\\\\\n",
       "\t D3734 & NoEP &  92 &  85365 & S21 & 0.9 & grey40         &  85273 & 0.0007801788 & 0.06935972 & 0.0008936839 & 0.000681080 & 0.0010777251 & 1617\\_OT\\_0436\\_ALT & raw\\_class3\\\\\n",
       "\t D3734 & NoEP &  21 &  34555 & S22 & 0.9 & grey40         &  34534 & 0.0007801788 & 0.06935972 & 0.0008936839 & 0.000681080 & 0.0006077268 & 1617\\_OT\\_0436\\_ALT & raw\\_class3\\\\\n",
       "\t D3742 & HiFi &  47 &  92076 & S23 & 2.1 & cornflowerblue &  92029 & 0.0012364804 & 0.05010296 & 0.0013638907 & 0.001120959 & 0.0005104479 & 1617\\_OT\\_0436\\_ALT & raw\\_class3\\\\\n",
       "\\end{tabular}\n"
      ],
      "text/markdown": [
       "\n",
       "A data.frame: 17 × 15\n",
       "\n",
       "| Donor &lt;chr&gt; | Treat &lt;fct&gt; | cInd &lt;int&gt; | cTot &lt;int&gt; | S &lt;chr&gt; | xs &lt;dbl&gt; | col &lt;chr&gt; | cNet &lt;int&gt; | predicted &lt;dbl&gt; | std.error &lt;dbl&gt; | conf.high &lt;dbl&gt; | conf.low &lt;dbl&gt; | ys &lt;dbl&gt; | locus &lt;chr&gt; | filteringSetting &lt;chr&gt; |\n",
       "|---|---|---|---|---|---|---|---|---|---|---|---|---|---|---|\n",
       "| D3734 | HiFi |  33 |  74032 | S1  | 1.1 | cornflowerblue |  73999 | 0.0004893059 | 0.07517308 | 0.0005669362 | 0.000422301 | 0.0004457532 | 1617_OT_0436_ALT | raw_class3 |\n",
       "| D3742 | HiFi | 138 | 112950 | S2  | 2.1 | cornflowerblue | 112812 | 0.0012364804 | 0.05010296 | 0.0013638907 | 0.001120959 | 0.0012217795 | 1617_OT_0436_ALT | raw_class3 |\n",
       "| D3742 | HiFi |  23 |  34263 | S3  | 2.1 | cornflowerblue |  34240 | 0.0012364804 | 0.05010296 | 0.0013638907 | 0.001120959 | 0.0006712781 | 1617_OT_0436_ALT | raw_class3 |\n",
       "| D3742 | NoEP | 142 |  52754 | S4  | 1.9 | grey40         |  52612 | 0.0019706432 | 0.05006053 | 0.0021733585 | 0.001786802 | 0.0026917390 | 1617_OT_0436_ALT | raw_class3 |\n",
       "| D3742 | NoEP | 190 |  76407 | S5  | 1.9 | grey40         |  76217 | 0.0019706432 | 0.05006053 | 0.0021733585 | 0.001786802 | 0.0024866832 | 1617_OT_0436_ALT | raw_class3 |\n",
       "| D3742 | NoEP |  52 |  21482 | S9  | 1.9 | grey40         |  21430 | 0.0019706432 | 0.05006053 | 0.0021733585 | 0.001786802 | 0.0024206312 | 1617_OT_0436_ALT | raw_class3 |\n",
       "| D3908 | HiFi |  83 |  59090 | S10 | 3.1 | cornflowerblue |  59007 | 0.0009026582 | 0.05986945 | 0.0010149286 | 0.000802797 | 0.0014046370 | 1617_OT_0436_ALT | raw_class3 |\n",
       "| D3908 | HiFi | 130 |  84313 | S11 | 3.1 | cornflowerblue |  84183 | 0.0009026582 | 0.05986945 | 0.0010149286 | 0.000802797 | 0.0015418737 | 1617_OT_0436_ALT | raw_class3 |\n",
       "| D3734 | HiFi |  38 | 100325 | S12 | 1.1 | cornflowerblue | 100287 | 0.0004893059 | 0.07517308 | 0.0005669362 | 0.000422301 | 0.0003787690 | 1617_OT_0436_ALT | raw_class3 |\n",
       "| D3908 | HiFi |  46 |  31306 | S13 | 3.1 | cornflowerblue |  31260 | 0.0009026582 | 0.05986945 | 0.0010149286 | 0.000802797 | 0.0014693669 | 1617_OT_0436_ALT | raw_class3 |\n",
       "| D3908 | NoEP |  74 |  77662 | S14 | 2.9 | grey40         |  77588 | 0.0014388989 | 0.05038237 | 0.0015880017 | 0.001303778 | 0.0009528470 | 1617_OT_0436_ALT | raw_class3 |\n",
       "| D3908 | NoEP |  90 |  90516 | S18 | 2.9 | grey40         |  90426 | 0.0014388989 | 0.05038237 | 0.0015880017 | 0.001303778 | 0.0009942994 | 1617_OT_0436_ALT | raw_class3 |\n",
       "| D3908 | NoEP |  40 |  44461 | S19 | 2.9 | grey40         |  44421 | 0.0014388989 | 0.05038237 | 0.0015880017 | 0.001303778 | 0.0008996649 | 1617_OT_0436_ALT | raw_class3 |\n",
       "| D3734 | NoEP |  45 |  65003 | S20 | 0.9 | grey40         |  64958 | 0.0007801788 | 0.06935972 | 0.0008936839 | 0.000681080 | 0.0006922757 | 1617_OT_0436_ALT | raw_class3 |\n",
       "| D3734 | NoEP |  92 |  85365 | S21 | 0.9 | grey40         |  85273 | 0.0007801788 | 0.06935972 | 0.0008936839 | 0.000681080 | 0.0010777251 | 1617_OT_0436_ALT | raw_class3 |\n",
       "| D3734 | NoEP |  21 |  34555 | S22 | 0.9 | grey40         |  34534 | 0.0007801788 | 0.06935972 | 0.0008936839 | 0.000681080 | 0.0006077268 | 1617_OT_0436_ALT | raw_class3 |\n",
       "| D3742 | HiFi |  47 |  92076 | S23 | 2.1 | cornflowerblue |  92029 | 0.0012364804 | 0.05010296 | 0.0013638907 | 0.001120959 | 0.0005104479 | 1617_OT_0436_ALT | raw_class3 |\n",
       "\n"
      ],
      "text/plain": [
       "   Donor Treat cInd cTot   S   xs  col            cNet   predicted   \n",
       "1  D3734 HiFi   33   74032 S1  1.1 cornflowerblue  73999 0.0004893059\n",
       "2  D3742 HiFi  138  112950 S2  2.1 cornflowerblue 112812 0.0012364804\n",
       "3  D3742 HiFi   23   34263 S3  2.1 cornflowerblue  34240 0.0012364804\n",
       "4  D3742 NoEP  142   52754 S4  1.9 grey40          52612 0.0019706432\n",
       "5  D3742 NoEP  190   76407 S5  1.9 grey40          76217 0.0019706432\n",
       "6  D3742 NoEP   52   21482 S9  1.9 grey40          21430 0.0019706432\n",
       "7  D3908 HiFi   83   59090 S10 3.1 cornflowerblue  59007 0.0009026582\n",
       "8  D3908 HiFi  130   84313 S11 3.1 cornflowerblue  84183 0.0009026582\n",
       "9  D3734 HiFi   38  100325 S12 1.1 cornflowerblue 100287 0.0004893059\n",
       "10 D3908 HiFi   46   31306 S13 3.1 cornflowerblue  31260 0.0009026582\n",
       "11 D3908 NoEP   74   77662 S14 2.9 grey40          77588 0.0014388989\n",
       "12 D3908 NoEP   90   90516 S18 2.9 grey40          90426 0.0014388989\n",
       "13 D3908 NoEP   40   44461 S19 2.9 grey40          44421 0.0014388989\n",
       "14 D3734 NoEP   45   65003 S20 0.9 grey40          64958 0.0007801788\n",
       "15 D3734 NoEP   92   85365 S21 0.9 grey40          85273 0.0007801788\n",
       "16 D3734 NoEP   21   34555 S22 0.9 grey40          34534 0.0007801788\n",
       "17 D3742 HiFi   47   92076 S23 2.1 cornflowerblue  92029 0.0012364804\n",
       "   std.error  conf.high    conf.low    ys           locus           \n",
       "1  0.07517308 0.0005669362 0.000422301 0.0004457532 1617_OT_0436_ALT\n",
       "2  0.05010296 0.0013638907 0.001120959 0.0012217795 1617_OT_0436_ALT\n",
       "3  0.05010296 0.0013638907 0.001120959 0.0006712781 1617_OT_0436_ALT\n",
       "4  0.05006053 0.0021733585 0.001786802 0.0026917390 1617_OT_0436_ALT\n",
       "5  0.05006053 0.0021733585 0.001786802 0.0024866832 1617_OT_0436_ALT\n",
       "6  0.05006053 0.0021733585 0.001786802 0.0024206312 1617_OT_0436_ALT\n",
       "7  0.05986945 0.0010149286 0.000802797 0.0014046370 1617_OT_0436_ALT\n",
       "8  0.05986945 0.0010149286 0.000802797 0.0015418737 1617_OT_0436_ALT\n",
       "9  0.07517308 0.0005669362 0.000422301 0.0003787690 1617_OT_0436_ALT\n",
       "10 0.05986945 0.0010149286 0.000802797 0.0014693669 1617_OT_0436_ALT\n",
       "11 0.05038237 0.0015880017 0.001303778 0.0009528470 1617_OT_0436_ALT\n",
       "12 0.05038237 0.0015880017 0.001303778 0.0009942994 1617_OT_0436_ALT\n",
       "13 0.05038237 0.0015880017 0.001303778 0.0008996649 1617_OT_0436_ALT\n",
       "14 0.06935972 0.0008936839 0.000681080 0.0006922757 1617_OT_0436_ALT\n",
       "15 0.06935972 0.0008936839 0.000681080 0.0010777251 1617_OT_0436_ALT\n",
       "16 0.06935972 0.0008936839 0.000681080 0.0006077268 1617_OT_0436_ALT\n",
       "17 0.05010296 0.0013638907 0.001120959 0.0005104479 1617_OT_0436_ALT\n",
       "   filteringSetting\n",
       "1  raw_class3      \n",
       "2  raw_class3      \n",
       "3  raw_class3      \n",
       "4  raw_class3      \n",
       "5  raw_class3      \n",
       "6  raw_class3      \n",
       "7  raw_class3      \n",
       "8  raw_class3      \n",
       "9  raw_class3      \n",
       "10 raw_class3      \n",
       "11 raw_class3      \n",
       "12 raw_class3      \n",
       "13 raw_class3      \n",
       "14 raw_class3      \n",
       "15 raw_class3      \n",
       "16 raw_class3      \n",
       "17 raw_class3      "
      ]
     },
     "metadata": {},
     "output_type": "display_data"
    }
   ],
   "source": [
    "offr"
   ]
  },
  {
   "cell_type": "code",
   "execution_count": 5,
   "id": "a2925f62",
   "metadata": {},
   "outputs": [
    {
     "data": {
      "text/html": [
       "<table class=\"dataframe\">\n",
       "<caption>A data.frame: 23 × 6</caption>\n",
       "<thead>\n",
       "\t<tr><th></th><th scope=col>grahami</th><th scope=col>opalinus</th><th scope=col>height</th><th scope=col>diameter</th><th scope=col>light</th><th scope=col>time</th></tr>\n",
       "\t<tr><th></th><th scope=col>&lt;dbl&gt;</th><th scope=col>&lt;dbl&gt;</th><th scope=col>&lt;fct&gt;</th><th scope=col>&lt;fct&gt;</th><th scope=col>&lt;fct&gt;</th><th scope=col>&lt;fct&gt;</th></tr>\n",
       "</thead>\n",
       "<tbody>\n",
       "\t<tr><th scope=row>1</th><td>20</td><td> 2</td><td>&lt;5ft </td><td>&lt;=2in</td><td>sunny</td><td>early </td></tr>\n",
       "\t<tr><th scope=row>2</th><td> 8</td><td> 1</td><td>&lt;5ft </td><td>&lt;=2in</td><td>sunny</td><td>midday</td></tr>\n",
       "\t<tr><th scope=row>3</th><td> 4</td><td> 4</td><td>&lt;5ft </td><td>&lt;=2in</td><td>sunny</td><td><span style=white-space:pre-wrap>late  </span></td></tr>\n",
       "\t<tr><th scope=row>4</th><td>13</td><td> 0</td><td>&gt;=5ft</td><td>&lt;=2in</td><td>sunny</td><td>early </td></tr>\n",
       "\t<tr><th scope=row>5</th><td> 8</td><td> 0</td><td>&gt;=5ft</td><td>&lt;=2in</td><td>sunny</td><td>midday</td></tr>\n",
       "\t<tr><th scope=row>6</th><td>12</td><td> 0</td><td>&gt;=5ft</td><td>&lt;=2in</td><td>sunny</td><td><span style=white-space:pre-wrap>late  </span></td></tr>\n",
       "\t<tr><th scope=row>7</th><td> 8</td><td> 3</td><td>&lt;5ft </td><td>&gt;2in </td><td>sunny</td><td>early </td></tr>\n",
       "\t<tr><th scope=row>8</th><td> 4</td><td> 1</td><td>&lt;5ft </td><td>&gt;2in </td><td>sunny</td><td>midday</td></tr>\n",
       "\t<tr><th scope=row>9</th><td> 5</td><td> 3</td><td>&lt;5ft </td><td>&gt;2in </td><td>sunny</td><td><span style=white-space:pre-wrap>late  </span></td></tr>\n",
       "\t<tr><th scope=row>10</th><td> 6</td><td> 0</td><td>&gt;=5ft</td><td>&gt;2in </td><td>sunny</td><td>early </td></tr>\n",
       "\t<tr><th scope=row>11</th><td> 1</td><td> 1</td><td>&gt;=5ft</td><td>&gt;2in </td><td>sunny</td><td><span style=white-space:pre-wrap>late  </span></td></tr>\n",
       "\t<tr><th scope=row>12</th><td>34</td><td>11</td><td>&lt;5ft </td><td>&lt;=2in</td><td>shady</td><td>early </td></tr>\n",
       "\t<tr><th scope=row>13</th><td>69</td><td>20</td><td>&lt;5ft </td><td>&lt;=2in</td><td>shady</td><td>midday</td></tr>\n",
       "\t<tr><th scope=row>14</th><td>18</td><td>10</td><td>&lt;5ft </td><td>&lt;=2in</td><td>shady</td><td><span style=white-space:pre-wrap>late  </span></td></tr>\n",
       "\t<tr><th scope=row>15</th><td>31</td><td> 5</td><td>&gt;=5ft</td><td>&lt;=2in</td><td>shady</td><td>early </td></tr>\n",
       "\t<tr><th scope=row>16</th><td>55</td><td> 4</td><td>&gt;=5ft</td><td>&lt;=2in</td><td>shady</td><td>midday</td></tr>\n",
       "\t<tr><th scope=row>17</th><td>13</td><td> 3</td><td>&gt;=5ft</td><td>&lt;=2in</td><td>shady</td><td><span style=white-space:pre-wrap>late  </span></td></tr>\n",
       "\t<tr><th scope=row>18</th><td>17</td><td>15</td><td>&lt;5ft </td><td>&gt;2in </td><td>shady</td><td>early </td></tr>\n",
       "\t<tr><th scope=row>19</th><td>60</td><td>32</td><td>&lt;5ft </td><td>&gt;2in </td><td>shady</td><td>midday</td></tr>\n",
       "\t<tr><th scope=row>20</th><td> 8</td><td> 8</td><td>&lt;5ft </td><td>&gt;2in </td><td>shady</td><td><span style=white-space:pre-wrap>late  </span></td></tr>\n",
       "\t<tr><th scope=row>21</th><td>12</td><td> 1</td><td>&gt;=5ft</td><td>&gt;2in </td><td>shady</td><td>early </td></tr>\n",
       "\t<tr><th scope=row>22</th><td>21</td><td> 5</td><td>&gt;=5ft</td><td>&gt;2in </td><td>shady</td><td>midday</td></tr>\n",
       "\t<tr><th scope=row>23</th><td> 4</td><td> 4</td><td>&gt;=5ft</td><td>&gt;2in </td><td>shady</td><td><span style=white-space:pre-wrap>late  </span></td></tr>\n",
       "</tbody>\n",
       "</table>\n"
      ],
      "text/latex": [
       "A data.frame: 23 × 6\n",
       "\\begin{tabular}{r|llllll}\n",
       "  & grahami & opalinus & height & diameter & light & time\\\\\n",
       "  & <dbl> & <dbl> & <fct> & <fct> & <fct> & <fct>\\\\\n",
       "\\hline\n",
       "\t1 & 20 &  2 & <5ft  & <=2in & sunny & early \\\\\n",
       "\t2 &  8 &  1 & <5ft  & <=2in & sunny & midday\\\\\n",
       "\t3 &  4 &  4 & <5ft  & <=2in & sunny & late  \\\\\n",
       "\t4 & 13 &  0 & >=5ft & <=2in & sunny & early \\\\\n",
       "\t5 &  8 &  0 & >=5ft & <=2in & sunny & midday\\\\\n",
       "\t6 & 12 &  0 & >=5ft & <=2in & sunny & late  \\\\\n",
       "\t7 &  8 &  3 & <5ft  & >2in  & sunny & early \\\\\n",
       "\t8 &  4 &  1 & <5ft  & >2in  & sunny & midday\\\\\n",
       "\t9 &  5 &  3 & <5ft  & >2in  & sunny & late  \\\\\n",
       "\t10 &  6 &  0 & >=5ft & >2in  & sunny & early \\\\\n",
       "\t11 &  1 &  1 & >=5ft & >2in  & sunny & late  \\\\\n",
       "\t12 & 34 & 11 & <5ft  & <=2in & shady & early \\\\\n",
       "\t13 & 69 & 20 & <5ft  & <=2in & shady & midday\\\\\n",
       "\t14 & 18 & 10 & <5ft  & <=2in & shady & late  \\\\\n",
       "\t15 & 31 &  5 & >=5ft & <=2in & shady & early \\\\\n",
       "\t16 & 55 &  4 & >=5ft & <=2in & shady & midday\\\\\n",
       "\t17 & 13 &  3 & >=5ft & <=2in & shady & late  \\\\\n",
       "\t18 & 17 & 15 & <5ft  & >2in  & shady & early \\\\\n",
       "\t19 & 60 & 32 & <5ft  & >2in  & shady & midday\\\\\n",
       "\t20 &  8 &  8 & <5ft  & >2in  & shady & late  \\\\\n",
       "\t21 & 12 &  1 & >=5ft & >2in  & shady & early \\\\\n",
       "\t22 & 21 &  5 & >=5ft & >2in  & shady & midday\\\\\n",
       "\t23 &  4 &  4 & >=5ft & >2in  & shady & late  \\\\\n",
       "\\end{tabular}\n"
      ],
      "text/markdown": [
       "\n",
       "A data.frame: 23 × 6\n",
       "\n",
       "| <!--/--> | grahami &lt;dbl&gt; | opalinus &lt;dbl&gt; | height &lt;fct&gt; | diameter &lt;fct&gt; | light &lt;fct&gt; | time &lt;fct&gt; |\n",
       "|---|---|---|---|---|---|---|\n",
       "| 1 | 20 |  2 | &lt;5ft  | &lt;=2in | sunny | early  |\n",
       "| 2 |  8 |  1 | &lt;5ft  | &lt;=2in | sunny | midday |\n",
       "| 3 |  4 |  4 | &lt;5ft  | &lt;=2in | sunny | late   |\n",
       "| 4 | 13 |  0 | &gt;=5ft | &lt;=2in | sunny | early  |\n",
       "| 5 |  8 |  0 | &gt;=5ft | &lt;=2in | sunny | midday |\n",
       "| 6 | 12 |  0 | &gt;=5ft | &lt;=2in | sunny | late   |\n",
       "| 7 |  8 |  3 | &lt;5ft  | &gt;2in  | sunny | early  |\n",
       "| 8 |  4 |  1 | &lt;5ft  | &gt;2in  | sunny | midday |\n",
       "| 9 |  5 |  3 | &lt;5ft  | &gt;2in  | sunny | late   |\n",
       "| 10 |  6 |  0 | &gt;=5ft | &gt;2in  | sunny | early  |\n",
       "| 11 |  1 |  1 | &gt;=5ft | &gt;2in  | sunny | late   |\n",
       "| 12 | 34 | 11 | &lt;5ft  | &lt;=2in | shady | early  |\n",
       "| 13 | 69 | 20 | &lt;5ft  | &lt;=2in | shady | midday |\n",
       "| 14 | 18 | 10 | &lt;5ft  | &lt;=2in | shady | late   |\n",
       "| 15 | 31 |  5 | &gt;=5ft | &lt;=2in | shady | early  |\n",
       "| 16 | 55 |  4 | &gt;=5ft | &lt;=2in | shady | midday |\n",
       "| 17 | 13 |  3 | &gt;=5ft | &lt;=2in | shady | late   |\n",
       "| 18 | 17 | 15 | &lt;5ft  | &gt;2in  | shady | early  |\n",
       "| 19 | 60 | 32 | &lt;5ft  | &gt;2in  | shady | midday |\n",
       "| 20 |  8 |  8 | &lt;5ft  | &gt;2in  | shady | late   |\n",
       "| 21 | 12 |  1 | &gt;=5ft | &gt;2in  | shady | early  |\n",
       "| 22 | 21 |  5 | &gt;=5ft | &gt;2in  | shady | midday |\n",
       "| 23 |  4 |  4 | &gt;=5ft | &gt;2in  | shady | late   |\n",
       "\n"
      ],
      "text/plain": [
       "   grahami opalinus height diameter light time  \n",
       "1  20       2       <5ft   <=2in    sunny early \n",
       "2   8       1       <5ft   <=2in    sunny midday\n",
       "3   4       4       <5ft   <=2in    sunny late  \n",
       "4  13       0       >=5ft  <=2in    sunny early \n",
       "5   8       0       >=5ft  <=2in    sunny midday\n",
       "6  12       0       >=5ft  <=2in    sunny late  \n",
       "7   8       3       <5ft   >2in     sunny early \n",
       "8   4       1       <5ft   >2in     sunny midday\n",
       "9   5       3       <5ft   >2in     sunny late  \n",
       "10  6       0       >=5ft  >2in     sunny early \n",
       "11  1       1       >=5ft  >2in     sunny late  \n",
       "12 34      11       <5ft   <=2in    shady early \n",
       "13 69      20       <5ft   <=2in    shady midday\n",
       "14 18      10       <5ft   <=2in    shady late  \n",
       "15 31       5       >=5ft  <=2in    shady early \n",
       "16 55       4       >=5ft  <=2in    shady midday\n",
       "17 13       3       >=5ft  <=2in    shady late  \n",
       "18 17      15       <5ft   >2in     shady early \n",
       "19 60      32       <5ft   >2in     shady midday\n",
       "20  8       8       <5ft   >2in     shady late  \n",
       "21 12       1       >=5ft  >2in     shady early \n",
       "22 21       5       >=5ft  >2in     shady midday\n",
       "23  4       4       >=5ft  >2in     shady late  "
      ]
     },
     "metadata": {},
     "output_type": "display_data"
    }
   ],
   "source": [
    "lizards"
   ]
  },
  {
   "cell_type": "code",
   "execution_count": 4,
   "id": "0457af01",
   "metadata": {},
   "outputs": [],
   "source": [
    "lizardsBR_mean <- glm(cbind(grahami, opalinus) ~ height + diameter +\n",
    "                      light + time, family = binomial(logit), data = lizards,\n",
    "                      method = \"brglmFit\")"
   ]
  },
  {
   "cell_type": "code",
   "execution_count": 6,
   "id": "94ddca3e",
   "metadata": {},
   "outputs": [
    {
     "data": {
      "text/plain": [
       "\n",
       "Call:  glm(formula = cbind(grahami, opalinus) ~ height + diameter + \n",
       "    light + time, family = binomial(logit), data = lizards, method = \"brglmFit\")\n",
       "\n",
       "Coefficients:\n",
       " (Intercept)   height>=5ft  diameter>2in    lightshady    timemidday  \n",
       "      1.9018        1.1064       -0.7536       -0.8177        0.2280  \n",
       "    timelate  \n",
       "     -0.7273  \n",
       "\n",
       "Degrees of Freedom: 22 Total (i.e. Null);  17 Residual\n",
       "Null Deviance:\t    70.1 \n",
       "Residual Deviance: 14.25 \tAIC: 83.07"
      ]
     },
     "metadata": {},
     "output_type": "display_data"
    }
   ],
   "source": [
    "lizardsBR_mean"
   ]
  },
  {
   "cell_type": "code",
   "execution_count": 7,
   "id": "2535f283",
   "metadata": {},
   "outputs": [
    {
     "data": {
      "text/html": [
       "<dl>\n",
       "\t<dt>$height</dt>\n",
       "\t\t<dd><table class=\"dataframe\">\n",
       "<caption>A ggeffects: 2 × 6</caption>\n",
       "<thead>\n",
       "\t<tr><th scope=col>x</th><th scope=col>predicted</th><th scope=col>std.error</th><th scope=col>conf.low</th><th scope=col>conf.high</th><th scope=col>group</th></tr>\n",
       "\t<tr><th scope=col>&lt;fct&gt;</th><th scope=col>&lt;dbl&gt;</th><th scope=col>&lt;dbl&gt;</th><th scope=col>&lt;dbl&gt;</th><th scope=col>&lt;dbl&gt;</th><th scope=col>&lt;chr&gt;</th></tr>\n",
       "</thead>\n",
       "<tbody>\n",
       "\t<tr><td>&lt;5ft </td><td>0.8700989</td><td>0.3373534</td><td>0.7756741</td><td>0.9284443</td><td>height</td></tr>\n",
       "\t<tr><td>&gt;=5ft</td><td>0.9529459</td><td>0.3834068</td><td>0.9052351</td><td>0.9772399</td><td>height</td></tr>\n",
       "</tbody>\n",
       "</table>\n",
       "</dd>\n",
       "\t<dt>$diameter</dt>\n",
       "\t\t<dd><table class=\"dataframe\">\n",
       "<caption>A ggeffects: 2 × 6</caption>\n",
       "<thead>\n",
       "\t<tr><th scope=col>x</th><th scope=col>predicted</th><th scope=col>std.error</th><th scope=col>conf.low</th><th scope=col>conf.high</th><th scope=col>group</th></tr>\n",
       "\t<tr><th scope=col>&lt;fct&gt;</th><th scope=col>&lt;dbl&gt;</th><th scope=col>&lt;dbl&gt;</th><th scope=col>&lt;dbl&gt;</th><th scope=col>&lt;dbl&gt;</th><th scope=col>&lt;chr&gt;</th></tr>\n",
       "</thead>\n",
       "<tbody>\n",
       "\t<tr><td>&lt;=2in</td><td>0.8700989</td><td>0.3373534</td><td>0.7756741</td><td>0.9284443</td><td>diameter</td></tr>\n",
       "\t<tr><td>&gt;2in </td><td>0.7591827</td><td>0.3400627</td><td>0.6181476</td><td>0.8599307</td><td>diameter</td></tr>\n",
       "</tbody>\n",
       "</table>\n",
       "</dd>\n",
       "\t<dt>$light</dt>\n",
       "\t\t<dd><table class=\"dataframe\">\n",
       "<caption>A ggeffects: 2 × 6</caption>\n",
       "<thead>\n",
       "\t<tr><th scope=col>x</th><th scope=col>predicted</th><th scope=col>std.error</th><th scope=col>conf.low</th><th scope=col>conf.high</th><th scope=col>group</th></tr>\n",
       "\t<tr><th scope=col>&lt;fct&gt;</th><th scope=col>&lt;dbl&gt;</th><th scope=col>&lt;dbl&gt;</th><th scope=col>&lt;dbl&gt;</th><th scope=col>&lt;dbl&gt;</th><th scope=col>&lt;chr&gt;</th></tr>\n",
       "</thead>\n",
       "<tbody>\n",
       "\t<tr><td>sunny</td><td>0.8700989</td><td>0.3373534</td><td>0.7756741</td><td>0.9284443</td><td>light</td></tr>\n",
       "\t<tr><td>shady</td><td>0.7472830</td><td>0.2344056</td><td>0.6512975</td><td>0.8239875</td><td>light</td></tr>\n",
       "</tbody>\n",
       "</table>\n",
       "</dd>\n",
       "\t<dt>$time</dt>\n",
       "\t\t<dd><table class=\"dataframe\">\n",
       "<caption>A ggeffects: 3 × 6</caption>\n",
       "<thead>\n",
       "\t<tr><th scope=col>x</th><th scope=col>predicted</th><th scope=col>std.error</th><th scope=col>conf.low</th><th scope=col>conf.high</th><th scope=col>group</th></tr>\n",
       "\t<tr><th scope=col>&lt;fct&gt;</th><th scope=col>&lt;dbl&gt;</th><th scope=col>&lt;dbl&gt;</th><th scope=col>&lt;dbl&gt;</th><th scope=col>&lt;dbl&gt;</th><th scope=col>&lt;chr&gt;</th></tr>\n",
       "</thead>\n",
       "<tbody>\n",
       "\t<tr><td>early </td><td>0.8700989</td><td>0.3373534</td><td>0.7756741</td><td>0.9284443</td><td>time</td></tr>\n",
       "\t<tr><td>midday</td><td>0.8937654</td><td>0.3617405</td><td>0.8054630</td><td>0.9447364</td><td>time</td></tr>\n",
       "\t<tr><td>late  </td><td>0.7639614</td><td>0.3501963</td><td>0.6196705</td><td>0.8654011</td><td>time</td></tr>\n",
       "</tbody>\n",
       "</table>\n",
       "</dd>\n",
       "</dl>\n"
      ],
      "text/latex": [
       "\\begin{description}\n",
       "\\item[\\$height] A ggeffects: 2 × 6\n",
       "\\begin{tabular}{llllll}\n",
       " x & predicted & std.error & conf.low & conf.high & group\\\\\n",
       " <fct> & <dbl> & <dbl> & <dbl> & <dbl> & <chr>\\\\\n",
       "\\hline\n",
       "\t <5ft  & 0.8700989 & 0.3373534 & 0.7756741 & 0.9284443 & height\\\\\n",
       "\t >=5ft & 0.9529459 & 0.3834068 & 0.9052351 & 0.9772399 & height\\\\\n",
       "\\end{tabular}\n",
       "\n",
       "\\item[\\$diameter] A ggeffects: 2 × 6\n",
       "\\begin{tabular}{llllll}\n",
       " x & predicted & std.error & conf.low & conf.high & group\\\\\n",
       " <fct> & <dbl> & <dbl> & <dbl> & <dbl> & <chr>\\\\\n",
       "\\hline\n",
       "\t <=2in & 0.8700989 & 0.3373534 & 0.7756741 & 0.9284443 & diameter\\\\\n",
       "\t >2in  & 0.7591827 & 0.3400627 & 0.6181476 & 0.8599307 & diameter\\\\\n",
       "\\end{tabular}\n",
       "\n",
       "\\item[\\$light] A ggeffects: 2 × 6\n",
       "\\begin{tabular}{llllll}\n",
       " x & predicted & std.error & conf.low & conf.high & group\\\\\n",
       " <fct> & <dbl> & <dbl> & <dbl> & <dbl> & <chr>\\\\\n",
       "\\hline\n",
       "\t sunny & 0.8700989 & 0.3373534 & 0.7756741 & 0.9284443 & light\\\\\n",
       "\t shady & 0.7472830 & 0.2344056 & 0.6512975 & 0.8239875 & light\\\\\n",
       "\\end{tabular}\n",
       "\n",
       "\\item[\\$time] A ggeffects: 3 × 6\n",
       "\\begin{tabular}{llllll}\n",
       " x & predicted & std.error & conf.low & conf.high & group\\\\\n",
       " <fct> & <dbl> & <dbl> & <dbl> & <dbl> & <chr>\\\\\n",
       "\\hline\n",
       "\t early  & 0.8700989 & 0.3373534 & 0.7756741 & 0.9284443 & time\\\\\n",
       "\t midday & 0.8937654 & 0.3617405 & 0.8054630 & 0.9447364 & time\\\\\n",
       "\t late   & 0.7639614 & 0.3501963 & 0.6196705 & 0.8654011 & time\\\\\n",
       "\\end{tabular}\n",
       "\n",
       "\\end{description}\n"
      ],
      "text/markdown": [
       "$height\n",
       ":   \n",
       "A ggeffects: 2 × 6\n",
       "\n",
       "| x &lt;fct&gt; | predicted &lt;dbl&gt; | std.error &lt;dbl&gt; | conf.low &lt;dbl&gt; | conf.high &lt;dbl&gt; | group &lt;chr&gt; |\n",
       "|---|---|---|---|---|---|\n",
       "| &lt;5ft  | 0.8700989 | 0.3373534 | 0.7756741 | 0.9284443 | height |\n",
       "| &gt;=5ft | 0.9529459 | 0.3834068 | 0.9052351 | 0.9772399 | height |\n",
       "\n",
       "\n",
       "$diameter\n",
       ":   \n",
       "A ggeffects: 2 × 6\n",
       "\n",
       "| x &lt;fct&gt; | predicted &lt;dbl&gt; | std.error &lt;dbl&gt; | conf.low &lt;dbl&gt; | conf.high &lt;dbl&gt; | group &lt;chr&gt; |\n",
       "|---|---|---|---|---|---|\n",
       "| &lt;=2in | 0.8700989 | 0.3373534 | 0.7756741 | 0.9284443 | diameter |\n",
       "| &gt;2in  | 0.7591827 | 0.3400627 | 0.6181476 | 0.8599307 | diameter |\n",
       "\n",
       "\n",
       "$light\n",
       ":   \n",
       "A ggeffects: 2 × 6\n",
       "\n",
       "| x &lt;fct&gt; | predicted &lt;dbl&gt; | std.error &lt;dbl&gt; | conf.low &lt;dbl&gt; | conf.high &lt;dbl&gt; | group &lt;chr&gt; |\n",
       "|---|---|---|---|---|---|\n",
       "| sunny | 0.8700989 | 0.3373534 | 0.7756741 | 0.9284443 | light |\n",
       "| shady | 0.7472830 | 0.2344056 | 0.6512975 | 0.8239875 | light |\n",
       "\n",
       "\n",
       "$time\n",
       ":   \n",
       "A ggeffects: 3 × 6\n",
       "\n",
       "| x &lt;fct&gt; | predicted &lt;dbl&gt; | std.error &lt;dbl&gt; | conf.low &lt;dbl&gt; | conf.high &lt;dbl&gt; | group &lt;chr&gt; |\n",
       "|---|---|---|---|---|---|\n",
       "| early  | 0.8700989 | 0.3373534 | 0.7756741 | 0.9284443 | time |\n",
       "| midday | 0.8937654 | 0.3617405 | 0.8054630 | 0.9447364 | time |\n",
       "| late   | 0.7639614 | 0.3501963 | 0.6196705 | 0.8654011 | time |\n",
       "\n",
       "\n",
       "\n",
       "\n"
      ],
      "text/plain": [
       "$height\n",
       "\u001b[34m# Predicted probabilities of cbind(grahami, opalinus)\n",
       "\u001b[39m\n",
       "height | Predicted |       95% CI\n",
       "---------------------------------\n",
       "<5ft   |      0.87 | [0.78, 0.93]\n",
       ">=5ft  |      0.95 | [0.91, 0.98]\n",
       "\u001b[34m\n",
       "Adjusted for:\n",
       "* diameter = <=2in\n",
       "*    light = sunny\n",
       "*     time = early\u001b[39m\n",
       "\n",
       "$diameter\n",
       "\u001b[34m# Predicted probabilities of cbind(grahami, opalinus)\n",
       "\u001b[39m\n",
       "diameter | Predicted |       95% CI\n",
       "-----------------------------------\n",
       "<=2in    |      0.87 | [0.78, 0.93]\n",
       ">2in     |      0.76 | [0.62, 0.86]\n",
       "\u001b[34m\n",
       "Adjusted for:\n",
       "* height =  <5ft\n",
       "*  light = sunny\n",
       "*   time = early\u001b[39m\n",
       "\n",
       "$light\n",
       "\u001b[34m# Predicted probabilities of cbind(grahami, opalinus)\n",
       "\u001b[39m\n",
       "light | Predicted |       95% CI\n",
       "--------------------------------\n",
       "sunny |      0.87 | [0.78, 0.93]\n",
       "shady |      0.75 | [0.65, 0.82]\n",
       "\u001b[34m\n",
       "Adjusted for:\n",
       "*   height =  <5ft\n",
       "* diameter = <=2in\n",
       "*     time = early\u001b[39m\n",
       "\n",
       "$time\n",
       "\u001b[34m# Predicted probabilities of cbind(grahami, opalinus)\n",
       "\u001b[39m\n",
       "time   | Predicted |       95% CI\n",
       "---------------------------------\n",
       "early  |      0.87 | [0.78, 0.93]\n",
       "midday |      0.89 | [0.81, 0.94]\n",
       "late   |      0.76 | [0.62, 0.87]\n",
       "\u001b[34m\n",
       "Adjusted for:\n",
       "*   height =  <5ft\n",
       "* diameter = <=2in\n",
       "*    light = sunny\u001b[39m\n",
       "\n",
       "attr(,\"class\")\n",
       "[1] \"ggalleffects\" \"list\"        \n",
       "attr(,\"model.name\")\n",
       "[1] \"lizardsBR_mean\""
      ]
     },
     "metadata": {},
     "output_type": "display_data"
    }
   ],
   "source": [
    "ggpredict(lizardsBR_mean, c())"
   ]
  },
  {
   "cell_type": "code",
   "execution_count": 65,
   "id": "9cfc5fe5",
   "metadata": {},
   "outputs": [
    {
     "data": {
      "text/plain": [
       "\n",
       "Call:  glm(formula = cbind(cInd, cNet) ~ Treat + Donor, family = binomial, \n",
       "    data = offr, method = \"brglmFit\")\n",
       "\n",
       "Coefficients:\n",
       "(Intercept)    TreatHiFi   DonorD3742   DonorD3908  \n",
       "    -7.1552      -0.4668       0.9278       0.6128  \n",
       "\n",
       "Degrees of Freedom: 16 Total (i.e. Null);  13 Residual\n",
       "Null Deviance:\t    400.7 \n",
       "Residual Deviance: 192.9 \tAIC: 302.4"
      ]
     },
     "metadata": {},
     "output_type": "display_data"
    }
   ],
   "source": [
    "mme"
   ]
  },
  {
   "cell_type": "code",
   "execution_count": 66,
   "id": "416c4832",
   "metadata": {},
   "outputs": [
    {
     "data": {
      "text/html": [
       "<dl>\n",
       "\t<dt>$Treat</dt>\n",
       "\t\t<dd><table class=\"dataframe\">\n",
       "<caption>A ggeffects: 2 × 6</caption>\n",
       "<thead>\n",
       "\t<tr><th scope=col>x</th><th scope=col>predicted</th><th scope=col>std.error</th><th scope=col>conf.low</th><th scope=col>conf.high</th><th scope=col>group</th></tr>\n",
       "\t<tr><th scope=col>&lt;fct&gt;</th><th scope=col>&lt;dbl&gt;</th><th scope=col>&lt;dbl&gt;</th><th scope=col>&lt;dbl&gt;</th><th scope=col>&lt;dbl&gt;</th><th scope=col>&lt;chr&gt;</th></tr>\n",
       "</thead>\n",
       "<tbody>\n",
       "\t<tr><td>NoEP</td><td>0.001970643</td><td>0.05006053</td><td>0.001786802</td><td>0.002173359</td><td>Treat</td></tr>\n",
       "\t<tr><td>HiFi</td><td>0.001236480</td><td>0.05010296</td><td>0.001120959</td><td>0.001363891</td><td>Treat</td></tr>\n",
       "</tbody>\n",
       "</table>\n",
       "</dd>\n",
       "\t<dt>$Donor</dt>\n",
       "\t\t<dd><table class=\"dataframe\">\n",
       "<caption>A ggeffects: 3 × 6</caption>\n",
       "<thead>\n",
       "\t<tr><th scope=col>x</th><th scope=col>predicted</th><th scope=col>std.error</th><th scope=col>conf.low</th><th scope=col>conf.high</th><th scope=col>group</th></tr>\n",
       "\t<tr><th scope=col>&lt;fct&gt;</th><th scope=col>&lt;dbl&gt;</th><th scope=col>&lt;dbl&gt;</th><th scope=col>&lt;dbl&gt;</th><th scope=col>&lt;dbl&gt;</th><th scope=col>&lt;chr&gt;</th></tr>\n",
       "</thead>\n",
       "<tbody>\n",
       "\t<tr><td>D3734</td><td>0.0007801788</td><td>0.06935972</td><td>0.000681080</td><td>0.0008936839</td><td>Donor</td></tr>\n",
       "\t<tr><td>D3742</td><td>0.0019706432</td><td>0.05006053</td><td>0.001786802</td><td>0.0021733585</td><td>Donor</td></tr>\n",
       "\t<tr><td>D3908</td><td>0.0014388989</td><td>0.05038237</td><td>0.001303778</td><td>0.0015880017</td><td>Donor</td></tr>\n",
       "</tbody>\n",
       "</table>\n",
       "</dd>\n",
       "</dl>\n"
      ],
      "text/latex": [
       "\\begin{description}\n",
       "\\item[\\$Treat] A ggeffects: 2 × 6\n",
       "\\begin{tabular}{llllll}\n",
       " x & predicted & std.error & conf.low & conf.high & group\\\\\n",
       " <fct> & <dbl> & <dbl> & <dbl> & <dbl> & <chr>\\\\\n",
       "\\hline\n",
       "\t NoEP & 0.001970643 & 0.05006053 & 0.001786802 & 0.002173359 & Treat\\\\\n",
       "\t HiFi & 0.001236480 & 0.05010296 & 0.001120959 & 0.001363891 & Treat\\\\\n",
       "\\end{tabular}\n",
       "\n",
       "\\item[\\$Donor] A ggeffects: 3 × 6\n",
       "\\begin{tabular}{llllll}\n",
       " x & predicted & std.error & conf.low & conf.high & group\\\\\n",
       " <fct> & <dbl> & <dbl> & <dbl> & <dbl> & <chr>\\\\\n",
       "\\hline\n",
       "\t D3734 & 0.0007801788 & 0.06935972 & 0.000681080 & 0.0008936839 & Donor\\\\\n",
       "\t D3742 & 0.0019706432 & 0.05006053 & 0.001786802 & 0.0021733585 & Donor\\\\\n",
       "\t D3908 & 0.0014388989 & 0.05038237 & 0.001303778 & 0.0015880017 & Donor\\\\\n",
       "\\end{tabular}\n",
       "\n",
       "\\end{description}\n"
      ],
      "text/markdown": [
       "$Treat\n",
       ":   \n",
       "A ggeffects: 2 × 6\n",
       "\n",
       "| x &lt;fct&gt; | predicted &lt;dbl&gt; | std.error &lt;dbl&gt; | conf.low &lt;dbl&gt; | conf.high &lt;dbl&gt; | group &lt;chr&gt; |\n",
       "|---|---|---|---|---|---|\n",
       "| NoEP | 0.001970643 | 0.05006053 | 0.001786802 | 0.002173359 | Treat |\n",
       "| HiFi | 0.001236480 | 0.05010296 | 0.001120959 | 0.001363891 | Treat |\n",
       "\n",
       "\n",
       "$Donor\n",
       ":   \n",
       "A ggeffects: 3 × 6\n",
       "\n",
       "| x &lt;fct&gt; | predicted &lt;dbl&gt; | std.error &lt;dbl&gt; | conf.low &lt;dbl&gt; | conf.high &lt;dbl&gt; | group &lt;chr&gt; |\n",
       "|---|---|---|---|---|---|\n",
       "| D3734 | 0.0007801788 | 0.06935972 | 0.000681080 | 0.0008936839 | Donor |\n",
       "| D3742 | 0.0019706432 | 0.05006053 | 0.001786802 | 0.0021733585 | Donor |\n",
       "| D3908 | 0.0014388989 | 0.05038237 | 0.001303778 | 0.0015880017 | Donor |\n",
       "\n",
       "\n",
       "\n",
       "\n"
      ],
      "text/plain": [
       "$Treat\n",
       "\u001b[34m# Predicted probabilities of cbind(cInd, cNet)\n",
       "\u001b[39m\n",
       "Treat | Predicted |       95% CI\n",
       "--------------------------------\n",
       "NoEP  |         0 | [0.00, 0.00]\n",
       "HiFi  |         0 | [0.00, 0.00]\n",
       "\u001b[34m\n",
       "Adjusted for:\n",
       "* Donor = D3742\u001b[39m\n",
       "\n",
       "$Donor\n",
       "\u001b[34m# Predicted probabilities of cbind(cInd, cNet)\n",
       "\u001b[39m\n",
       "Donor | Predicted |       95% CI\n",
       "--------------------------------\n",
       "D3734 |         0 | [0.00, 0.00]\n",
       "D3742 |         0 | [0.00, 0.00]\n",
       "D3908 |         0 | [0.00, 0.00]\n",
       "\u001b[34m\n",
       "Adjusted for:\n",
       "* Treat = NoEP\u001b[39m\n",
       "\n",
       "attr(,\"class\")\n",
       "[1] \"ggalleffects\" \"list\"        \n",
       "attr(,\"model.name\")\n",
       "[1] \"mme\""
      ]
     },
     "metadata": {},
     "output_type": "display_data"
    }
   ],
   "source": [
    "ggpredict(mme)       "
   ]
  },
  {
   "cell_type": "code",
   "execution_count": 69,
   "id": "a7fbd0e7",
   "metadata": {},
   "outputs": [
    {
     "data": {
      "text/html": [
       "<table class=\"dataframe\">\n",
       "<caption>A matrix: 4 × 4 of type dbl</caption>\n",
       "<thead>\n",
       "\t<tr><th></th><th scope=col>Estimate</th><th scope=col>Std. Error</th><th scope=col>z value</th><th scope=col>Pr(&gt;|z|)</th></tr>\n",
       "</thead>\n",
       "<tbody>\n",
       "\t<tr><th scope=row>(Intercept)</th><td>-7.1552069</td><td>0.06935972</td><td>-103.160835</td><td>0.000000e+00</td></tr>\n",
       "\t<tr><th scope=row>TreatHiFi</th><td>-0.4668264</td><td>0.05721498</td><td>  -8.159163</td><td>3.373539e-16</td></tr>\n",
       "\t<tr><th scope=row>DonorD3742</th><td> 0.9277842</td><td>0.07811364</td><td>  11.877365</td><td>1.551823e-32</td></tr>\n",
       "\t<tr><th scope=row>DonorD3908</th><td> 0.6127697</td><td>0.08075418</td><td>   7.588087</td><td>3.246636e-14</td></tr>\n",
       "</tbody>\n",
       "</table>\n"
      ],
      "text/latex": [
       "A matrix: 4 × 4 of type dbl\n",
       "\\begin{tabular}{r|llll}\n",
       "  & Estimate & Std. Error & z value & Pr(>\\textbar{}z\\textbar{})\\\\\n",
       "\\hline\n",
       "\t(Intercept) & -7.1552069 & 0.06935972 & -103.160835 & 0.000000e+00\\\\\n",
       "\tTreatHiFi & -0.4668264 & 0.05721498 &   -8.159163 & 3.373539e-16\\\\\n",
       "\tDonorD3742 &  0.9277842 & 0.07811364 &   11.877365 & 1.551823e-32\\\\\n",
       "\tDonorD3908 &  0.6127697 & 0.08075418 &    7.588087 & 3.246636e-14\\\\\n",
       "\\end{tabular}\n"
      ],
      "text/markdown": [
       "\n",
       "A matrix: 4 × 4 of type dbl\n",
       "\n",
       "| <!--/--> | Estimate | Std. Error | z value | Pr(&gt;|z|) |\n",
       "|---|---|---|---|---|\n",
       "| (Intercept) | -7.1552069 | 0.06935972 | -103.160835 | 0.000000e+00 |\n",
       "| TreatHiFi | -0.4668264 | 0.05721498 |   -8.159163 | 3.373539e-16 |\n",
       "| DonorD3742 |  0.9277842 | 0.07811364 |   11.877365 | 1.551823e-32 |\n",
       "| DonorD3908 |  0.6127697 | 0.08075418 |    7.588087 | 3.246636e-14 |\n",
       "\n"
      ],
      "text/plain": [
       "            Estimate   Std. Error z value     Pr(>|z|)    \n",
       "(Intercept) -7.1552069 0.06935972 -103.160835 0.000000e+00\n",
       "TreatHiFi   -0.4668264 0.05721498   -8.159163 3.373539e-16\n",
       "DonorD3742   0.9277842 0.07811364   11.877365 1.551823e-32\n",
       "DonorD3908   0.6127697 0.08075418    7.588087 3.246636e-14"
      ]
     },
     "metadata": {},
     "output_type": "display_data"
    }
   ],
   "source": [
    "coef(summary(mme))"
   ]
  },
  {
   "cell_type": "code",
   "execution_count": null,
   "id": "6ba39b6e",
   "metadata": {},
   "outputs": [],
   "source": []
  },
  {
   "cell_type": "code",
   "execution_count": 73,
   "id": "0ee656ab",
   "metadata": {},
   "outputs": [
    {
     "data": {
      "text/html": [
       "1.68676929752456e-16"
      ],
      "text/latex": [
       "1.68676929752456e-16"
      ],
      "text/markdown": [
       "1.68676929752456e-16"
      ],
      "text/plain": [
       "[1] 1.686769e-16"
      ]
     },
     "metadata": {},
     "output_type": "display_data"
    }
   ],
   "source": [
    "pnorm(coef(summary(mme))[\"TreatHiFi\",\"z value\"])"
   ]
  },
  {
   "cell_type": "code",
   "execution_count": 28,
   "id": "9423caa8",
   "metadata": {},
   "outputs": [],
   "source": [
    "# inputDataInfo=data.table(Donor=c(\"0\"),Treat=c(\"0\"),cInd=0,cTot=0)\n",
    "offrAll=NULL\n",
    "woutDFAll=NULL\n",
    "folders=c(\"raw\")"
   ]
  },
  {
   "cell_type": "code",
   "execution_count": null,
   "id": "372bf121",
   "metadata": {
    "scrolled": true
   },
   "outputs": [],
   "source": [
    "for(qq in 1:length(folders)){\n",
    "    print(folders[qq])\n",
    "    basedir=file.path(\"/data/pinello/PROJECTS/2022_04_LVOT/trimmed_fastq_vpooled_all/CRISPRessoBatch_alleles_umi\",folders[qq])\n",
    "    basedirRes=file.path(\"/data/pinello/PROJECTS/2022_04_LVOT/trimmed_fastq_vpooled_all/CRISPRessoBatch_alleles_umi\",folders[qq],\"results\")\n",
    "    setwd(basedir)\n",
    "    files=dir(pattern = \"*.txt\")\n",
    "    filesSplit=unique(unlist(lapply(strsplit(files,split = \"_\"),function(x) paste(x[1:4],sep=\"_\",collapse = \"_\") )))\n",
    "    woutDF=NULL               \n",
    "\n",
    "    for(fileS in 1:length(filesSplit)){\n",
    "        filesLocus=dir(pattern=filesSplit[fileS])\n",
    "        dataAll=NULL\n",
    "        offr=read.csv(\"/data/pinello/PROJECTS/2022_04_LVOT/dataInfomatrix\", header = TRUE)\n",
    "        for(fileL in 1:length(filesLocus)){\n",
    "          dataRep = fread(filesLocus[fileL], sep=\"\\t\",header = T)\n",
    "          offr[fileL,\"Donor\"]=unique(unlist(lapply(strsplit(filesLocus[fileL],split = \"_\"),function(x) x[7] )))\n",
    "          offr[fileL,\"Treat\"]=unique(unlist(lapply(strsplit(filesLocus[fileL],split = \"_\"),function(x) x[8] )))\n",
    "          offr$cInd[fileL]=sum(dataRep$'#Reads'[dataRep$Unedited==\"FALSE\"])\n",
    "          offr$cTot[fileL]=sum(dataRep$'#Reads')\n",
    "        }\n",
    "        # offr[,S:=NULL]\n",
    "        # addind xs, col for graphical output\n",
    "        offr$xs=as.numeric(factor(offr$Donor))\n",
    "        offr$xs[offr$Treat==\"HiFi\"]=offr$xs[offr$Treat==\"HiFi\"]+0.1\n",
    "        offr$xs[offr$Treat==\"NoEP\"]=offr$xs[offr$Treat==\"NoEP\"]-0.1\n",
    "        offr$col=ifelse(offr$Treat==\"HiFi\",\"cornflowerblue\",\"grey40\")\n",
    "\n",
    "        # make sure that NoEP is the reference level\n",
    "        offr$Treat=factor(offr$Treat)\n",
    "        offr$Treat=relevel(offr$Treat,\"NoEP\")\n",
    "        # prepare data for logistic regression using success/failures formulation  \n",
    "        offr$cNet=offr$cTot-offr$cInd\n",
    "\n",
    "        # run the logistic regression using Biased reduction formula   \n",
    "        mme=glm(cbind(cInd,cNet) ~ Treat+ Donor, data = offr, family = binomial, method = \"brglmFit\")\n",
    "        paramEstTest=as.vector(coef(summary(mme)))\n",
    "\n",
    "        # glmer(cbind(cInd,cNet) ~ Treat+ (1|Donor), data = offr, family = binomial)\n",
    "        # given the regression model estimates, calculate the predicted probabilities for Donor and Treat variables and their variances, conf. intervals \n",
    "        h=ggpredict(mme,c(\"Donor\",\"Treat\"))\n",
    "        for(oo in 1:length(h$predicted)){\n",
    "          offr$predicted[offr$Treat== h$group[oo] & offr$Donor== h$x[oo]]=h$predicted[oo]\n",
    "          offr$std.error[offr$Treat== h$group[oo] & offr$Donor== h$x[oo]]=h$std.error[oo]\n",
    "          offr$conf.high[offr$Treat== h$group[oo] & offr$Donor== h$x[oo]]=h$conf.high[oo]\n",
    "          offr$conf.low[offr$Treat== h$group[oo] & offr$Donor== h$x[oo]]=h$conf.low[oo]\n",
    "        }\n",
    "        # calculate marginal proportion (you can imagine this as weighted average across donor)\n",
    "        he=ggeffect(mme,c(\"Treat\"))\n",
    "        # he=ggpredict(mme,c(\"Treat\"))                                           \n",
    "        #####################  \n",
    "        expCoeff=c(h$predicted,h$std.error,h$conf.high,h$conf.low)\n",
    "        # baselineWT: how many donors have the Treated upper confidence interval execeding the corresponding value in the untreated condition+0.002 (0.2%)\n",
    "        baselineWT=sum(h$conf.high[seq(2, length(h$predicted),by=2)]< h$predicted[seq(1, length(h$predicted),by=2)]+0.002)\n",
    "\n",
    "        # baselineFixed: how many donors have the Treated upper confidence interval execeding 0.002 (0.2%)\n",
    "        baselineFixed=sum(h$conf.high[seq(2, length(h$predicted),by=2)]<0.002)\n",
    "\n",
    "        # Treat variable coefficient estimate\n",
    "        pvalueTreatEst=coef(summary(mme))[\"TreatHiFi\",\"Estimate\"]\n",
    "\n",
    "        # Treat variable p-value  \n",
    "        # Unilater test b>0\n",
    "        pvalueTreatPval=(1-pnorm( coef(summary(mme))[\"TreatHiFi\",\"z value\"]))\n",
    "\n",
    "        # Is Treat variable significant \n",
    "        pvalueSigEffectPos=(pvalueTreatEst<0.05)*(pvalueTreatEst>0)\n",
    "\n",
    "        # Save results in woutDF data.frame\n",
    "        wout=c(pvalueTreatEst,pvalueTreatPval,paramEstTest,expCoeff,baselineWT,baselineFixed,pvalueSigEffectPos,he$predicted)\n",
    "        if(is.null(woutDF)){\n",
    "            woutDF=matrix(0,nrow = length(filesSplit), ncol=length(wout))\n",
    "        }\n",
    "        woutDF[fileS,]=wout\n",
    "        ndonor=length(unique(offr$Donor))\n",
    "        offr$ys=offr$cInd/offr$cTot         \n",
    "                                              \n",
    "        png(filename = file.path(basedirRes,paste(filesSplit[fileS],\n",
    "                                                  \"IndelsLogisticPen\",\n",
    "                                                  paste(ifelse((pvalueTreatPval<0.05),\"Sig\",\"\")),\n",
    "                                                  paste(ifelse((pvalueTreatEst>0),\"Pos\",\"\")),\n",
    "                                                  \"bWT\",baselineWT,\n",
    "                                                  \"bF\",baselineFixed,\n",
    "                                                  \"SigPos\",pvalueSigEffectPos,\n",
    "                                                  \".png\",sep = \"_\")),    width =4, height = 4, units = \"in\", pointsize = 12,res = 300)\n",
    "\n",
    "        plot(0,0,xlim=c(0.5,ndonor+0.5),ylim=c(0,max(c(0.003,h$conf.high,offr$ys) )),col=\"white\",xlab=\"Donor\",ylab=\"Estimate proportion\",main=paste(filesSplit[fileS],ifelse((pvalueTreatPval<0.05),\"*\",\"\")),xaxt=\"n\",\n",
    "                 sub =paste(\"Treat. Eff.:\", round(summary(mme)$coeff[2,1],4), \"Pvalue:\",round(summary(mme)$coeff[2,4],4)) )\n",
    "        axis(1, at = seq(1, 3, by = 1))\n",
    "        abline(v=1:ndonor,lty=2,col=\"grey80\")\n",
    "        abline(h=0.001,lty=2,col=\"red\")\n",
    "        abline(h=0.002,lty=1,col=\"red\")\n",
    "        for(ai in 1:length(offr$conf.low)){\n",
    "              segments(offr$xs[ai],\n",
    "                       offr$conf.low[ai],\n",
    "                       offr$xs[ai],\n",
    "                       offr$conf.high[ai],\n",
    "                       col=offr$col[ai],\n",
    "                       lwd = 5 )\n",
    "        }\n",
    "        points(offr$xs,offr$predicted,pch=\"-\",col=\"black\",lwd=1)\n",
    "        points(offr$xs,offr$ys,pch=20,col=\"black\",cex=1)\n",
    "\n",
    "            # Plot the Donor specific value estimated in the untreated + 0.002\n",
    "            #points( xs[seq(2, length(h$predicted),by=2)],h$predicted[seq(1, length(h$predicted),by=2)]+0.002,pch=4,col=\"red\",lwd=2)\n",
    "\n",
    "        dev.off()\n",
    "        fwrite(offr,file=file.path(basedirRes,filesSplit[fileS]),sep = \"\\t\",col.names = T,row.names = F)\n",
    "            #####################\n",
    "            # Generate x values for plotting\n",
    "        offr$locus=filesSplit[fileS]\n",
    "        offr$filteringSetting=folders[qq]\n",
    "        if(is.null(offrAll)){\n",
    "              offrAll=offr\n",
    "            }else{\n",
    "              offrAll=rbind(offrAll,offr)\n",
    "        }                                 \n",
    "    }\n",
    "    woutDF=as.data.frame(woutDF)\n",
    "    woutDF$offtarget=filesSplit\n",
    "    woutDF$adjpvalue=p.adjust(woutDF[,2],method = \"fdr\")\n",
    "    fwrite(woutDF,file=file.path(basedir,\"summaryResultsMargPredict\"),sep = \"\\t\",col.names = T,row.names = F)\n",
    "\n",
    "    sp<-ggplot() +\n",
    "        geom_point(data=offrAll[offrAll$Treat==\"NoEP\",], aes(x=factor(Donor), y=ys),position=position_nudge(x = -0.2, y = 0),size = 1,colour=\"grey40\")+\n",
    "        geom_segment(\n",
    "          data = offrAll[offrAll$Treat==\"NoEP\",],\n",
    "          mapping = aes(x=factor(Donor),\n",
    "                        y=conf.low,\n",
    "                        xend=factor(Donor),\n",
    "                        yend=conf.high\n",
    "                        #,position=position_dodge(width = 0.50, preserve = \"total\")\n",
    "          ),\n",
    "          position = position_nudge(x = -0.2, y = 0),\n",
    "          colour=\"grey40\",linewidth = 1\n",
    "        )+\n",
    "        geom_point(data=offrAll[offrAll$Treat==\"NoEP\",], aes(x=factor(Donor), y=predicted),position=position_nudge(x = -0.2, y = 0),size = 1,colour=\"grey40\",shape=3)+\n",
    "        geom_point(data=offrAll[offrAll$Treat==\"HiFi\",],\n",
    "                       aes(x=factor(Donor), y=ys),\n",
    "                       position=position_nudge(x = 0.2, y = 0),size = 1,colour=\"cornflowerblue\")+\n",
    "        geom_point(data=offrAll[offrAll$Treat==\"HiFi\",],\n",
    "                       aes(x=factor(Donor), y=predicted),\n",
    "                       position=position_nudge(x = 0.2, y = 0),size = 1,colour=\"cornflowerblue\",shape=3)+\n",
    "\n",
    "        geom_segment(\n",
    "              data = offrAll[offrAll$Treat==\"HiFi\",],\n",
    "              mapping = aes(x=factor(Donor),\n",
    "                            y=conf.low,\n",
    "                            xend=factor(Donor),\n",
    "                            yend=conf.high\n",
    "                            #,position=position_dodge(width = 0.50, preserve = \"total\")\n",
    "              ),\n",
    "              position = position_nudge(x = 0.2, y = 0),\n",
    "              colour=\"cornflowerblue\",linewidth = 1\n",
    "            )+\n",
    "            theme_bw(base_size = 8)+\n",
    "            theme(axis.text.x = element_text(angle = 90, vjust = 1, hjust=1),\n",
    "                  strip.text.x = element_text(angle = 90,vjust = 0.5),\n",
    "                  strip.background = element_rect(\n",
    "                    color=\"white\", fill=\"white\")\n",
    "        )+\n",
    "        xlab(\"\")+\n",
    "        ylab(\"Prop. Indels\")+\n",
    "        #scale_x_discrete(\"Donor\", breaks=c(1:3), labels=c(\"Donor1\",\"Donor2\",\"Donor3\"))+\n",
    "        geom_vline(xintercept = 1:3, linetype = 3, colour = \"grey80\")+\n",
    "        #  ylim(c(0.0,0.1))+\n",
    "        facet_grid(.~locus)\n",
    "        ggsave(sp,filename = file.path(basedir,paste( folders[qq],\"All.png\",sep = \"_\",collapse = \"_\")),width = 36,height = 7,units = \"in\", dpi = 300)\n",
    "\n",
    "    woutDF$folder=folders[qq]\n",
    "    woutDFAll=rbind(woutDFAll,woutDF)\n",
    "}"
   ]
  },
  {
   "cell_type": "code",
   "execution_count": 36,
   "id": "ace6f0dc",
   "metadata": {},
   "outputs": [
    {
     "ename": "ERROR",
     "evalue": "Error in eval(expr, envir, enclos): object 'cInd' not found\n",
     "output_type": "error",
     "traceback": [
      "Error in eval(expr, envir, enclos): object 'cInd' not found\nTraceback:\n"
     ]
    }
   ],
   "source": [
    "cInd"
   ]
  },
  {
   "cell_type": "code",
   "execution_count": 31,
   "id": "fc4f65ae",
   "metadata": {
    "scrolled": true
   },
   "outputs": [],
   "source": [
    "basedir=\"/data/pinello/PROJECTS/2022_04_LVOT/trimmed_fastq_vpooled_all/CRISPRessoBatch_alleles_umi/globalResults_raw_rawClass1_rawClass2_rawClass3\"\n",
    "\n",
    "fwrite(woutDFAll,file=file.path(basedir,\"summaryResultsAllSettings\"),sep = \"\\t\",col.names = T,row.names = F)\n",
    "woutDFAllBack=woutDFAll\n",
    "woutDFAllBack$marginalPredCrtl=woutDFAll$V46\n",
    "woutDFAllBack$marginalPredTrear=woutDFAll$V47\n",
    "fwrite(woutDFAllBack,file=file.path(basedir,\"summaryResultsAllSettingsPowerMarginal\"),sep = \"\\t\",col.names = T,row.names = F)\n",
    "\n",
    "woutDFAllBack$marginalPredInc=woutDFAllBack$marginalPredTrear-woutDFAllBack$marginalPredCrtl\n",
    "woutDFAll=woutDFAllBack\n",
    "\n",
    "udonor=unique(offrAll$Donor)\n",
    "ulocus=unique(offrAll$locus)\n",
    "ufilteringSetting= unique(woutDFAll$folder)"
   ]
  },
  {
   "cell_type": "code",
   "execution_count": 37,
   "id": "78cfcc31",
   "metadata": {},
   "outputs": [
    {
     "data": {
      "text/html": [
       "<style>\n",
       ".list-inline {list-style: none; margin:0; padding: 0}\n",
       ".list-inline>li {display: inline-block}\n",
       ".list-inline>li:not(:last-child)::after {content: \"\\00b7\"; padding: 0 .5ex}\n",
       "</style>\n",
       "<ol class=list-inline><li>33</li><li>138</li><li>23</li><li>142</li><li>190</li><li>52</li><li>83</li><li>130</li><li>38</li><li>46</li><li>74</li><li>90</li><li>40</li><li>45</li><li>92</li><li>21</li><li>47</li></ol>\n"
      ],
      "text/latex": [
       "\\begin{enumerate*}\n",
       "\\item 33\n",
       "\\item 138\n",
       "\\item 23\n",
       "\\item 142\n",
       "\\item 190\n",
       "\\item 52\n",
       "\\item 83\n",
       "\\item 130\n",
       "\\item 38\n",
       "\\item 46\n",
       "\\item 74\n",
       "\\item 90\n",
       "\\item 40\n",
       "\\item 45\n",
       "\\item 92\n",
       "\\item 21\n",
       "\\item 47\n",
       "\\end{enumerate*}\n"
      ],
      "text/markdown": [
       "1. 33\n",
       "2. 138\n",
       "3. 23\n",
       "4. 142\n",
       "5. 190\n",
       "6. 52\n",
       "7. 83\n",
       "8. 130\n",
       "9. 38\n",
       "10. 46\n",
       "11. 74\n",
       "12. 90\n",
       "13. 40\n",
       "14. 45\n",
       "15. 92\n",
       "16. 21\n",
       "17. 47\n",
       "\n",
       "\n"
      ],
      "text/plain": [
       " [1]  33 138  23 142 190  52  83 130  38  46  74  90  40  45  92  21  47"
      ]
     },
     "metadata": {},
     "output_type": "display_data"
    }
   ],
   "source": [
    "offr$cInd"
   ]
  },
  {
   "cell_type": "code",
   "execution_count": 38,
   "id": "2d4e8d02",
   "metadata": {},
   "outputs": [
    {
     "data": {
      "text/html": [
       "<style>\n",
       ".list-inline {list-style: none; margin:0; padding: 0}\n",
       ".list-inline>li {display: inline-block}\n",
       ".list-inline>li:not(:last-child)::after {content: \"\\00b7\"; padding: 0 .5ex}\n",
       "</style>\n",
       "<ol class=list-inline><li>74032</li><li>112950</li><li>34263</li><li>52754</li><li>76407</li><li>21482</li><li>59090</li><li>84313</li><li>100325</li><li>31306</li><li>77662</li><li>90516</li><li>44461</li><li>65003</li><li>85365</li><li>34555</li><li>92076</li></ol>\n"
      ],
      "text/latex": [
       "\\begin{enumerate*}\n",
       "\\item 74032\n",
       "\\item 112950\n",
       "\\item 34263\n",
       "\\item 52754\n",
       "\\item 76407\n",
       "\\item 21482\n",
       "\\item 59090\n",
       "\\item 84313\n",
       "\\item 100325\n",
       "\\item 31306\n",
       "\\item 77662\n",
       "\\item 90516\n",
       "\\item 44461\n",
       "\\item 65003\n",
       "\\item 85365\n",
       "\\item 34555\n",
       "\\item 92076\n",
       "\\end{enumerate*}\n"
      ],
      "text/markdown": [
       "1. 74032\n",
       "2. 112950\n",
       "3. 34263\n",
       "4. 52754\n",
       "5. 76407\n",
       "6. 21482\n",
       "7. 59090\n",
       "8. 84313\n",
       "9. 100325\n",
       "10. 31306\n",
       "11. 77662\n",
       "12. 90516\n",
       "13. 44461\n",
       "14. 65003\n",
       "15. 85365\n",
       "16. 34555\n",
       "17. 92076\n",
       "\n",
       "\n"
      ],
      "text/plain": [
       " [1]  74032 112950  34263  52754  76407  21482  59090  84313 100325  31306\n",
       "[11]  77662  90516  44461  65003  85365  34555  92076"
      ]
     },
     "metadata": {},
     "output_type": "display_data"
    }
   ],
   "source": [
    "offr$cTot"
   ]
  },
  {
   "cell_type": "code",
   "execution_count": 39,
   "id": "686d0d96",
   "metadata": {},
   "outputs": [
    {
     "data": {
      "text/html": [
       "<style>\n",
       ".list-inline {list-style: none; margin:0; padding: 0}\n",
       ".list-inline>li {display: inline-block}\n",
       ".list-inline>li:not(:last-child)::after {content: \"\\00b7\"; padding: 0 .5ex}\n",
       "</style>\n",
       "<ol class=list-inline><li>HiFi</li><li>HiFi</li><li>HiFi</li><li>NoEP</li><li>NoEP</li><li>NoEP</li><li>HiFi</li><li>HiFi</li><li>HiFi</li><li>HiFi</li><li>NoEP</li><li>NoEP</li><li>NoEP</li><li>NoEP</li><li>NoEP</li><li>NoEP</li><li>HiFi</li></ol>\n",
       "\n",
       "<details>\n",
       "\t<summary style=display:list-item;cursor:pointer>\n",
       "\t\t<strong>Levels</strong>:\n",
       "\t</summary>\n",
       "\t<style>\n",
       "\t.list-inline {list-style: none; margin:0; padding: 0}\n",
       "\t.list-inline>li {display: inline-block}\n",
       "\t.list-inline>li:not(:last-child)::after {content: \"\\00b7\"; padding: 0 .5ex}\n",
       "\t</style>\n",
       "\t<ol class=list-inline><li>'NoEP'</li><li>'HiFi'</li></ol>\n",
       "</details>"
      ],
      "text/latex": [
       "\\begin{enumerate*}\n",
       "\\item HiFi\n",
       "\\item HiFi\n",
       "\\item HiFi\n",
       "\\item NoEP\n",
       "\\item NoEP\n",
       "\\item NoEP\n",
       "\\item HiFi\n",
       "\\item HiFi\n",
       "\\item HiFi\n",
       "\\item HiFi\n",
       "\\item NoEP\n",
       "\\item NoEP\n",
       "\\item NoEP\n",
       "\\item NoEP\n",
       "\\item NoEP\n",
       "\\item NoEP\n",
       "\\item HiFi\n",
       "\\end{enumerate*}\n",
       "\n",
       "\\emph{Levels}: \\begin{enumerate*}\n",
       "\\item 'NoEP'\n",
       "\\item 'HiFi'\n",
       "\\end{enumerate*}\n"
      ],
      "text/markdown": [
       "1. HiFi\n",
       "2. HiFi\n",
       "3. HiFi\n",
       "4. NoEP\n",
       "5. NoEP\n",
       "6. NoEP\n",
       "7. HiFi\n",
       "8. HiFi\n",
       "9. HiFi\n",
       "10. HiFi\n",
       "11. NoEP\n",
       "12. NoEP\n",
       "13. NoEP\n",
       "14. NoEP\n",
       "15. NoEP\n",
       "16. NoEP\n",
       "17. HiFi\n",
       "\n",
       "\n",
       "\n",
       "**Levels**: 1. 'NoEP'\n",
       "2. 'HiFi'\n",
       "\n",
       "\n"
      ],
      "text/plain": [
       " [1] HiFi HiFi HiFi NoEP NoEP NoEP HiFi HiFi HiFi HiFi NoEP NoEP NoEP NoEP NoEP\n",
       "[16] NoEP HiFi\n",
       "Levels: NoEP HiFi"
      ]
     },
     "metadata": {},
     "output_type": "display_data"
    }
   ],
   "source": [
    "offr$Treat"
   ]
  },
  {
   "cell_type": "code",
   "execution_count": 41,
   "id": "363e3055",
   "metadata": {},
   "outputs": [
    {
     "data": {
      "text/html": [
       "<style>\n",
       ".list-inline {list-style: none; margin:0; padding: 0}\n",
       ".list-inline>li {display: inline-block}\n",
       ".list-inline>li:not(:last-child)::after {content: \"\\00b7\"; padding: 0 .5ex}\n",
       "</style>\n",
       "<ol class=list-inline><li>'D3734'</li><li>'D3742'</li><li>'D3742'</li><li>'D3742'</li><li>'D3742'</li><li>'D3742'</li><li>'D3908'</li><li>'D3908'</li><li>'D3734'</li><li>'D3908'</li><li>'D3908'</li><li>'D3908'</li><li>'D3908'</li><li>'D3734'</li><li>'D3734'</li><li>'D3734'</li><li>'D3742'</li></ol>\n"
      ],
      "text/latex": [
       "\\begin{enumerate*}\n",
       "\\item 'D3734'\n",
       "\\item 'D3742'\n",
       "\\item 'D3742'\n",
       "\\item 'D3742'\n",
       "\\item 'D3742'\n",
       "\\item 'D3742'\n",
       "\\item 'D3908'\n",
       "\\item 'D3908'\n",
       "\\item 'D3734'\n",
       "\\item 'D3908'\n",
       "\\item 'D3908'\n",
       "\\item 'D3908'\n",
       "\\item 'D3908'\n",
       "\\item 'D3734'\n",
       "\\item 'D3734'\n",
       "\\item 'D3734'\n",
       "\\item 'D3742'\n",
       "\\end{enumerate*}\n"
      ],
      "text/markdown": [
       "1. 'D3734'\n",
       "2. 'D3742'\n",
       "3. 'D3742'\n",
       "4. 'D3742'\n",
       "5. 'D3742'\n",
       "6. 'D3742'\n",
       "7. 'D3908'\n",
       "8. 'D3908'\n",
       "9. 'D3734'\n",
       "10. 'D3908'\n",
       "11. 'D3908'\n",
       "12. 'D3908'\n",
       "13. 'D3908'\n",
       "14. 'D3734'\n",
       "15. 'D3734'\n",
       "16. 'D3734'\n",
       "17. 'D3742'\n",
       "\n",
       "\n"
      ],
      "text/plain": [
       " [1] \"D3734\" \"D3742\" \"D3742\" \"D3742\" \"D3742\" \"D3742\" \"D3908\" \"D3908\" \"D3734\"\n",
       "[10] \"D3908\" \"D3908\" \"D3908\" \"D3908\" \"D3734\" \"D3734\" \"D3734\" \"D3742\""
      ]
     },
     "metadata": {},
     "output_type": "display_data"
    }
   ],
   "source": [
    "offr$Donor"
   ]
  },
  {
   "cell_type": "code",
   "execution_count": 43,
   "id": "e7925e14",
   "metadata": {},
   "outputs": [
    {
     "data": {
      "text/html": [
       "<style>\n",
       ".list-inline {list-style: none; margin:0; padding: 0}\n",
       ".list-inline>li {display: inline-block}\n",
       ".list-inline>li:not(:last-child)::after {content: \"\\00b7\"; padding: 0 .5ex}\n",
       "</style>\n",
       "<ol class=list-inline><li>74032</li><li>112950</li><li>34263</li><li>52754</li><li>76407</li><li>21482</li><li>59090</li><li>84313</li><li>100325</li><li>31306</li><li>77662</li><li>90516</li><li>44461</li><li>65003</li><li>85365</li><li>34555</li><li>92076</li></ol>\n"
      ],
      "text/latex": [
       "\\begin{enumerate*}\n",
       "\\item 74032\n",
       "\\item 112950\n",
       "\\item 34263\n",
       "\\item 52754\n",
       "\\item 76407\n",
       "\\item 21482\n",
       "\\item 59090\n",
       "\\item 84313\n",
       "\\item 100325\n",
       "\\item 31306\n",
       "\\item 77662\n",
       "\\item 90516\n",
       "\\item 44461\n",
       "\\item 65003\n",
       "\\item 85365\n",
       "\\item 34555\n",
       "\\item 92076\n",
       "\\end{enumerate*}\n"
      ],
      "text/markdown": [
       "1. 74032\n",
       "2. 112950\n",
       "3. 34263\n",
       "4. 52754\n",
       "5. 76407\n",
       "6. 21482\n",
       "7. 59090\n",
       "8. 84313\n",
       "9. 100325\n",
       "10. 31306\n",
       "11. 77662\n",
       "12. 90516\n",
       "13. 44461\n",
       "14. 65003\n",
       "15. 85365\n",
       "16. 34555\n",
       "17. 92076\n",
       "\n",
       "\n"
      ],
      "text/plain": [
       " [1]  74032 112950  34263  52754  76407  21482  59090  84313 100325  31306\n",
       "[11]  77662  90516  44461  65003  85365  34555  92076"
      ]
     },
     "metadata": {},
     "output_type": "display_data"
    }
   ],
   "source": [
    "offr$cTot"
   ]
  },
  {
   "cell_type": "code",
   "execution_count": 44,
   "id": "61ce1654",
   "metadata": {},
   "outputs": [
    {
     "data": {
      "text/html": [
       "<style>\n",
       ".list-inline {list-style: none; margin:0; padding: 0}\n",
       ".list-inline>li {display: inline-block}\n",
       ".list-inline>li:not(:last-child)::after {content: \"\\00b7\"; padding: 0 .5ex}\n",
       "</style>\n",
       "<ol class=list-inline><li>33</li><li>138</li><li>23</li><li>142</li><li>190</li><li>52</li><li>83</li><li>130</li><li>38</li><li>46</li><li>74</li><li>90</li><li>40</li><li>45</li><li>92</li><li>21</li><li>47</li></ol>\n"
      ],
      "text/latex": [
       "\\begin{enumerate*}\n",
       "\\item 33\n",
       "\\item 138\n",
       "\\item 23\n",
       "\\item 142\n",
       "\\item 190\n",
       "\\item 52\n",
       "\\item 83\n",
       "\\item 130\n",
       "\\item 38\n",
       "\\item 46\n",
       "\\item 74\n",
       "\\item 90\n",
       "\\item 40\n",
       "\\item 45\n",
       "\\item 92\n",
       "\\item 21\n",
       "\\item 47\n",
       "\\end{enumerate*}\n"
      ],
      "text/markdown": [
       "1. 33\n",
       "2. 138\n",
       "3. 23\n",
       "4. 142\n",
       "5. 190\n",
       "6. 52\n",
       "7. 83\n",
       "8. 130\n",
       "9. 38\n",
       "10. 46\n",
       "11. 74\n",
       "12. 90\n",
       "13. 40\n",
       "14. 45\n",
       "15. 92\n",
       "16. 21\n",
       "17. 47\n",
       "\n",
       "\n"
      ],
      "text/plain": [
       " [1]  33 138  23 142 190  52  83 130  38  46  74  90  40  45  92  21  47"
      ]
     },
     "metadata": {},
     "output_type": "display_data"
    }
   ],
   "source": [
    "offr$cInd"
   ]
  },
  {
   "cell_type": "code",
   "execution_count": 45,
   "id": "e76d6129",
   "metadata": {},
   "outputs": [
    {
     "data": {
      "text/plain": [
       "\n",
       "Call:  glm(formula = cbind(cInd, cNet) ~ Treat + Donor, family = binomial, \n",
       "    data = offr, method = \"brglmFit\")\n",
       "\n",
       "Coefficients:\n",
       "(Intercept)    TreatHiFi   DonorD3742   DonorD3908  \n",
       "    -7.1552      -0.4668       0.9278       0.6128  \n",
       "\n",
       "Degrees of Freedom: 16 Total (i.e. Null);  13 Residual\n",
       "Null Deviance:\t    400.7 \n",
       "Residual Deviance: 192.9 \tAIC: 302.4"
      ]
     },
     "metadata": {},
     "output_type": "display_data"
    }
   ],
   "source": [
    "mme"
   ]
  },
  {
   "cell_type": "code",
   "execution_count": 56,
   "id": "3ac23881",
   "metadata": {},
   "outputs": [
    {
     "data": {
      "text/html": [
       "<dl>\n",
       "\t<dt>$Treat</dt>\n",
       "\t\t<dd><table class=\"dataframe\">\n",
       "<caption>A ggeffects: 2 × 6</caption>\n",
       "<thead>\n",
       "\t<tr><th scope=col>x</th><th scope=col>predicted</th><th scope=col>std.error</th><th scope=col>conf.low</th><th scope=col>conf.high</th><th scope=col>group</th></tr>\n",
       "\t<tr><th scope=col>&lt;fct&gt;</th><th scope=col>&lt;dbl&gt;</th><th scope=col>&lt;dbl&gt;</th><th scope=col>&lt;dbl&gt;</th><th scope=col>&lt;dbl&gt;</th><th scope=col>&lt;chr&gt;</th></tr>\n",
       "</thead>\n",
       "<tbody>\n",
       "\t<tr><td>NoEP</td><td>0.001970643</td><td>0.05006053</td><td>0.001786802</td><td>0.002173359</td><td>Treat</td></tr>\n",
       "\t<tr><td>HiFi</td><td>0.001236480</td><td>0.05010296</td><td>0.001120959</td><td>0.001363891</td><td>Treat</td></tr>\n",
       "</tbody>\n",
       "</table>\n",
       "</dd>\n",
       "\t<dt>$Donor</dt>\n",
       "\t\t<dd><table class=\"dataframe\">\n",
       "<caption>A ggeffects: 3 × 6</caption>\n",
       "<thead>\n",
       "\t<tr><th scope=col>x</th><th scope=col>predicted</th><th scope=col>std.error</th><th scope=col>conf.low</th><th scope=col>conf.high</th><th scope=col>group</th></tr>\n",
       "\t<tr><th scope=col>&lt;fct&gt;</th><th scope=col>&lt;dbl&gt;</th><th scope=col>&lt;dbl&gt;</th><th scope=col>&lt;dbl&gt;</th><th scope=col>&lt;dbl&gt;</th><th scope=col>&lt;chr&gt;</th></tr>\n",
       "</thead>\n",
       "<tbody>\n",
       "\t<tr><td>D3734</td><td>0.0007801788</td><td>0.06935972</td><td>0.000681080</td><td>0.0008936839</td><td>Donor</td></tr>\n",
       "\t<tr><td>D3742</td><td>0.0019706432</td><td>0.05006053</td><td>0.001786802</td><td>0.0021733585</td><td>Donor</td></tr>\n",
       "\t<tr><td>D3908</td><td>0.0014388989</td><td>0.05038237</td><td>0.001303778</td><td>0.0015880017</td><td>Donor</td></tr>\n",
       "</tbody>\n",
       "</table>\n",
       "</dd>\n",
       "</dl>\n"
      ],
      "text/latex": [
       "\\begin{description}\n",
       "\\item[\\$Treat] A ggeffects: 2 × 6\n",
       "\\begin{tabular}{llllll}\n",
       " x & predicted & std.error & conf.low & conf.high & group\\\\\n",
       " <fct> & <dbl> & <dbl> & <dbl> & <dbl> & <chr>\\\\\n",
       "\\hline\n",
       "\t NoEP & 0.001970643 & 0.05006053 & 0.001786802 & 0.002173359 & Treat\\\\\n",
       "\t HiFi & 0.001236480 & 0.05010296 & 0.001120959 & 0.001363891 & Treat\\\\\n",
       "\\end{tabular}\n",
       "\n",
       "\\item[\\$Donor] A ggeffects: 3 × 6\n",
       "\\begin{tabular}{llllll}\n",
       " x & predicted & std.error & conf.low & conf.high & group\\\\\n",
       " <fct> & <dbl> & <dbl> & <dbl> & <dbl> & <chr>\\\\\n",
       "\\hline\n",
       "\t D3734 & 0.0007801788 & 0.06935972 & 0.000681080 & 0.0008936839 & Donor\\\\\n",
       "\t D3742 & 0.0019706432 & 0.05006053 & 0.001786802 & 0.0021733585 & Donor\\\\\n",
       "\t D3908 & 0.0014388989 & 0.05038237 & 0.001303778 & 0.0015880017 & Donor\\\\\n",
       "\\end{tabular}\n",
       "\n",
       "\\end{description}\n"
      ],
      "text/markdown": [
       "$Treat\n",
       ":   \n",
       "A ggeffects: 2 × 6\n",
       "\n",
       "| x &lt;fct&gt; | predicted &lt;dbl&gt; | std.error &lt;dbl&gt; | conf.low &lt;dbl&gt; | conf.high &lt;dbl&gt; | group &lt;chr&gt; |\n",
       "|---|---|---|---|---|---|\n",
       "| NoEP | 0.001970643 | 0.05006053 | 0.001786802 | 0.002173359 | Treat |\n",
       "| HiFi | 0.001236480 | 0.05010296 | 0.001120959 | 0.001363891 | Treat |\n",
       "\n",
       "\n",
       "$Donor\n",
       ":   \n",
       "A ggeffects: 3 × 6\n",
       "\n",
       "| x &lt;fct&gt; | predicted &lt;dbl&gt; | std.error &lt;dbl&gt; | conf.low &lt;dbl&gt; | conf.high &lt;dbl&gt; | group &lt;chr&gt; |\n",
       "|---|---|---|---|---|---|\n",
       "| D3734 | 0.0007801788 | 0.06935972 | 0.000681080 | 0.0008936839 | Donor |\n",
       "| D3742 | 0.0019706432 | 0.05006053 | 0.001786802 | 0.0021733585 | Donor |\n",
       "| D3908 | 0.0014388989 | 0.05038237 | 0.001303778 | 0.0015880017 | Donor |\n",
       "\n",
       "\n",
       "\n",
       "\n"
      ],
      "text/plain": [
       "$Treat\n",
       "\u001b[34m# Predicted probabilities of cbind(cInd, cNet)\n",
       "\u001b[39m\n",
       "Treat | Predicted |       95% CI\n",
       "--------------------------------\n",
       "NoEP  |         0 | [0.00, 0.00]\n",
       "HiFi  |         0 | [0.00, 0.00]\n",
       "\u001b[34m\n",
       "Adjusted for:\n",
       "* Donor = D3742\u001b[39m\n",
       "\n",
       "$Donor\n",
       "\u001b[34m# Predicted probabilities of cbind(cInd, cNet)\n",
       "\u001b[39m\n",
       "Donor | Predicted |       95% CI\n",
       "--------------------------------\n",
       "D3734 |         0 | [0.00, 0.00]\n",
       "D3742 |         0 | [0.00, 0.00]\n",
       "D3908 |         0 | [0.00, 0.00]\n",
       "\u001b[34m\n",
       "Adjusted for:\n",
       "* Treat = NoEP\u001b[39m\n",
       "\n",
       "attr(,\"class\")\n",
       "[1] \"ggalleffects\" \"list\"        \n",
       "attr(,\"model.name\")\n",
       "[1] \"mme\""
      ]
     },
     "metadata": {},
     "output_type": "display_data"
    }
   ],
   "source": [
    "ggpredict(mme) "
   ]
  },
  {
   "cell_type": "code",
   "execution_count": 47,
   "id": "9e36b40a",
   "metadata": {},
   "outputs": [
    {
     "data": {
      "text/html": [
       "<table class=\"dataframe\">\n",
       "<caption>A ggeffects: 3 × 6</caption>\n",
       "<thead>\n",
       "\t<tr><th scope=col>x</th><th scope=col>predicted</th><th scope=col>std.error</th><th scope=col>conf.low</th><th scope=col>conf.high</th><th scope=col>group</th></tr>\n",
       "\t<tr><th scope=col>&lt;fct&gt;</th><th scope=col>&lt;dbl&gt;</th><th scope=col>&lt;dbl&gt;</th><th scope=col>&lt;dbl&gt;</th><th scope=col>&lt;dbl&gt;</th><th scope=col>&lt;fct&gt;</th></tr>\n",
       "</thead>\n",
       "<tbody>\n",
       "\t<tr><td>D3734</td><td>0.0007801788</td><td>0.06935972</td><td>0.000681080</td><td>0.0008936839</td><td>1</td></tr>\n",
       "\t<tr><td>D3742</td><td>0.0019706432</td><td>0.05006053</td><td>0.001786802</td><td>0.0021733585</td><td>1</td></tr>\n",
       "\t<tr><td>D3908</td><td>0.0014388989</td><td>0.05038237</td><td>0.001303778</td><td>0.0015880017</td><td>1</td></tr>\n",
       "</tbody>\n",
       "</table>\n"
      ],
      "text/latex": [
       "A ggeffects: 3 × 6\n",
       "\\begin{tabular}{llllll}\n",
       " x & predicted & std.error & conf.low & conf.high & group\\\\\n",
       " <fct> & <dbl> & <dbl> & <dbl> & <dbl> & <fct>\\\\\n",
       "\\hline\n",
       "\t D3734 & 0.0007801788 & 0.06935972 & 0.000681080 & 0.0008936839 & 1\\\\\n",
       "\t D3742 & 0.0019706432 & 0.05006053 & 0.001786802 & 0.0021733585 & 1\\\\\n",
       "\t D3908 & 0.0014388989 & 0.05038237 & 0.001303778 & 0.0015880017 & 1\\\\\n",
       "\\end{tabular}\n"
      ],
      "text/markdown": [
       "\n",
       "A ggeffects: 3 × 6\n",
       "\n",
       "| x &lt;fct&gt; | predicted &lt;dbl&gt; | std.error &lt;dbl&gt; | conf.low &lt;dbl&gt; | conf.high &lt;dbl&gt; | group &lt;fct&gt; |\n",
       "|---|---|---|---|---|---|\n",
       "| D3734 | 0.0007801788 | 0.06935972 | 0.000681080 | 0.0008936839 | 1 |\n",
       "| D3742 | 0.0019706432 | 0.05006053 | 0.001786802 | 0.0021733585 | 1 |\n",
       "| D3908 | 0.0014388989 | 0.05038237 | 0.001303778 | 0.0015880017 | 1 |\n",
       "\n"
      ],
      "text/plain": [
       "  x     predicted    std.error  conf.low    conf.high    group\n",
       "1 D3734 0.0007801788 0.06935972 0.000681080 0.0008936839 1    \n",
       "2 D3742 0.0019706432 0.05006053 0.001786802 0.0021733585 1    \n",
       "3 D3908 0.0014388989 0.05038237 0.001303778 0.0015880017 1    "
      ]
     },
     "metadata": {},
     "output_type": "display_data"
    }
   ],
   "source": [
    "ggpredict(mme,c(\"Donor\")) "
   ]
  },
  {
   "cell_type": "code",
   "execution_count": 49,
   "id": "f0352bc1",
   "metadata": {},
   "outputs": [
    {
     "data": {
      "text/html": [
       "<table class=\"dataframe\">\n",
       "<caption>A matrix: 4 × 4 of type dbl</caption>\n",
       "<thead>\n",
       "\t<tr><th></th><th scope=col>Estimate</th><th scope=col>Std. Error</th><th scope=col>z value</th><th scope=col>Pr(&gt;|z|)</th></tr>\n",
       "</thead>\n",
       "<tbody>\n",
       "\t<tr><th scope=row>(Intercept)</th><td>-7.1552069</td><td>0.06935972</td><td>-103.160835</td><td>0.000000e+00</td></tr>\n",
       "\t<tr><th scope=row>TreatHiFi</th><td>-0.4668264</td><td>0.05721498</td><td>  -8.159163</td><td>3.373539e-16</td></tr>\n",
       "\t<tr><th scope=row>DonorD3742</th><td> 0.9277842</td><td>0.07811364</td><td>  11.877365</td><td>1.551823e-32</td></tr>\n",
       "\t<tr><th scope=row>DonorD3908</th><td> 0.6127697</td><td>0.08075418</td><td>   7.588087</td><td>3.246636e-14</td></tr>\n",
       "</tbody>\n",
       "</table>\n"
      ],
      "text/latex": [
       "A matrix: 4 × 4 of type dbl\n",
       "\\begin{tabular}{r|llll}\n",
       "  & Estimate & Std. Error & z value & Pr(>\\textbar{}z\\textbar{})\\\\\n",
       "\\hline\n",
       "\t(Intercept) & -7.1552069 & 0.06935972 & -103.160835 & 0.000000e+00\\\\\n",
       "\tTreatHiFi & -0.4668264 & 0.05721498 &   -8.159163 & 3.373539e-16\\\\\n",
       "\tDonorD3742 &  0.9277842 & 0.07811364 &   11.877365 & 1.551823e-32\\\\\n",
       "\tDonorD3908 &  0.6127697 & 0.08075418 &    7.588087 & 3.246636e-14\\\\\n",
       "\\end{tabular}\n"
      ],
      "text/markdown": [
       "\n",
       "A matrix: 4 × 4 of type dbl\n",
       "\n",
       "| <!--/--> | Estimate | Std. Error | z value | Pr(&gt;|z|) |\n",
       "|---|---|---|---|---|\n",
       "| (Intercept) | -7.1552069 | 0.06935972 | -103.160835 | 0.000000e+00 |\n",
       "| TreatHiFi | -0.4668264 | 0.05721498 |   -8.159163 | 3.373539e-16 |\n",
       "| DonorD3742 |  0.9277842 | 0.07811364 |   11.877365 | 1.551823e-32 |\n",
       "| DonorD3908 |  0.6127697 | 0.08075418 |    7.588087 | 3.246636e-14 |\n",
       "\n"
      ],
      "text/plain": [
       "            Estimate   Std. Error z value     Pr(>|z|)    \n",
       "(Intercept) -7.1552069 0.06935972 -103.160835 0.000000e+00\n",
       "TreatHiFi   -0.4668264 0.05721498   -8.159163 3.373539e-16\n",
       "DonorD3742   0.9277842 0.07811364   11.877365 1.551823e-32\n",
       "DonorD3908   0.6127697 0.08075418    7.588087 3.246636e-14"
      ]
     },
     "metadata": {},
     "output_type": "display_data"
    }
   ],
   "source": [
    "coef(summary(mme))[\"TreatHiFi\",\"Estimate\"]"
   ]
  },
  {
   "cell_type": "code",
   "execution_count": 32,
   "id": "815b4852",
   "metadata": {},
   "outputs": [
    {
     "data": {
      "text/html": [
       "<strong>png:</strong> 3"
      ],
      "text/latex": [
       "\\textbf{png:} 3"
      ],
      "text/markdown": [
       "**png:** 3"
      ],
      "text/plain": [
       "png \n",
       "  3 "
      ]
     },
     "metadata": {},
     "output_type": "display_data"
    },
    {
     "data": {
      "text/html": [
       "<strong>png:</strong> 3"
      ],
      "text/latex": [
       "\\textbf{png:} 3"
      ],
      "text/markdown": [
       "**png:** 3"
      ],
      "text/plain": [
       "png \n",
       "  3 "
      ]
     },
     "metadata": {},
     "output_type": "display_data"
    },
    {
     "data": {
      "text/html": [
       "<strong>png:</strong> 3"
      ],
      "text/latex": [
       "\\textbf{png:} 3"
      ],
      "text/markdown": [
       "**png:** 3"
      ],
      "text/plain": [
       "png \n",
       "  3 "
      ]
     },
     "metadata": {},
     "output_type": "display_data"
    }
   ],
   "source": [
    "dd1=matrix(0,nrow = length(ulocus),ncol = length(udonor))\n",
    "ddA=NULL\n",
    "\n",
    "for(ufilt in 1:length(ufilteringSetting)){\n",
    "  dd1=matrix(0,nrow = length(ulocus),ncol = length(udonor))\n",
    "  for(udon in 1:length(udonor)){\n",
    "    for(uloc in 1:length(ulocus)){\n",
    "      #dd1[uloc,udon]=as.numeric(offrAll[Donor==udonor[udon] & Treat==\"NoEP\" & locus==ulocus[uloc] & filteringSetting==ufilteringSetting[ufilt],\"cTot\"][1])\n",
    "      #dd1[uloc,udon]=as.numeric(offrAll[Donor==udonor[udon] & Treat==\"NoEP\" & locus==ulocus[uloc] & filteringSetting==ufilteringSetting[ufilt],\"conf.high\"][1])-as.numeric(offrAll[Donor==udonor[udon] & Treat==\"NoEP\" & locus==ulocus[uloc] & filteringSetting==ufilteringSetting[ufilt],\"conf.low\"][1])\n",
    "      #dd1[uloc,udon]=as.numeric(offrAll[Donor==udonor[udon] & Treat==\"NoEP\" & locus==ulocus[uloc] & filteringSetting==ufilteringSetting[ufilt],\"predicted\"][1])\n",
    "      \n",
    "       dd1[uloc,udon]=as.numeric(offrAll[offrAll$Donor==udonor[udon] & offrAll$Treat==\"HiFi\" & offrAll$locus==ulocus[uloc] & offrAll$filteringSetting==ufilteringSetting[ufilt],\"predicted\"][1])-as.numeric(offrAll[offrAll$Donor==udonor[udon] & offrAll$Treat==\"NoEP\" & offrAll$locus==ulocus[uloc] & offrAll$filteringSetting==ufilteringSetting[ufilt],\"predicted\"][1])\n",
    "       dd1[uloc,udon]=ifelse(dd1[uloc,udon]< (0.1/100),0,1)\n",
    "      \n",
    "    } \n",
    "  } \n",
    "  if(is.null(ddA)){\n",
    "    ddA=dd1\n",
    "  }else{\n",
    "    ddA=cbind(ddA,dd1)\n",
    "  }\n",
    "  \n",
    "}\n",
    "\n",
    "df=data.frame(Donor=rep(udonor,length(ufilteringSetting)),Filter=as.vector(sapply(ufilteringSetting,function(x) {rep(x,length(udonor))})))\n",
    "df$Donor_filter=apply(df,1,function(x) paste(x[1],x[2],sep=\"_\"))\n",
    "rownames(df)=1:nrow(df)\n",
    "\n",
    "rownames(ddA)=ulocus\n",
    "colnames(ddA)=df$Donor_filter\n",
    "\n",
    "png(filename = file.path(basedir,\"proportionHiFiNoEPDiffDiscrete.png\"),    width =9, height = 9, units = \"in\", pointsize = 12,res = 600)\n",
    "pheatmap(ddA, cluster_rows=F, show_rownames=T,cluster_cols=F,fontsize_row =6,gaps_col=seq(0,ncol(ddA),by=3))\n",
    "dev.off()\n",
    "\n",
    "#which(rownames(ddA) %in% c(\"1450_OT_0000_REF\",\"1617_OT_0000_REF\",\"1617_OT_0040_ALT\"))\n",
    "\n",
    "png(filename = file.path(basedir,\"proportionHiFiNoEPDiffDiscretenoOntarget.png\"),    width =9, height = 9, units = \"in\", pointsize = 12,res = 600)\n",
    "# pheatmap(ddA[-which(rownames(ddA) %in% c(\"1450_OT_0000_REF\",\"1617_OT_0000_REF\",\"1617_OT_0040_ALT\")),], cluster_rows=F, show_rownames=T,cluster_cols=F, fontsize_row =6,gaps_col=seq(0,ncol(ddA),by=3))\n",
    "pheatmap(ddA, cluster_rows=F, show_rownames=T,cluster_cols=F, fontsize_row =6,gaps_col=seq(0,ncol(ddA),by=3))\n",
    "dev.off()\n",
    "\n",
    "#which(rownames(ddA) %in% c(\"1450_OT_0000_REF\",\"1617_OT_0000_REF\",\"1617_OT_0040_ALT\"))\n",
    "\n",
    "png(filename = file.path(basedir,\"proportionHiFiNoEPDiffDiscrete.png\"),    width =9, height = 9, units = \"in\", pointsize = 12,res = 600)\n",
    "pheatmap(ddA, cluster_rows=F, show_rownames=T,cluster_cols=F, fontsize_row =6,gaps_col=seq(0,ncol(ddA),by=3))\n",
    "dev.off()"
   ]
  },
  {
   "cell_type": "code",
   "execution_count": null,
   "id": "d1dfc623",
   "metadata": {},
   "outputs": [],
   "source": []
  },
  {
   "cell_type": "markdown",
   "id": "ccdf6df0",
   "metadata": {},
   "source": [
    "# PowerAnalysis"
   ]
  },
  {
   "cell_type": "code",
   "execution_count": null,
   "id": "8b11a69b",
   "metadata": {},
   "outputs": [],
   "source": []
  },
  {
   "cell_type": "code",
   "execution_count": 23,
   "id": "56707965",
   "metadata": {},
   "outputs": [],
   "source": [
    "# offr"
   ]
  },
  {
   "cell_type": "code",
   "execution_count": 4,
   "id": "0600f717",
   "metadata": {},
   "outputs": [],
   "source": [
    "powerV_raw_df = powerV_df"
   ]
  },
  {
   "cell_type": "code",
   "execution_count": 8,
   "id": "a4bbfaec",
   "metadata": {},
   "outputs": [],
   "source": [
    "powerV_raw_df"
   ]
  },
  {
   "cell_type": "code",
   "execution_count": 55,
   "id": "63ceb10f",
   "metadata": {
    "scrolled": true
   },
   "outputs": [
    {
     "name": "stdout",
     "output_type": "stream",
     "text": [
      "[1] \"dedudStringentV3_downSampling001_rep1\"\n",
      "[1] \"1450_OT_0000_REF\"\n",
      "[1] \"1450_OT_0071_REF\"\n"
     ]
    },
    {
     "name": "stderr",
     "output_type": "stream",
     "text": [
      "Warning message:\n",
      "“brglmFit: algorithm did not converge. Try changing the optimization algorithm defaults, e.g. the defaults for one or more of `maxit`, `epsilon`, `slowit`, and `response_adjustment`; see `?brglm_control` for default values and available options”\n",
      "Warning message:\n",
      "“brglmFit: fitted probabilities numerically 0 or 1 occurred”\n"
     ]
    },
    {
     "name": "stdout",
     "output_type": "stream",
     "text": [
      "[1] \"1450_OT_0125_ALT\"\n"
     ]
    },
    {
     "name": "stderr",
     "output_type": "stream",
     "text": [
      "Warning message:\n",
      "“brglmFit: algorithm did not converge. Try changing the optimization algorithm defaults, e.g. the defaults for one or more of `maxit`, `epsilon`, `slowit`, and `response_adjustment`; see `?brglm_control` for default values and available options”\n",
      "Warning message:\n",
      "“brglmFit: fitted probabilities numerically 0 or 1 occurred”\n"
     ]
    },
    {
     "name": "stdout",
     "output_type": "stream",
     "text": [
      "[1] \"1450_OT_0128_ALT\"\n"
     ]
    },
    {
     "name": "stderr",
     "output_type": "stream",
     "text": [
      "Warning message:\n",
      "“brglmFit: algorithm did not converge. Try changing the optimization algorithm defaults, e.g. the defaults for one or more of `maxit`, `epsilon`, `slowit`, and `response_adjustment`; see `?brglm_control` for default values and available options”\n",
      "Warning message:\n",
      "“brglmFit: fitted probabilities numerically 0 or 1 occurred”\n"
     ]
    },
    {
     "name": "stdout",
     "output_type": "stream",
     "text": [
      "[1] \"1450_OT_0132_ALT\"\n"
     ]
    },
    {
     "name": "stderr",
     "output_type": "stream",
     "text": [
      "Warning message:\n",
      "“brglmFit: algorithm did not converge. Try changing the optimization algorithm defaults, e.g. the defaults for one or more of `maxit`, `epsilon`, `slowit`, and `response_adjustment`; see `?brglm_control` for default values and available options”\n",
      "Warning message:\n",
      "“brglmFit: fitted probabilities numerically 0 or 1 occurred”\n"
     ]
    },
    {
     "name": "stdout",
     "output_type": "stream",
     "text": [
      "[1] \"1450_OT_0133_ALT\"\n",
      "[1] \"1450_OT_0136_ALT\"\n"
     ]
    },
    {
     "name": "stderr",
     "output_type": "stream",
     "text": [
      "Warning message:\n",
      "“brglmFit: algorithm did not converge. Try changing the optimization algorithm defaults, e.g. the defaults for one or more of `maxit`, `epsilon`, `slowit`, and `response_adjustment`; see `?brglm_control` for default values and available options”\n",
      "Warning message:\n",
      "“brglmFit: fitted probabilities numerically 0 or 1 occurred”\n"
     ]
    },
    {
     "name": "stdout",
     "output_type": "stream",
     "text": [
      "[1] \"1450_OT_0142_ALT\"\n"
     ]
    },
    {
     "name": "stderr",
     "output_type": "stream",
     "text": [
      "Warning message:\n",
      "“brglmFit: algorithm did not converge. Try changing the optimization algorithm defaults, e.g. the defaults for one or more of `maxit`, `epsilon`, `slowit`, and `response_adjustment`; see `?brglm_control` for default values and available options”\n",
      "Warning message:\n",
      "“brglmFit: fitted probabilities numerically 0 or 1 occurred”\n"
     ]
    },
    {
     "name": "stdout",
     "output_type": "stream",
     "text": [
      "[1] \"1450_OT_0145_ALT\"\n",
      "[1] \"1450_OT_0146_ALT\"\n"
     ]
    },
    {
     "name": "stderr",
     "output_type": "stream",
     "text": [
      "Warning message:\n",
      "“brglmFit: algorithm did not converge. Try changing the optimization algorithm defaults, e.g. the defaults for one or more of `maxit`, `epsilon`, `slowit`, and `response_adjustment`; see `?brglm_control` for default values and available options”\n",
      "Warning message:\n",
      "“brglmFit: fitted probabilities numerically 0 or 1 occurred”\n"
     ]
    },
    {
     "name": "stdout",
     "output_type": "stream",
     "text": [
      "[1] \"1450_OT_0152_ALT\"\n"
     ]
    },
    {
     "name": "stderr",
     "output_type": "stream",
     "text": [
      "Warning message:\n",
      "“brglmFit: algorithm did not converge. Try changing the optimization algorithm defaults, e.g. the defaults for one or more of `maxit`, `epsilon`, `slowit`, and `response_adjustment`; see `?brglm_control` for default values and available options”\n",
      "Warning message:\n",
      "“brglmFit: fitted probabilities numerically 0 or 1 occurred”\n"
     ]
    },
    {
     "name": "stdout",
     "output_type": "stream",
     "text": [
      "[1] \"1450_OT_0153_ALT\"\n"
     ]
    },
    {
     "name": "stderr",
     "output_type": "stream",
     "text": [
      "Warning message:\n",
      "“brglmFit: algorithm did not converge. Try changing the optimization algorithm defaults, e.g. the defaults for one or more of `maxit`, `epsilon`, `slowit`, and `response_adjustment`; see `?brglm_control` for default values and available options”\n",
      "Warning message:\n",
      "“brglmFit: fitted probabilities numerically 0 or 1 occurred”\n"
     ]
    },
    {
     "name": "stdout",
     "output_type": "stream",
     "text": [
      "[1] \"1450_OT_0162_ALT\"\n"
     ]
    },
    {
     "name": "stderr",
     "output_type": "stream",
     "text": [
      "Warning message:\n",
      "“brglmFit: algorithm did not converge. Try changing the optimization algorithm defaults, e.g. the defaults for one or more of `maxit`, `epsilon`, `slowit`, and `response_adjustment`; see `?brglm_control` for default values and available options”\n",
      "Warning message:\n",
      "“brglmFit: fitted probabilities numerically 0 or 1 occurred”\n"
     ]
    },
    {
     "name": "stdout",
     "output_type": "stream",
     "text": [
      "[1] \"1450_OT_0163_ALT\"\n"
     ]
    },
    {
     "name": "stderr",
     "output_type": "stream",
     "text": [
      "Warning message:\n",
      "“brglmFit: algorithm did not converge. Try changing the optimization algorithm defaults, e.g. the defaults for one or more of `maxit`, `epsilon`, `slowit`, and `response_adjustment`; see `?brglm_control` for default values and available options”\n",
      "Warning message:\n",
      "“brglmFit: fitted probabilities numerically 0 or 1 occurred”\n"
     ]
    },
    {
     "name": "stdout",
     "output_type": "stream",
     "text": [
      "[1] \"1450_OT_0164_ALT\"\n"
     ]
    },
    {
     "name": "stderr",
     "output_type": "stream",
     "text": [
      "Warning message:\n",
      "“brglmFit: algorithm did not converge. Try changing the optimization algorithm defaults, e.g. the defaults for one or more of `maxit`, `epsilon`, `slowit`, and `response_adjustment`; see `?brglm_control` for default values and available options”\n",
      "Warning message:\n",
      "“brglmFit: fitted probabilities numerically 0 or 1 occurred”\n"
     ]
    },
    {
     "name": "stdout",
     "output_type": "stream",
     "text": [
      "[1] \"1450_OT_0174_ALT\"\n",
      "[1] \"1450_OT_0176_ALT\"\n"
     ]
    },
    {
     "name": "stderr",
     "output_type": "stream",
     "text": [
      "Warning message:\n",
      "“brglmFit: algorithm did not converge. Try changing the optimization algorithm defaults, e.g. the defaults for one or more of `maxit`, `epsilon`, `slowit`, and `response_adjustment`; see `?brglm_control` for default values and available options”\n",
      "Warning message:\n",
      "“brglmFit: fitted probabilities numerically 0 or 1 occurred”\n"
     ]
    },
    {
     "name": "stdout",
     "output_type": "stream",
     "text": [
      "[1] \"1450_OT_0179_ALT\"\n"
     ]
    },
    {
     "name": "stderr",
     "output_type": "stream",
     "text": [
      "Warning message:\n",
      "“brglmFit: algorithm did not converge. Try changing the optimization algorithm defaults, e.g. the defaults for one or more of `maxit`, `epsilon`, `slowit`, and `response_adjustment`; see `?brglm_control` for default values and available options”\n",
      "Warning message:\n",
      "“brglmFit: fitted probabilities numerically 0 or 1 occurred”\n"
     ]
    },
    {
     "name": "stdout",
     "output_type": "stream",
     "text": [
      "[1] \"1450_OT_0190_ALT\"\n"
     ]
    },
    {
     "name": "stderr",
     "output_type": "stream",
     "text": [
      "Warning message:\n",
      "“brglmFit: algorithm did not converge. Try changing the optimization algorithm defaults, e.g. the defaults for one or more of `maxit`, `epsilon`, `slowit`, and `response_adjustment`; see `?brglm_control` for default values and available options”\n",
      "Warning message:\n",
      "“brglmFit: fitted probabilities numerically 0 or 1 occurred”\n"
     ]
    },
    {
     "name": "stdout",
     "output_type": "stream",
     "text": [
      "[1] \"1450_OT_0192_ALT\"\n"
     ]
    },
    {
     "name": "stderr",
     "output_type": "stream",
     "text": [
      "Warning message:\n",
      "“brglmFit: algorithm did not converge. Try changing the optimization algorithm defaults, e.g. the defaults for one or more of `maxit`, `epsilon`, `slowit`, and `response_adjustment`; see `?brglm_control` for default values and available options”\n",
      "Warning message:\n",
      "“brglmFit: fitted probabilities numerically 0 or 1 occurred”\n"
     ]
    },
    {
     "name": "stdout",
     "output_type": "stream",
     "text": [
      "[1] \"1450_OT_0193_ALT\"\n"
     ]
    },
    {
     "name": "stderr",
     "output_type": "stream",
     "text": [
      "Warning message:\n",
      "“brglmFit: algorithm did not converge. Try changing the optimization algorithm defaults, e.g. the defaults for one or more of `maxit`, `epsilon`, `slowit`, and `response_adjustment`; see `?brglm_control` for default values and available options”\n",
      "Warning message:\n",
      "“brglmFit: fitted probabilities numerically 0 or 1 occurred”\n"
     ]
    },
    {
     "name": "stdout",
     "output_type": "stream",
     "text": [
      "[1] \"1450_OT_0194_ALT\"\n"
     ]
    },
    {
     "name": "stderr",
     "output_type": "stream",
     "text": [
      "Warning message:\n",
      "“brglmFit: algorithm did not converge. Try changing the optimization algorithm defaults, e.g. the defaults for one or more of `maxit`, `epsilon`, `slowit`, and `response_adjustment`; see `?brglm_control` for default values and available options”\n",
      "Warning message:\n",
      "“brglmFit: fitted probabilities numerically 0 or 1 occurred”\n"
     ]
    },
    {
     "name": "stdout",
     "output_type": "stream",
     "text": [
      "[1] \"1450_OT_0200_ALT\"\n"
     ]
    },
    {
     "name": "stderr",
     "output_type": "stream",
     "text": [
      "Warning message:\n",
      "“brglmFit: algorithm did not converge. Try changing the optimization algorithm defaults, e.g. the defaults for one or more of `maxit`, `epsilon`, `slowit`, and `response_adjustment`; see `?brglm_control` for default values and available options”\n",
      "Warning message:\n",
      "“brglmFit: fitted probabilities numerically 0 or 1 occurred”\n"
     ]
    },
    {
     "name": "stdout",
     "output_type": "stream",
     "text": [
      "[1] \"1450_OT_0203_ALT\"\n",
      "[1] \"1450_OT_0206_ALT\"\n"
     ]
    },
    {
     "name": "stderr",
     "output_type": "stream",
     "text": [
      "Warning message:\n",
      "“brglmFit: algorithm did not converge. Try changing the optimization algorithm defaults, e.g. the defaults for one or more of `maxit`, `epsilon`, `slowit`, and `response_adjustment`; see `?brglm_control` for default values and available options”\n",
      "Warning message:\n",
      "“brglmFit: fitted probabilities numerically 0 or 1 occurred”\n"
     ]
    },
    {
     "name": "stdout",
     "output_type": "stream",
     "text": [
      "[1] \"1450_OT_0210_ALT\"\n"
     ]
    },
    {
     "name": "stderr",
     "output_type": "stream",
     "text": [
      "Warning message:\n",
      "“brglmFit: algorithm did not converge. Try changing the optimization algorithm defaults, e.g. the defaults for one or more of `maxit`, `epsilon`, `slowit`, and `response_adjustment`; see `?brglm_control` for default values and available options”\n",
      "Warning message:\n",
      "“brglmFit: fitted probabilities numerically 0 or 1 occurred”\n"
     ]
    },
    {
     "name": "stdout",
     "output_type": "stream",
     "text": [
      "[1] \"1450_OT_0219_ALT\"\n"
     ]
    },
    {
     "name": "stderr",
     "output_type": "stream",
     "text": [
      "Warning message:\n",
      "“brglmFit: algorithm did not converge. Try changing the optimization algorithm defaults, e.g. the defaults for one or more of `maxit`, `epsilon`, `slowit`, and `response_adjustment`; see `?brglm_control` for default values and available options”\n",
      "Warning message:\n",
      "“brglmFit: fitted probabilities numerically 0 or 1 occurred”\n"
     ]
    },
    {
     "name": "stdout",
     "output_type": "stream",
     "text": [
      "[1] \"1450_OT_0235_ALT\"\n"
     ]
    },
    {
     "name": "stderr",
     "output_type": "stream",
     "text": [
      "Warning message:\n",
      "“brglmFit: algorithm did not converge. Try changing the optimization algorithm defaults, e.g. the defaults for one or more of `maxit`, `epsilon`, `slowit`, and `response_adjustment`; see `?brglm_control` for default values and available options”\n",
      "Warning message:\n",
      "“brglmFit: fitted probabilities numerically 0 or 1 occurred”\n"
     ]
    },
    {
     "name": "stdout",
     "output_type": "stream",
     "text": [
      "[1] \"1450_OT_0237_ALT\"\n"
     ]
    },
    {
     "name": "stderr",
     "output_type": "stream",
     "text": [
      "Warning message:\n",
      "“brglmFit: algorithm did not converge. Try changing the optimization algorithm defaults, e.g. the defaults for one or more of `maxit`, `epsilon`, `slowit`, and `response_adjustment`; see `?brglm_control` for default values and available options”\n",
      "Warning message:\n",
      "“brglmFit: fitted probabilities numerically 0 or 1 occurred”\n"
     ]
    },
    {
     "name": "stdout",
     "output_type": "stream",
     "text": [
      "[1] \"1450_OT_0238_ALT\"\n"
     ]
    },
    {
     "name": "stderr",
     "output_type": "stream",
     "text": [
      "Warning message:\n",
      "“brglmFit: algorithm did not converge. Try changing the optimization algorithm defaults, e.g. the defaults for one or more of `maxit`, `epsilon`, `slowit`, and `response_adjustment`; see `?brglm_control` for default values and available options”\n",
      "Warning message:\n",
      "“brglmFit: fitted probabilities numerically 0 or 1 occurred”\n"
     ]
    },
    {
     "name": "stdout",
     "output_type": "stream",
     "text": [
      "[1] \"1450_OT_0240_ALT\"\n"
     ]
    },
    {
     "name": "stderr",
     "output_type": "stream",
     "text": [
      "Warning message:\n",
      "“brglmFit: algorithm did not converge. Try changing the optimization algorithm defaults, e.g. the defaults for one or more of `maxit`, `epsilon`, `slowit`, and `response_adjustment`; see `?brglm_control` for default values and available options”\n",
      "Warning message:\n",
      "“brglmFit: fitted probabilities numerically 0 or 1 occurred”\n"
     ]
    },
    {
     "name": "stdout",
     "output_type": "stream",
     "text": [
      "[1] \"1450_OT_0243_ALT\"\n"
     ]
    },
    {
     "name": "stderr",
     "output_type": "stream",
     "text": [
      "Warning message:\n",
      "“brglmFit: algorithm did not converge. Try changing the optimization algorithm defaults, e.g. the defaults for one or more of `maxit`, `epsilon`, `slowit`, and `response_adjustment`; see `?brglm_control` for default values and available options”\n",
      "Warning message:\n",
      "“brglmFit: fitted probabilities numerically 0 or 1 occurred”\n"
     ]
    },
    {
     "name": "stdout",
     "output_type": "stream",
     "text": [
      "[1] \"1450_OT_0250_ALT\"\n"
     ]
    },
    {
     "name": "stderr",
     "output_type": "stream",
     "text": [
      "Warning message:\n",
      "“brglmFit: algorithm did not converge. Try changing the optimization algorithm defaults, e.g. the defaults for one or more of `maxit`, `epsilon`, `slowit`, and `response_adjustment`; see `?brglm_control` for default values and available options”\n",
      "Warning message:\n",
      "“brglmFit: fitted probabilities numerically 0 or 1 occurred”\n"
     ]
    },
    {
     "name": "stdout",
     "output_type": "stream",
     "text": [
      "[1] \"1450_OT_0251_ALT\"\n"
     ]
    },
    {
     "name": "stderr",
     "output_type": "stream",
     "text": [
      "Warning message:\n",
      "“brglmFit: algorithm did not converge. Try changing the optimization algorithm defaults, e.g. the defaults for one or more of `maxit`, `epsilon`, `slowit`, and `response_adjustment`; see `?brglm_control` for default values and available options”\n",
      "Warning message:\n",
      "“brglmFit: fitted probabilities numerically 0 or 1 occurred”\n"
     ]
    },
    {
     "name": "stdout",
     "output_type": "stream",
     "text": [
      "[1] \"1450_OT_0264_ALT\"\n"
     ]
    },
    {
     "name": "stderr",
     "output_type": "stream",
     "text": [
      "Warning message:\n",
      "“brglmFit: algorithm did not converge. Try changing the optimization algorithm defaults, e.g. the defaults for one or more of `maxit`, `epsilon`, `slowit`, and `response_adjustment`; see `?brglm_control` for default values and available options”\n",
      "Warning message:\n",
      "“brglmFit: fitted probabilities numerically 0 or 1 occurred”\n"
     ]
    },
    {
     "name": "stdout",
     "output_type": "stream",
     "text": [
      "[1] \"1450_OT_0274_ALT\"\n"
     ]
    },
    {
     "name": "stderr",
     "output_type": "stream",
     "text": [
      "Warning message:\n",
      "“brglmFit: algorithm did not converge. Try changing the optimization algorithm defaults, e.g. the defaults for one or more of `maxit`, `epsilon`, `slowit`, and `response_adjustment`; see `?brglm_control` for default values and available options”\n",
      "Warning message:\n",
      "“brglmFit: fitted probabilities numerically 0 or 1 occurred”\n"
     ]
    },
    {
     "name": "stdout",
     "output_type": "stream",
     "text": [
      "[1] \"1450_OT_0278_ALT\"\n"
     ]
    },
    {
     "name": "stderr",
     "output_type": "stream",
     "text": [
      "Warning message:\n",
      "“brglmFit: algorithm did not converge. Try changing the optimization algorithm defaults, e.g. the defaults for one or more of `maxit`, `epsilon`, `slowit`, and `response_adjustment`; see `?brglm_control` for default values and available options”\n",
      "Warning message:\n",
      "“brglmFit: fitted probabilities numerically 0 or 1 occurred”\n"
     ]
    },
    {
     "name": "stdout",
     "output_type": "stream",
     "text": [
      "[1] \"1450_OT_0282_ALT\"\n",
      "[1] \"1450_OT_0290_ALT\"\n"
     ]
    },
    {
     "name": "stderr",
     "output_type": "stream",
     "text": [
      "Warning message:\n",
      "“brglmFit: algorithm did not converge. Try changing the optimization algorithm defaults, e.g. the defaults for one or more of `maxit`, `epsilon`, `slowit`, and `response_adjustment`; see `?brglm_control` for default values and available options”\n",
      "Warning message:\n",
      "“brglmFit: fitted probabilities numerically 0 or 1 occurred”\n"
     ]
    },
    {
     "name": "stdout",
     "output_type": "stream",
     "text": [
      "[1] \"1450_OT_0297_ALT\"\n",
      "[1] \"1450_OT_0298_ALT\"\n"
     ]
    },
    {
     "name": "stderr",
     "output_type": "stream",
     "text": [
      "Warning message:\n",
      "“brglmFit: algorithm did not converge. Try changing the optimization algorithm defaults, e.g. the defaults for one or more of `maxit`, `epsilon`, `slowit`, and `response_adjustment`; see `?brglm_control` for default values and available options”\n",
      "Warning message:\n",
      "“brglmFit: fitted probabilities numerically 0 or 1 occurred”\n"
     ]
    },
    {
     "name": "stdout",
     "output_type": "stream",
     "text": [
      "[1] \"1450_OT_0299_ALT\"\n"
     ]
    },
    {
     "name": "stderr",
     "output_type": "stream",
     "text": [
      "Warning message:\n",
      "“brglmFit: algorithm did not converge. Try changing the optimization algorithm defaults, e.g. the defaults for one or more of `maxit`, `epsilon`, `slowit`, and `response_adjustment`; see `?brglm_control` for default values and available options”\n",
      "Warning message:\n",
      "“brglmFit: fitted probabilities numerically 0 or 1 occurred”\n"
     ]
    },
    {
     "name": "stdout",
     "output_type": "stream",
     "text": [
      "[1] \"1450_OT_0311_ALT\"\n"
     ]
    },
    {
     "name": "stderr",
     "output_type": "stream",
     "text": [
      "Warning message:\n",
      "“brglmFit: algorithm did not converge. Try changing the optimization algorithm defaults, e.g. the defaults for one or more of `maxit`, `epsilon`, `slowit`, and `response_adjustment`; see `?brglm_control` for default values and available options”\n",
      "Warning message:\n",
      "“brglmFit: fitted probabilities numerically 0 or 1 occurred”\n"
     ]
    },
    {
     "name": "stdout",
     "output_type": "stream",
     "text": [
      "[1] \"1450_OT_0320_ALT\"\n"
     ]
    },
    {
     "name": "stderr",
     "output_type": "stream",
     "text": [
      "Warning message:\n",
      "“brglmFit: algorithm did not converge. Try changing the optimization algorithm defaults, e.g. the defaults for one or more of `maxit`, `epsilon`, `slowit`, and `response_adjustment`; see `?brglm_control` for default values and available options”\n",
      "Warning message:\n",
      "“brglmFit: fitted probabilities numerically 0 or 1 occurred”\n"
     ]
    },
    {
     "name": "stdout",
     "output_type": "stream",
     "text": [
      "[1] \"1450_OT_0321_ALT\"\n"
     ]
    },
    {
     "name": "stderr",
     "output_type": "stream",
     "text": [
      "Warning message:\n",
      "“brglmFit: algorithm did not converge. Try changing the optimization algorithm defaults, e.g. the defaults for one or more of `maxit`, `epsilon`, `slowit`, and `response_adjustment`; see `?brglm_control` for default values and available options”\n",
      "Warning message:\n",
      "“brglmFit: fitted probabilities numerically 0 or 1 occurred”\n"
     ]
    },
    {
     "name": "stdout",
     "output_type": "stream",
     "text": [
      "[1] \"1450_OT_0328_ALT\"\n"
     ]
    },
    {
     "name": "stderr",
     "output_type": "stream",
     "text": [
      "Warning message:\n",
      "“brglmFit: algorithm did not converge. Try changing the optimization algorithm defaults, e.g. the defaults for one or more of `maxit`, `epsilon`, `slowit`, and `response_adjustment`; see `?brglm_control` for default values and available options”\n",
      "Warning message:\n",
      "“brglmFit: fitted probabilities numerically 0 or 1 occurred”\n"
     ]
    },
    {
     "name": "stdout",
     "output_type": "stream",
     "text": [
      "[1] \"1450_OT_0329_ALT\"\n",
      "[1] \"1450_OT_0361_ALT\"\n"
     ]
    },
    {
     "name": "stderr",
     "output_type": "stream",
     "text": [
      "Warning message:\n",
      "“brglmFit: algorithm did not converge. Try changing the optimization algorithm defaults, e.g. the defaults for one or more of `maxit`, `epsilon`, `slowit`, and `response_adjustment`; see `?brglm_control` for default values and available options”\n",
      "Warning message:\n",
      "“brglmFit: fitted probabilities numerically 0 or 1 occurred”\n"
     ]
    },
    {
     "name": "stdout",
     "output_type": "stream",
     "text": [
      "[1] \"1450_OT_0362_ALT\"\n"
     ]
    },
    {
     "name": "stderr",
     "output_type": "stream",
     "text": [
      "Warning message:\n",
      "“brglmFit: algorithm did not converge. Try changing the optimization algorithm defaults, e.g. the defaults for one or more of `maxit`, `epsilon`, `slowit`, and `response_adjustment`; see `?brglm_control` for default values and available options”\n",
      "Warning message:\n",
      "“brglmFit: fitted probabilities numerically 0 or 1 occurred”\n"
     ]
    },
    {
     "name": "stdout",
     "output_type": "stream",
     "text": [
      "[1] \"1617_OT_0000_REF\"\n",
      "[1] \"1617_OT_0040_ALT\"\n",
      "[1] \"1617_OT_0040_REF\"\n"
     ]
    },
    {
     "name": "stderr",
     "output_type": "stream",
     "text": [
      "Warning message:\n",
      "“brglmFit: algorithm did not converge. Try changing the optimization algorithm defaults, e.g. the defaults for one or more of `maxit`, `epsilon`, `slowit`, and `response_adjustment`; see `?brglm_control` for default values and available options”\n",
      "Warning message:\n",
      "“brglmFit: fitted probabilities numerically 0 or 1 occurred”\n"
     ]
    },
    {
     "name": "stdout",
     "output_type": "stream",
     "text": [
      "[1] \"1617_OT_0041_ALT\"\n"
     ]
    },
    {
     "name": "stderr",
     "output_type": "stream",
     "text": [
      "Warning message:\n",
      "“brglmFit: algorithm did not converge. Try changing the optimization algorithm defaults, e.g. the defaults for one or more of `maxit`, `epsilon`, `slowit`, and `response_adjustment`; see `?brglm_control` for default values and available options”\n",
      "Warning message:\n",
      "“brglmFit: fitted probabilities numerically 0 or 1 occurred”\n"
     ]
    },
    {
     "name": "stdout",
     "output_type": "stream",
     "text": [
      "[1] \"1617_OT_0041_REF\"\n"
     ]
    },
    {
     "name": "stderr",
     "output_type": "stream",
     "text": [
      "Warning message:\n",
      "“brglmFit: algorithm did not converge. Try changing the optimization algorithm defaults, e.g. the defaults for one or more of `maxit`, `epsilon`, `slowit`, and `response_adjustment`; see `?brglm_control` for default values and available options”\n",
      "Warning message:\n",
      "“brglmFit: fitted probabilities numerically 0 or 1 occurred”\n"
     ]
    },
    {
     "name": "stdout",
     "output_type": "stream",
     "text": [
      "[1] \"1617_OT_0318_ALT\"\n"
     ]
    },
    {
     "name": "stderr",
     "output_type": "stream",
     "text": [
      "Warning message:\n",
      "“brglmFit: algorithm did not converge. Try changing the optimization algorithm defaults, e.g. the defaults for one or more of `maxit`, `epsilon`, `slowit`, and `response_adjustment`; see `?brglm_control` for default values and available options”\n",
      "Warning message:\n",
      "“brglmFit: fitted probabilities numerically 0 or 1 occurred”\n"
     ]
    },
    {
     "name": "stdout",
     "output_type": "stream",
     "text": [
      "[1] \"1617_OT_0319_ALT\"\n"
     ]
    },
    {
     "name": "stderr",
     "output_type": "stream",
     "text": [
      "Warning message:\n",
      "“brglmFit: algorithm did not converge. Try changing the optimization algorithm defaults, e.g. the defaults for one or more of `maxit`, `epsilon`, `slowit`, and `response_adjustment`; see `?brglm_control` for default values and available options”\n",
      "Warning message:\n",
      "“brglmFit: fitted probabilities numerically 0 or 1 occurred”\n"
     ]
    },
    {
     "name": "stdout",
     "output_type": "stream",
     "text": [
      "[1] \"1617_OT_0322_ALT\"\n"
     ]
    },
    {
     "name": "stderr",
     "output_type": "stream",
     "text": [
      "Warning message:\n",
      "“brglmFit: algorithm did not converge. Try changing the optimization algorithm defaults, e.g. the defaults for one or more of `maxit`, `epsilon`, `slowit`, and `response_adjustment`; see `?brglm_control` for default values and available options”\n",
      "Warning message:\n",
      "“brglmFit: fitted probabilities numerically 0 or 1 occurred”\n"
     ]
    },
    {
     "name": "stdout",
     "output_type": "stream",
     "text": [
      "[1] \"1617_OT_0327_ALT\"\n"
     ]
    },
    {
     "name": "stderr",
     "output_type": "stream",
     "text": [
      "Warning message:\n",
      "“brglmFit: algorithm did not converge. Try changing the optimization algorithm defaults, e.g. the defaults for one or more of `maxit`, `epsilon`, `slowit`, and `response_adjustment`; see `?brglm_control` for default values and available options”\n",
      "Warning message:\n",
      "“brglmFit: fitted probabilities numerically 0 or 1 occurred”\n"
     ]
    },
    {
     "name": "stdout",
     "output_type": "stream",
     "text": [
      "[1] \"1617_OT_0329_ALT\"\n"
     ]
    },
    {
     "name": "stderr",
     "output_type": "stream",
     "text": [
      "Warning message:\n",
      "“brglmFit: algorithm did not converge. Try changing the optimization algorithm defaults, e.g. the defaults for one or more of `maxit`, `epsilon`, `slowit`, and `response_adjustment`; see `?brglm_control` for default values and available options”\n",
      "Warning message:\n",
      "“brglmFit: fitted probabilities numerically 0 or 1 occurred”\n"
     ]
    },
    {
     "name": "stdout",
     "output_type": "stream",
     "text": [
      "[1] \"1617_OT_0331_ALT\"\n"
     ]
    },
    {
     "name": "stderr",
     "output_type": "stream",
     "text": [
      "Warning message:\n",
      "“brglmFit: algorithm did not converge. Try changing the optimization algorithm defaults, e.g. the defaults for one or more of `maxit`, `epsilon`, `slowit`, and `response_adjustment`; see `?brglm_control` for default values and available options”\n",
      "Warning message:\n",
      "“brglmFit: fitted probabilities numerically 0 or 1 occurred”\n"
     ]
    },
    {
     "name": "stdout",
     "output_type": "stream",
     "text": [
      "[1] \"1617_OT_0332_ALT\"\n"
     ]
    },
    {
     "name": "stderr",
     "output_type": "stream",
     "text": [
      "Warning message:\n",
      "“brglmFit: algorithm did not converge. Try changing the optimization algorithm defaults, e.g. the defaults for one or more of `maxit`, `epsilon`, `slowit`, and `response_adjustment`; see `?brglm_control` for default values and available options”\n",
      "Warning message:\n",
      "“brglmFit: fitted probabilities numerically 0 or 1 occurred”\n"
     ]
    },
    {
     "name": "stdout",
     "output_type": "stream",
     "text": [
      "[1] \"1617_OT_0333_ALT\"\n"
     ]
    },
    {
     "name": "stderr",
     "output_type": "stream",
     "text": [
      "Warning message:\n",
      "“brglmFit: algorithm did not converge. Try changing the optimization algorithm defaults, e.g. the defaults for one or more of `maxit`, `epsilon`, `slowit`, and `response_adjustment`; see `?brglm_control` for default values and available options”\n",
      "Warning message:\n",
      "“brglmFit: fitted probabilities numerically 0 or 1 occurred”\n"
     ]
    },
    {
     "name": "stdout",
     "output_type": "stream",
     "text": [
      "[1] \"1617_OT_0334_ALT\"\n"
     ]
    },
    {
     "name": "stderr",
     "output_type": "stream",
     "text": [
      "Warning message:\n",
      "“brglmFit: algorithm did not converge. Try changing the optimization algorithm defaults, e.g. the defaults for one or more of `maxit`, `epsilon`, `slowit`, and `response_adjustment`; see `?brglm_control` for default values and available options”\n",
      "Warning message:\n",
      "“brglmFit: fitted probabilities numerically 0 or 1 occurred”\n"
     ]
    },
    {
     "name": "stdout",
     "output_type": "stream",
     "text": [
      "[1] \"1617_OT_0344_ALT\"\n"
     ]
    },
    {
     "name": "stderr",
     "output_type": "stream",
     "text": [
      "Warning message:\n",
      "“brglmFit: algorithm did not converge. Try changing the optimization algorithm defaults, e.g. the defaults for one or more of `maxit`, `epsilon`, `slowit`, and `response_adjustment`; see `?brglm_control` for default values and available options”\n",
      "Warning message:\n",
      "“brglmFit: fitted probabilities numerically 0 or 1 occurred”\n"
     ]
    },
    {
     "name": "stdout",
     "output_type": "stream",
     "text": [
      "[1] \"1617_OT_0345_ALT\"\n"
     ]
    },
    {
     "name": "stderr",
     "output_type": "stream",
     "text": [
      "Warning message:\n",
      "“brglmFit: algorithm did not converge. Try changing the optimization algorithm defaults, e.g. the defaults for one or more of `maxit`, `epsilon`, `slowit`, and `response_adjustment`; see `?brglm_control` for default values and available options”\n",
      "Warning message:\n",
      "“brglmFit: fitted probabilities numerically 0 or 1 occurred”\n"
     ]
    },
    {
     "name": "stdout",
     "output_type": "stream",
     "text": [
      "[1] \"1617_OT_0348_ALT\"\n"
     ]
    },
    {
     "name": "stderr",
     "output_type": "stream",
     "text": [
      "Warning message:\n",
      "“brglmFit: algorithm did not converge. Try changing the optimization algorithm defaults, e.g. the defaults for one or more of `maxit`, `epsilon`, `slowit`, and `response_adjustment`; see `?brglm_control` for default values and available options”\n",
      "Warning message:\n",
      "“brglmFit: fitted probabilities numerically 0 or 1 occurred”\n"
     ]
    },
    {
     "name": "stdout",
     "output_type": "stream",
     "text": [
      "[1] \"1617_OT_0349_ALT\"\n",
      "[1] \"1617_OT_0352_ALT\"\n"
     ]
    },
    {
     "name": "stderr",
     "output_type": "stream",
     "text": [
      "Warning message:\n",
      "“brglmFit: algorithm did not converge. Try changing the optimization algorithm defaults, e.g. the defaults for one or more of `maxit`, `epsilon`, `slowit`, and `response_adjustment`; see `?brglm_control` for default values and available options”\n",
      "Warning message:\n",
      "“brglmFit: fitted probabilities numerically 0 or 1 occurred”\n"
     ]
    },
    {
     "name": "stdout",
     "output_type": "stream",
     "text": [
      "[1] \"1617_OT_0353_ALT\"\n"
     ]
    },
    {
     "name": "stderr",
     "output_type": "stream",
     "text": [
      "Warning message:\n",
      "“brglmFit: algorithm did not converge. Try changing the optimization algorithm defaults, e.g. the defaults for one or more of `maxit`, `epsilon`, `slowit`, and `response_adjustment`; see `?brglm_control` for default values and available options”\n",
      "Warning message:\n",
      "“brglmFit: fitted probabilities numerically 0 or 1 occurred”\n"
     ]
    },
    {
     "name": "stdout",
     "output_type": "stream",
     "text": [
      "[1] \"1617_OT_0355_ALT\"\n"
     ]
    },
    {
     "name": "stderr",
     "output_type": "stream",
     "text": [
      "Warning message:\n",
      "“brglmFit: algorithm did not converge. Try changing the optimization algorithm defaults, e.g. the defaults for one or more of `maxit`, `epsilon`, `slowit`, and `response_adjustment`; see `?brglm_control` for default values and available options”\n",
      "Warning message:\n",
      "“brglmFit: fitted probabilities numerically 0 or 1 occurred”\n"
     ]
    },
    {
     "name": "stdout",
     "output_type": "stream",
     "text": [
      "[1] \"1617_OT_0356_ALT\"\n"
     ]
    },
    {
     "name": "stderr",
     "output_type": "stream",
     "text": [
      "Warning message:\n",
      "“brglmFit: algorithm did not converge. Try changing the optimization algorithm defaults, e.g. the defaults for one or more of `maxit`, `epsilon`, `slowit`, and `response_adjustment`; see `?brglm_control` for default values and available options”\n",
      "Warning message:\n",
      "“brglmFit: fitted probabilities numerically 0 or 1 occurred”\n"
     ]
    },
    {
     "name": "stdout",
     "output_type": "stream",
     "text": [
      "[1] \"1617_OT_0362_ALT\"\n"
     ]
    },
    {
     "name": "stderr",
     "output_type": "stream",
     "text": [
      "Warning message:\n",
      "“brglmFit: algorithm did not converge. Try changing the optimization algorithm defaults, e.g. the defaults for one or more of `maxit`, `epsilon`, `slowit`, and `response_adjustment`; see `?brglm_control` for default values and available options”\n",
      "Warning message:\n",
      "“brglmFit: fitted probabilities numerically 0 or 1 occurred”\n"
     ]
    },
    {
     "name": "stdout",
     "output_type": "stream",
     "text": [
      "[1] \"1617_OT_0373_ALT\"\n"
     ]
    },
    {
     "name": "stderr",
     "output_type": "stream",
     "text": [
      "Warning message:\n",
      "“brglmFit: algorithm did not converge. Try changing the optimization algorithm defaults, e.g. the defaults for one or more of `maxit`, `epsilon`, `slowit`, and `response_adjustment`; see `?brglm_control` for default values and available options”\n",
      "Warning message:\n",
      "“brglmFit: fitted probabilities numerically 0 or 1 occurred”\n"
     ]
    },
    {
     "name": "stdout",
     "output_type": "stream",
     "text": [
      "[1] \"1617_OT_0376_ALT\"\n"
     ]
    },
    {
     "name": "stderr",
     "output_type": "stream",
     "text": [
      "Warning message:\n",
      "“brglmFit: algorithm did not converge. Try changing the optimization algorithm defaults, e.g. the defaults for one or more of `maxit`, `epsilon`, `slowit`, and `response_adjustment`; see `?brglm_control` for default values and available options”\n",
      "Warning message:\n",
      "“brglmFit: fitted probabilities numerically 0 or 1 occurred”\n"
     ]
    },
    {
     "name": "stdout",
     "output_type": "stream",
     "text": [
      "[1] \"1617_OT_0381_ALT\"\n"
     ]
    },
    {
     "name": "stderr",
     "output_type": "stream",
     "text": [
      "Warning message:\n",
      "“brglmFit: algorithm did not converge. Try changing the optimization algorithm defaults, e.g. the defaults for one or more of `maxit`, `epsilon`, `slowit`, and `response_adjustment`; see `?brglm_control` for default values and available options”\n",
      "Warning message:\n",
      "“brglmFit: fitted probabilities numerically 0 or 1 occurred”\n"
     ]
    },
    {
     "name": "stdout",
     "output_type": "stream",
     "text": [
      "[1] \"1617_OT_0393_ALT\"\n"
     ]
    },
    {
     "name": "stderr",
     "output_type": "stream",
     "text": [
      "Warning message:\n",
      "“brglmFit: algorithm did not converge. Try changing the optimization algorithm defaults, e.g. the defaults for one or more of `maxit`, `epsilon`, `slowit`, and `response_adjustment`; see `?brglm_control` for default values and available options”\n",
      "Warning message:\n",
      "“brglmFit: fitted probabilities numerically 0 or 1 occurred”\n"
     ]
    },
    {
     "name": "stdout",
     "output_type": "stream",
     "text": [
      "[1] \"1617_OT_0398_ALT\"\n"
     ]
    },
    {
     "name": "stderr",
     "output_type": "stream",
     "text": [
      "Warning message:\n",
      "“brglmFit: algorithm did not converge. Try changing the optimization algorithm defaults, e.g. the defaults for one or more of `maxit`, `epsilon`, `slowit`, and `response_adjustment`; see `?brglm_control` for default values and available options”\n",
      "Warning message:\n",
      "“brglmFit: fitted probabilities numerically 0 or 1 occurred”\n"
     ]
    },
    {
     "name": "stdout",
     "output_type": "stream",
     "text": [
      "[1] \"1617_OT_0400_ALT\"\n"
     ]
    },
    {
     "name": "stderr",
     "output_type": "stream",
     "text": [
      "Warning message:\n",
      "“brglmFit: algorithm did not converge. Try changing the optimization algorithm defaults, e.g. the defaults for one or more of `maxit`, `epsilon`, `slowit`, and `response_adjustment`; see `?brglm_control` for default values and available options”\n",
      "Warning message:\n",
      "“brglmFit: fitted probabilities numerically 0 or 1 occurred”\n"
     ]
    },
    {
     "name": "stdout",
     "output_type": "stream",
     "text": [
      "[1] \"1617_OT_0436_ALT\"\n"
     ]
    },
    {
     "name": "stderr",
     "output_type": "stream",
     "text": [
      "Warning message:\n",
      "“brglmFit: algorithm did not converge. Try changing the optimization algorithm defaults, e.g. the defaults for one or more of `maxit`, `epsilon`, `slowit`, and `response_adjustment`; see `?brglm_control` for default values and available options”\n",
      "Warning message:\n",
      "“brglmFit: fitted probabilities numerically 0 or 1 occurred”\n"
     ]
    },
    {
     "name": "stdout",
     "output_type": "stream",
     "text": [
      "[1] \"dedudStringentV3_downSampling001_rep2\"\n",
      "[1] \"1450_OT_0000_REF\"\n",
      "[1] \"1450_OT_0071_REF\"\n"
     ]
    },
    {
     "name": "stderr",
     "output_type": "stream",
     "text": [
      "Warning message:\n",
      "“brglmFit: algorithm did not converge. Try changing the optimization algorithm defaults, e.g. the defaults for one or more of `maxit`, `epsilon`, `slowit`, and `response_adjustment`; see `?brglm_control` for default values and available options”\n",
      "Warning message:\n",
      "“brglmFit: fitted probabilities numerically 0 or 1 occurred”\n"
     ]
    },
    {
     "name": "stdout",
     "output_type": "stream",
     "text": [
      "[1] \"1450_OT_0125_ALT\"\n"
     ]
    },
    {
     "name": "stderr",
     "output_type": "stream",
     "text": [
      "Warning message:\n",
      "“brglmFit: algorithm did not converge. Try changing the optimization algorithm defaults, e.g. the defaults for one or more of `maxit`, `epsilon`, `slowit`, and `response_adjustment`; see `?brglm_control` for default values and available options”\n",
      "Warning message:\n",
      "“brglmFit: fitted probabilities numerically 0 or 1 occurred”\n"
     ]
    },
    {
     "name": "stdout",
     "output_type": "stream",
     "text": [
      "[1] \"1450_OT_0128_ALT\"\n"
     ]
    },
    {
     "name": "stderr",
     "output_type": "stream",
     "text": [
      "Warning message:\n",
      "“brglmFit: algorithm did not converge. Try changing the optimization algorithm defaults, e.g. the defaults for one or more of `maxit`, `epsilon`, `slowit`, and `response_adjustment`; see `?brglm_control` for default values and available options”\n",
      "Warning message:\n",
      "“brglmFit: fitted probabilities numerically 0 or 1 occurred”\n"
     ]
    },
    {
     "name": "stdout",
     "output_type": "stream",
     "text": [
      "[1] \"1450_OT_0132_ALT\"\n"
     ]
    },
    {
     "name": "stderr",
     "output_type": "stream",
     "text": [
      "Warning message:\n",
      "“brglmFit: algorithm did not converge. Try changing the optimization algorithm defaults, e.g. the defaults for one or more of `maxit`, `epsilon`, `slowit`, and `response_adjustment`; see `?brglm_control` for default values and available options”\n",
      "Warning message:\n",
      "“brglmFit: fitted probabilities numerically 0 or 1 occurred”\n"
     ]
    },
    {
     "name": "stdout",
     "output_type": "stream",
     "text": [
      "[1] \"1450_OT_0133_ALT\"\n"
     ]
    },
    {
     "name": "stderr",
     "output_type": "stream",
     "text": [
      "Warning message:\n",
      "“brglmFit: algorithm did not converge. Try changing the optimization algorithm defaults, e.g. the defaults for one or more of `maxit`, `epsilon`, `slowit`, and `response_adjustment`; see `?brglm_control` for default values and available options”\n",
      "Warning message:\n",
      "“brglmFit: fitted probabilities numerically 0 or 1 occurred”\n"
     ]
    },
    {
     "name": "stdout",
     "output_type": "stream",
     "text": [
      "[1] \"1450_OT_0136_ALT\"\n"
     ]
    },
    {
     "name": "stderr",
     "output_type": "stream",
     "text": [
      "Warning message:\n",
      "“brglmFit: algorithm did not converge. Try changing the optimization algorithm defaults, e.g. the defaults for one or more of `maxit`, `epsilon`, `slowit`, and `response_adjustment`; see `?brglm_control` for default values and available options”\n",
      "Warning message:\n",
      "“brglmFit: fitted probabilities numerically 0 or 1 occurred”\n"
     ]
    },
    {
     "name": "stdout",
     "output_type": "stream",
     "text": [
      "[1] \"1450_OT_0142_ALT\"\n"
     ]
    },
    {
     "name": "stderr",
     "output_type": "stream",
     "text": [
      "Warning message:\n",
      "“brglmFit: algorithm did not converge. Try changing the optimization algorithm defaults, e.g. the defaults for one or more of `maxit`, `epsilon`, `slowit`, and `response_adjustment`; see `?brglm_control` for default values and available options”\n",
      "Warning message:\n",
      "“brglmFit: fitted probabilities numerically 0 or 1 occurred”\n"
     ]
    },
    {
     "name": "stdout",
     "output_type": "stream",
     "text": [
      "[1] \"1450_OT_0145_ALT\"\n"
     ]
    },
    {
     "name": "stderr",
     "output_type": "stream",
     "text": [
      "Warning message:\n",
      "“brglmFit: algorithm did not converge. Try changing the optimization algorithm defaults, e.g. the defaults for one or more of `maxit`, `epsilon`, `slowit`, and `response_adjustment`; see `?brglm_control` for default values and available options”\n",
      "Warning message:\n",
      "“brglmFit: fitted probabilities numerically 0 or 1 occurred”\n"
     ]
    },
    {
     "name": "stdout",
     "output_type": "stream",
     "text": [
      "[1] \"1450_OT_0146_ALT\"\n"
     ]
    },
    {
     "name": "stderr",
     "output_type": "stream",
     "text": [
      "Warning message:\n",
      "“brglmFit: algorithm did not converge. Try changing the optimization algorithm defaults, e.g. the defaults for one or more of `maxit`, `epsilon`, `slowit`, and `response_adjustment`; see `?brglm_control` for default values and available options”\n",
      "Warning message:\n",
      "“brglmFit: fitted probabilities numerically 0 or 1 occurred”\n"
     ]
    },
    {
     "name": "stdout",
     "output_type": "stream",
     "text": [
      "[1] \"1450_OT_0152_ALT\"\n"
     ]
    },
    {
     "name": "stderr",
     "output_type": "stream",
     "text": [
      "Warning message:\n",
      "“brglmFit: algorithm did not converge. Try changing the optimization algorithm defaults, e.g. the defaults for one or more of `maxit`, `epsilon`, `slowit`, and `response_adjustment`; see `?brglm_control` for default values and available options”\n",
      "Warning message:\n",
      "“brglmFit: fitted probabilities numerically 0 or 1 occurred”\n"
     ]
    },
    {
     "name": "stdout",
     "output_type": "stream",
     "text": [
      "[1] \"1450_OT_0153_ALT\"\n"
     ]
    },
    {
     "name": "stderr",
     "output_type": "stream",
     "text": [
      "Warning message:\n",
      "“brglmFit: algorithm did not converge. Try changing the optimization algorithm defaults, e.g. the defaults for one or more of `maxit`, `epsilon`, `slowit`, and `response_adjustment`; see `?brglm_control` for default values and available options”\n",
      "Warning message:\n",
      "“brglmFit: fitted probabilities numerically 0 or 1 occurred”\n"
     ]
    },
    {
     "name": "stdout",
     "output_type": "stream",
     "text": [
      "[1] \"1450_OT_0162_ALT\"\n",
      "[1] \"1450_OT_0163_ALT\"\n"
     ]
    },
    {
     "name": "stderr",
     "output_type": "stream",
     "text": [
      "Warning message:\n",
      "“brglmFit: algorithm did not converge. Try changing the optimization algorithm defaults, e.g. the defaults for one or more of `maxit`, `epsilon`, `slowit`, and `response_adjustment`; see `?brglm_control` for default values and available options”\n",
      "Warning message:\n",
      "“brglmFit: fitted probabilities numerically 0 or 1 occurred”\n"
     ]
    },
    {
     "name": "stdout",
     "output_type": "stream",
     "text": [
      "[1] \"1450_OT_0164_ALT\"\n"
     ]
    },
    {
     "name": "stderr",
     "output_type": "stream",
     "text": [
      "Warning message:\n",
      "“brglmFit: algorithm did not converge. Try changing the optimization algorithm defaults, e.g. the defaults for one or more of `maxit`, `epsilon`, `slowit`, and `response_adjustment`; see `?brglm_control` for default values and available options”\n",
      "Warning message:\n",
      "“brglmFit: fitted probabilities numerically 0 or 1 occurred”\n"
     ]
    },
    {
     "name": "stdout",
     "output_type": "stream",
     "text": [
      "[1] \"1450_OT_0174_ALT\"\n"
     ]
    },
    {
     "name": "stderr",
     "output_type": "stream",
     "text": [
      "Warning message:\n",
      "“brglmFit: algorithm did not converge. Try changing the optimization algorithm defaults, e.g. the defaults for one or more of `maxit`, `epsilon`, `slowit`, and `response_adjustment`; see `?brglm_control` for default values and available options”\n",
      "Warning message:\n",
      "“brglmFit: fitted probabilities numerically 0 or 1 occurred”\n"
     ]
    },
    {
     "name": "stdout",
     "output_type": "stream",
     "text": [
      "[1] \"1450_OT_0176_ALT\"\n"
     ]
    },
    {
     "name": "stderr",
     "output_type": "stream",
     "text": [
      "Warning message:\n",
      "“brglmFit: algorithm did not converge. Try changing the optimization algorithm defaults, e.g. the defaults for one or more of `maxit`, `epsilon`, `slowit`, and `response_adjustment`; see `?brglm_control` for default values and available options”\n",
      "Warning message:\n",
      "“brglmFit: fitted probabilities numerically 0 or 1 occurred”\n"
     ]
    },
    {
     "name": "stdout",
     "output_type": "stream",
     "text": [
      "[1] \"1450_OT_0179_ALT\"\n"
     ]
    },
    {
     "name": "stderr",
     "output_type": "stream",
     "text": [
      "Warning message:\n",
      "“brglmFit: algorithm did not converge. Try changing the optimization algorithm defaults, e.g. the defaults for one or more of `maxit`, `epsilon`, `slowit`, and `response_adjustment`; see `?brglm_control` for default values and available options”\n",
      "Warning message:\n",
      "“brglmFit: fitted probabilities numerically 0 or 1 occurred”\n"
     ]
    },
    {
     "name": "stdout",
     "output_type": "stream",
     "text": [
      "[1] \"1450_OT_0190_ALT\"\n"
     ]
    },
    {
     "name": "stderr",
     "output_type": "stream",
     "text": [
      "Warning message:\n",
      "“brglmFit: algorithm did not converge. Try changing the optimization algorithm defaults, e.g. the defaults for one or more of `maxit`, `epsilon`, `slowit`, and `response_adjustment`; see `?brglm_control` for default values and available options”\n",
      "Warning message:\n",
      "“brglmFit: fitted probabilities numerically 0 or 1 occurred”\n"
     ]
    },
    {
     "name": "stdout",
     "output_type": "stream",
     "text": [
      "[1] \"1450_OT_0192_ALT\"\n",
      "[1] \"1450_OT_0193_ALT\"\n"
     ]
    },
    {
     "name": "stderr",
     "output_type": "stream",
     "text": [
      "Warning message:\n",
      "“brglmFit: algorithm did not converge. Try changing the optimization algorithm defaults, e.g. the defaults for one or more of `maxit`, `epsilon`, `slowit`, and `response_adjustment`; see `?brglm_control` for default values and available options”\n",
      "Warning message:\n",
      "“brglmFit: fitted probabilities numerically 0 or 1 occurred”\n"
     ]
    },
    {
     "name": "stdout",
     "output_type": "stream",
     "text": [
      "[1] \"1450_OT_0194_ALT\"\n"
     ]
    },
    {
     "name": "stderr",
     "output_type": "stream",
     "text": [
      "Warning message:\n",
      "“brglmFit: algorithm did not converge. Try changing the optimization algorithm defaults, e.g. the defaults for one or more of `maxit`, `epsilon`, `slowit`, and `response_adjustment`; see `?brglm_control` for default values and available options”\n",
      "Warning message:\n",
      "“brglmFit: fitted probabilities numerically 0 or 1 occurred”\n"
     ]
    },
    {
     "name": "stdout",
     "output_type": "stream",
     "text": [
      "[1] \"1450_OT_0200_ALT\"\n"
     ]
    },
    {
     "name": "stderr",
     "output_type": "stream",
     "text": [
      "Warning message:\n",
      "“brglmFit: algorithm did not converge. Try changing the optimization algorithm defaults, e.g. the defaults for one or more of `maxit`, `epsilon`, `slowit`, and `response_adjustment`; see `?brglm_control` for default values and available options”\n",
      "Warning message:\n",
      "“brglmFit: fitted probabilities numerically 0 or 1 occurred”\n"
     ]
    },
    {
     "name": "stdout",
     "output_type": "stream",
     "text": [
      "[1] \"1450_OT_0203_ALT\"\n",
      "[1] \"1450_OT_0206_ALT\"\n"
     ]
    },
    {
     "name": "stderr",
     "output_type": "stream",
     "text": [
      "Warning message:\n",
      "“brglmFit: algorithm did not converge. Try changing the optimization algorithm defaults, e.g. the defaults for one or more of `maxit`, `epsilon`, `slowit`, and `response_adjustment`; see `?brglm_control` for default values and available options”\n",
      "Warning message:\n",
      "“brglmFit: fitted probabilities numerically 0 or 1 occurred”\n"
     ]
    },
    {
     "name": "stdout",
     "output_type": "stream",
     "text": [
      "[1] \"1450_OT_0210_ALT\"\n"
     ]
    },
    {
     "name": "stderr",
     "output_type": "stream",
     "text": [
      "Warning message:\n",
      "“brglmFit: algorithm did not converge. Try changing the optimization algorithm defaults, e.g. the defaults for one or more of `maxit`, `epsilon`, `slowit`, and `response_adjustment`; see `?brglm_control` for default values and available options”\n",
      "Warning message:\n",
      "“brglmFit: fitted probabilities numerically 0 or 1 occurred”\n"
     ]
    },
    {
     "name": "stdout",
     "output_type": "stream",
     "text": [
      "[1] \"1450_OT_0219_ALT\"\n"
     ]
    },
    {
     "name": "stderr",
     "output_type": "stream",
     "text": [
      "Warning message:\n",
      "“brglmFit: algorithm did not converge. Try changing the optimization algorithm defaults, e.g. the defaults for one or more of `maxit`, `epsilon`, `slowit`, and `response_adjustment`; see `?brglm_control` for default values and available options”\n",
      "Warning message:\n",
      "“brglmFit: fitted probabilities numerically 0 or 1 occurred”\n"
     ]
    },
    {
     "name": "stdout",
     "output_type": "stream",
     "text": [
      "[1] \"1450_OT_0235_ALT\"\n",
      "[1] \"1450_OT_0237_ALT\"\n"
     ]
    },
    {
     "name": "stderr",
     "output_type": "stream",
     "text": [
      "Warning message:\n",
      "“brglmFit: algorithm did not converge. Try changing the optimization algorithm defaults, e.g. the defaults for one or more of `maxit`, `epsilon`, `slowit`, and `response_adjustment`; see `?brglm_control` for default values and available options”\n",
      "Warning message:\n",
      "“brglmFit: fitted probabilities numerically 0 or 1 occurred”\n"
     ]
    },
    {
     "name": "stdout",
     "output_type": "stream",
     "text": [
      "[1] \"1450_OT_0238_ALT\"\n"
     ]
    },
    {
     "name": "stderr",
     "output_type": "stream",
     "text": [
      "Warning message:\n",
      "“brglmFit: algorithm did not converge. Try changing the optimization algorithm defaults, e.g. the defaults for one or more of `maxit`, `epsilon`, `slowit`, and `response_adjustment`; see `?brglm_control` for default values and available options”\n",
      "Warning message:\n",
      "“brglmFit: fitted probabilities numerically 0 or 1 occurred”\n"
     ]
    },
    {
     "name": "stdout",
     "output_type": "stream",
     "text": [
      "[1] \"1450_OT_0240_ALT\"\n"
     ]
    },
    {
     "name": "stderr",
     "output_type": "stream",
     "text": [
      "Warning message:\n",
      "“brglmFit: algorithm did not converge. Try changing the optimization algorithm defaults, e.g. the defaults for one or more of `maxit`, `epsilon`, `slowit`, and `response_adjustment`; see `?brglm_control` for default values and available options”\n",
      "Warning message:\n",
      "“brglmFit: fitted probabilities numerically 0 or 1 occurred”\n"
     ]
    },
    {
     "name": "stdout",
     "output_type": "stream",
     "text": [
      "[1] \"1450_OT_0243_ALT\"\n"
     ]
    },
    {
     "name": "stderr",
     "output_type": "stream",
     "text": [
      "Warning message:\n",
      "“brglmFit: algorithm did not converge. Try changing the optimization algorithm defaults, e.g. the defaults for one or more of `maxit`, `epsilon`, `slowit`, and `response_adjustment`; see `?brglm_control` for default values and available options”\n",
      "Warning message:\n",
      "“brglmFit: fitted probabilities numerically 0 or 1 occurred”\n"
     ]
    },
    {
     "name": "stdout",
     "output_type": "stream",
     "text": [
      "[1] \"1450_OT_0250_ALT\"\n"
     ]
    },
    {
     "name": "stderr",
     "output_type": "stream",
     "text": [
      "Warning message:\n",
      "“brglmFit: algorithm did not converge. Try changing the optimization algorithm defaults, e.g. the defaults for one or more of `maxit`, `epsilon`, `slowit`, and `response_adjustment`; see `?brglm_control` for default values and available options”\n",
      "Warning message:\n",
      "“brglmFit: fitted probabilities numerically 0 or 1 occurred”\n"
     ]
    },
    {
     "name": "stdout",
     "output_type": "stream",
     "text": [
      "[1] \"1450_OT_0251_ALT\"\n"
     ]
    },
    {
     "name": "stderr",
     "output_type": "stream",
     "text": [
      "Warning message:\n",
      "“brglmFit: algorithm did not converge. Try changing the optimization algorithm defaults, e.g. the defaults for one or more of `maxit`, `epsilon`, `slowit`, and `response_adjustment`; see `?brglm_control` for default values and available options”\n",
      "Warning message:\n",
      "“brglmFit: fitted probabilities numerically 0 or 1 occurred”\n"
     ]
    },
    {
     "name": "stdout",
     "output_type": "stream",
     "text": [
      "[1] \"1450_OT_0264_ALT\"\n"
     ]
    },
    {
     "name": "stderr",
     "output_type": "stream",
     "text": [
      "Warning message:\n",
      "“brglmFit: algorithm did not converge. Try changing the optimization algorithm defaults, e.g. the defaults for one or more of `maxit`, `epsilon`, `slowit`, and `response_adjustment`; see `?brglm_control` for default values and available options”\n",
      "Warning message:\n",
      "“brglmFit: fitted probabilities numerically 0 or 1 occurred”\n"
     ]
    },
    {
     "name": "stdout",
     "output_type": "stream",
     "text": [
      "[1] \"1450_OT_0274_ALT\"\n",
      "[1] \"1450_OT_0278_ALT\"\n",
      "[1] \"1450_OT_0282_ALT\"\n",
      "[1] \"1450_OT_0290_ALT\"\n",
      "[1] \"1450_OT_0297_ALT\"\n"
     ]
    },
    {
     "name": "stderr",
     "output_type": "stream",
     "text": [
      "Warning message:\n",
      "“brglmFit: algorithm did not converge. Try changing the optimization algorithm defaults, e.g. the defaults for one or more of `maxit`, `epsilon`, `slowit`, and `response_adjustment`; see `?brglm_control` for default values and available options”\n",
      "Warning message:\n",
      "“brglmFit: fitted probabilities numerically 0 or 1 occurred”\n"
     ]
    },
    {
     "name": "stdout",
     "output_type": "stream",
     "text": [
      "[1] \"1450_OT_0298_ALT\"\n"
     ]
    },
    {
     "name": "stderr",
     "output_type": "stream",
     "text": [
      "Warning message:\n",
      "“brglmFit: algorithm did not converge. Try changing the optimization algorithm defaults, e.g. the defaults for one or more of `maxit`, `epsilon`, `slowit`, and `response_adjustment`; see `?brglm_control` for default values and available options”\n",
      "Warning message:\n",
      "“brglmFit: fitted probabilities numerically 0 or 1 occurred”\n"
     ]
    },
    {
     "name": "stdout",
     "output_type": "stream",
     "text": [
      "[1] \"1450_OT_0299_ALT\"\n"
     ]
    },
    {
     "name": "stderr",
     "output_type": "stream",
     "text": [
      "Warning message:\n",
      "“brglmFit: algorithm did not converge. Try changing the optimization algorithm defaults, e.g. the defaults for one or more of `maxit`, `epsilon`, `slowit`, and `response_adjustment`; see `?brglm_control` for default values and available options”\n",
      "Warning message:\n",
      "“brglmFit: fitted probabilities numerically 0 or 1 occurred”\n"
     ]
    },
    {
     "name": "stdout",
     "output_type": "stream",
     "text": [
      "[1] \"1450_OT_0311_ALT\"\n"
     ]
    },
    {
     "name": "stderr",
     "output_type": "stream",
     "text": [
      "Warning message:\n",
      "“brglmFit: algorithm did not converge. Try changing the optimization algorithm defaults, e.g. the defaults for one or more of `maxit`, `epsilon`, `slowit`, and `response_adjustment`; see `?brglm_control` for default values and available options”\n",
      "Warning message:\n",
      "“brglmFit: fitted probabilities numerically 0 or 1 occurred”\n"
     ]
    },
    {
     "name": "stdout",
     "output_type": "stream",
     "text": [
      "[1] \"1450_OT_0320_ALT\"\n"
     ]
    },
    {
     "name": "stderr",
     "output_type": "stream",
     "text": [
      "Warning message:\n",
      "“brglmFit: algorithm did not converge. Try changing the optimization algorithm defaults, e.g. the defaults for one or more of `maxit`, `epsilon`, `slowit`, and `response_adjustment`; see `?brglm_control` for default values and available options”\n",
      "Warning message:\n",
      "“brglmFit: fitted probabilities numerically 0 or 1 occurred”\n"
     ]
    },
    {
     "name": "stdout",
     "output_type": "stream",
     "text": [
      "[1] \"1450_OT_0321_ALT\"\n"
     ]
    },
    {
     "name": "stderr",
     "output_type": "stream",
     "text": [
      "Warning message:\n",
      "“brglmFit: algorithm did not converge. Try changing the optimization algorithm defaults, e.g. the defaults for one or more of `maxit`, `epsilon`, `slowit`, and `response_adjustment`; see `?brglm_control` for default values and available options”\n",
      "Warning message:\n",
      "“brglmFit: fitted probabilities numerically 0 or 1 occurred”\n"
     ]
    },
    {
     "name": "stdout",
     "output_type": "stream",
     "text": [
      "[1] \"1450_OT_0328_ALT\"\n"
     ]
    },
    {
     "name": "stderr",
     "output_type": "stream",
     "text": [
      "Warning message:\n",
      "“brglmFit: algorithm did not converge. Try changing the optimization algorithm defaults, e.g. the defaults for one or more of `maxit`, `epsilon`, `slowit`, and `response_adjustment`; see `?brglm_control` for default values and available options”\n",
      "Warning message:\n",
      "“brglmFit: fitted probabilities numerically 0 or 1 occurred”\n"
     ]
    },
    {
     "name": "stdout",
     "output_type": "stream",
     "text": [
      "[1] \"1450_OT_0329_ALT\"\n",
      "[1] \"1450_OT_0361_ALT\"\n"
     ]
    },
    {
     "name": "stderr",
     "output_type": "stream",
     "text": [
      "Warning message:\n",
      "“brglmFit: algorithm did not converge. Try changing the optimization algorithm defaults, e.g. the defaults for one or more of `maxit`, `epsilon`, `slowit`, and `response_adjustment`; see `?brglm_control` for default values and available options”\n",
      "Warning message:\n",
      "“brglmFit: fitted probabilities numerically 0 or 1 occurred”\n"
     ]
    },
    {
     "name": "stdout",
     "output_type": "stream",
     "text": [
      "[1] \"1450_OT_0362_ALT\"\n",
      "[1] \"1617_OT_0000_REF\"\n",
      "[1] \"1617_OT_0040_ALT\"\n",
      "[1] \"1617_OT_0040_REF\"\n"
     ]
    },
    {
     "name": "stderr",
     "output_type": "stream",
     "text": [
      "Warning message:\n",
      "“brglmFit: algorithm did not converge. Try changing the optimization algorithm defaults, e.g. the defaults for one or more of `maxit`, `epsilon`, `slowit`, and `response_adjustment`; see `?brglm_control` for default values and available options”\n",
      "Warning message:\n",
      "“brglmFit: fitted probabilities numerically 0 or 1 occurred”\n"
     ]
    },
    {
     "name": "stdout",
     "output_type": "stream",
     "text": [
      "[1] \"1617_OT_0041_ALT\"\n"
     ]
    },
    {
     "name": "stderr",
     "output_type": "stream",
     "text": [
      "Warning message:\n",
      "“brglmFit: algorithm did not converge. Try changing the optimization algorithm defaults, e.g. the defaults for one or more of `maxit`, `epsilon`, `slowit`, and `response_adjustment`; see `?brglm_control` for default values and available options”\n",
      "Warning message:\n",
      "“brglmFit: fitted probabilities numerically 0 or 1 occurred”\n"
     ]
    },
    {
     "name": "stdout",
     "output_type": "stream",
     "text": [
      "[1] \"1617_OT_0041_REF\"\n"
     ]
    },
    {
     "name": "stderr",
     "output_type": "stream",
     "text": [
      "Warning message:\n",
      "“brglmFit: algorithm did not converge. Try changing the optimization algorithm defaults, e.g. the defaults for one or more of `maxit`, `epsilon`, `slowit`, and `response_adjustment`; see `?brglm_control` for default values and available options”\n",
      "Warning message:\n",
      "“brglmFit: fitted probabilities numerically 0 or 1 occurred”\n"
     ]
    },
    {
     "name": "stdout",
     "output_type": "stream",
     "text": [
      "[1] \"1617_OT_0318_ALT\"\n"
     ]
    },
    {
     "name": "stderr",
     "output_type": "stream",
     "text": [
      "Warning message:\n",
      "“brglmFit: algorithm did not converge. Try changing the optimization algorithm defaults, e.g. the defaults for one or more of `maxit`, `epsilon`, `slowit`, and `response_adjustment`; see `?brglm_control` for default values and available options”\n",
      "Warning message:\n",
      "“brglmFit: fitted probabilities numerically 0 or 1 occurred”\n"
     ]
    },
    {
     "name": "stdout",
     "output_type": "stream",
     "text": [
      "[1] \"1617_OT_0319_ALT\"\n"
     ]
    },
    {
     "name": "stderr",
     "output_type": "stream",
     "text": [
      "Warning message:\n",
      "“brglmFit: algorithm did not converge. Try changing the optimization algorithm defaults, e.g. the defaults for one or more of `maxit`, `epsilon`, `slowit`, and `response_adjustment`; see `?brglm_control` for default values and available options”\n",
      "Warning message:\n",
      "“brglmFit: fitted probabilities numerically 0 or 1 occurred”\n"
     ]
    },
    {
     "name": "stdout",
     "output_type": "stream",
     "text": [
      "[1] \"1617_OT_0322_ALT\"\n"
     ]
    },
    {
     "name": "stderr",
     "output_type": "stream",
     "text": [
      "Warning message:\n",
      "“brglmFit: algorithm did not converge. Try changing the optimization algorithm defaults, e.g. the defaults for one or more of `maxit`, `epsilon`, `slowit`, and `response_adjustment`; see `?brglm_control` for default values and available options”\n",
      "Warning message:\n",
      "“brglmFit: fitted probabilities numerically 0 or 1 occurred”\n"
     ]
    },
    {
     "name": "stdout",
     "output_type": "stream",
     "text": [
      "[1] \"1617_OT_0327_ALT\"\n"
     ]
    },
    {
     "name": "stderr",
     "output_type": "stream",
     "text": [
      "Warning message:\n",
      "“brglmFit: algorithm did not converge. Try changing the optimization algorithm defaults, e.g. the defaults for one or more of `maxit`, `epsilon`, `slowit`, and `response_adjustment`; see `?brglm_control` for default values and available options”\n",
      "Warning message:\n",
      "“brglmFit: fitted probabilities numerically 0 or 1 occurred”\n"
     ]
    },
    {
     "name": "stdout",
     "output_type": "stream",
     "text": [
      "[1] \"1617_OT_0329_ALT\"\n"
     ]
    },
    {
     "name": "stderr",
     "output_type": "stream",
     "text": [
      "Warning message:\n",
      "“brglmFit: algorithm did not converge. Try changing the optimization algorithm defaults, e.g. the defaults for one or more of `maxit`, `epsilon`, `slowit`, and `response_adjustment`; see `?brglm_control` for default values and available options”\n",
      "Warning message:\n",
      "“brglmFit: fitted probabilities numerically 0 or 1 occurred”\n"
     ]
    },
    {
     "name": "stdout",
     "output_type": "stream",
     "text": [
      "[1] \"1617_OT_0331_ALT\"\n"
     ]
    },
    {
     "name": "stderr",
     "output_type": "stream",
     "text": [
      "Warning message:\n",
      "“brglmFit: algorithm did not converge. Try changing the optimization algorithm defaults, e.g. the defaults for one or more of `maxit`, `epsilon`, `slowit`, and `response_adjustment`; see `?brglm_control` for default values and available options”\n",
      "Warning message:\n",
      "“brglmFit: fitted probabilities numerically 0 or 1 occurred”\n"
     ]
    },
    {
     "name": "stdout",
     "output_type": "stream",
     "text": [
      "[1] \"1617_OT_0332_ALT\"\n"
     ]
    },
    {
     "name": "stderr",
     "output_type": "stream",
     "text": [
      "Warning message:\n",
      "“brglmFit: algorithm did not converge. Try changing the optimization algorithm defaults, e.g. the defaults for one or more of `maxit`, `epsilon`, `slowit`, and `response_adjustment`; see `?brglm_control` for default values and available options”\n",
      "Warning message:\n",
      "“brglmFit: fitted probabilities numerically 0 or 1 occurred”\n"
     ]
    },
    {
     "name": "stdout",
     "output_type": "stream",
     "text": [
      "[1] \"1617_OT_0333_ALT\"\n"
     ]
    },
    {
     "name": "stderr",
     "output_type": "stream",
     "text": [
      "Warning message:\n",
      "“brglmFit: algorithm did not converge. Try changing the optimization algorithm defaults, e.g. the defaults for one or more of `maxit`, `epsilon`, `slowit`, and `response_adjustment`; see `?brglm_control` for default values and available options”\n",
      "Warning message:\n",
      "“brglmFit: fitted probabilities numerically 0 or 1 occurred”\n"
     ]
    },
    {
     "name": "stdout",
     "output_type": "stream",
     "text": [
      "[1] \"1617_OT_0334_ALT\"\n"
     ]
    },
    {
     "name": "stderr",
     "output_type": "stream",
     "text": [
      "Warning message:\n",
      "“brglmFit: algorithm did not converge. Try changing the optimization algorithm defaults, e.g. the defaults for one or more of `maxit`, `epsilon`, `slowit`, and `response_adjustment`; see `?brglm_control` for default values and available options”\n",
      "Warning message:\n",
      "“brglmFit: fitted probabilities numerically 0 or 1 occurred”\n"
     ]
    },
    {
     "name": "stdout",
     "output_type": "stream",
     "text": [
      "[1] \"1617_OT_0344_ALT\"\n"
     ]
    },
    {
     "name": "stderr",
     "output_type": "stream",
     "text": [
      "Warning message:\n",
      "“brglmFit: algorithm did not converge. Try changing the optimization algorithm defaults, e.g. the defaults for one or more of `maxit`, `epsilon`, `slowit`, and `response_adjustment`; see `?brglm_control` for default values and available options”\n",
      "Warning message:\n",
      "“brglmFit: fitted probabilities numerically 0 or 1 occurred”\n"
     ]
    },
    {
     "name": "stdout",
     "output_type": "stream",
     "text": [
      "[1] \"1617_OT_0345_ALT\"\n"
     ]
    },
    {
     "name": "stderr",
     "output_type": "stream",
     "text": [
      "Warning message:\n",
      "“brglmFit: algorithm did not converge. Try changing the optimization algorithm defaults, e.g. the defaults for one or more of `maxit`, `epsilon`, `slowit`, and `response_adjustment`; see `?brglm_control` for default values and available options”\n",
      "Warning message:\n",
      "“brglmFit: fitted probabilities numerically 0 or 1 occurred”\n"
     ]
    },
    {
     "name": "stdout",
     "output_type": "stream",
     "text": [
      "[1] \"1617_OT_0348_ALT\"\n"
     ]
    },
    {
     "name": "stderr",
     "output_type": "stream",
     "text": [
      "Warning message:\n",
      "“brglmFit: algorithm did not converge. Try changing the optimization algorithm defaults, e.g. the defaults for one or more of `maxit`, `epsilon`, `slowit`, and `response_adjustment`; see `?brglm_control` for default values and available options”\n",
      "Warning message:\n",
      "“brglmFit: fitted probabilities numerically 0 or 1 occurred”\n"
     ]
    },
    {
     "name": "stdout",
     "output_type": "stream",
     "text": [
      "[1] \"1617_OT_0349_ALT\"\n"
     ]
    },
    {
     "name": "stderr",
     "output_type": "stream",
     "text": [
      "Warning message:\n",
      "“brglmFit: algorithm did not converge. Try changing the optimization algorithm defaults, e.g. the defaults for one or more of `maxit`, `epsilon`, `slowit`, and `response_adjustment`; see `?brglm_control` for default values and available options”\n",
      "Warning message:\n",
      "“brglmFit: fitted probabilities numerically 0 or 1 occurred”\n"
     ]
    },
    {
     "name": "stdout",
     "output_type": "stream",
     "text": [
      "[1] \"1617_OT_0352_ALT\"\n"
     ]
    },
    {
     "name": "stderr",
     "output_type": "stream",
     "text": [
      "Warning message:\n",
      "“brglmFit: algorithm did not converge. Try changing the optimization algorithm defaults, e.g. the defaults for one or more of `maxit`, `epsilon`, `slowit`, and `response_adjustment`; see `?brglm_control` for default values and available options”\n",
      "Warning message:\n",
      "“brglmFit: fitted probabilities numerically 0 or 1 occurred”\n"
     ]
    },
    {
     "name": "stdout",
     "output_type": "stream",
     "text": [
      "[1] \"1617_OT_0353_ALT\"\n"
     ]
    },
    {
     "name": "stderr",
     "output_type": "stream",
     "text": [
      "Warning message:\n",
      "“brglmFit: algorithm did not converge. Try changing the optimization algorithm defaults, e.g. the defaults for one or more of `maxit`, `epsilon`, `slowit`, and `response_adjustment`; see `?brglm_control` for default values and available options”\n",
      "Warning message:\n",
      "“brglmFit: fitted probabilities numerically 0 or 1 occurred”\n"
     ]
    },
    {
     "name": "stdout",
     "output_type": "stream",
     "text": [
      "[1] \"1617_OT_0355_ALT\"\n"
     ]
    },
    {
     "name": "stderr",
     "output_type": "stream",
     "text": [
      "Warning message:\n",
      "“brglmFit: algorithm did not converge. Try changing the optimization algorithm defaults, e.g. the defaults for one or more of `maxit`, `epsilon`, `slowit`, and `response_adjustment`; see `?brglm_control` for default values and available options”\n",
      "Warning message:\n",
      "“brglmFit: fitted probabilities numerically 0 or 1 occurred”\n"
     ]
    },
    {
     "name": "stdout",
     "output_type": "stream",
     "text": [
      "[1] \"1617_OT_0356_ALT\"\n"
     ]
    },
    {
     "name": "stderr",
     "output_type": "stream",
     "text": [
      "Warning message:\n",
      "“brglmFit: algorithm did not converge. Try changing the optimization algorithm defaults, e.g. the defaults for one or more of `maxit`, `epsilon`, `slowit`, and `response_adjustment`; see `?brglm_control` for default values and available options”\n",
      "Warning message:\n",
      "“brglmFit: fitted probabilities numerically 0 or 1 occurred”\n"
     ]
    },
    {
     "name": "stdout",
     "output_type": "stream",
     "text": [
      "[1] \"1617_OT_0362_ALT\"\n"
     ]
    },
    {
     "name": "stderr",
     "output_type": "stream",
     "text": [
      "Warning message:\n",
      "“brglmFit: algorithm did not converge. Try changing the optimization algorithm defaults, e.g. the defaults for one or more of `maxit`, `epsilon`, `slowit`, and `response_adjustment`; see `?brglm_control` for default values and available options”\n",
      "Warning message:\n",
      "“brglmFit: fitted probabilities numerically 0 or 1 occurred”\n"
     ]
    },
    {
     "name": "stdout",
     "output_type": "stream",
     "text": [
      "[1] \"1617_OT_0373_ALT\"\n"
     ]
    },
    {
     "name": "stderr",
     "output_type": "stream",
     "text": [
      "Warning message:\n",
      "“brglmFit: algorithm did not converge. Try changing the optimization algorithm defaults, e.g. the defaults for one or more of `maxit`, `epsilon`, `slowit`, and `response_adjustment`; see `?brglm_control` for default values and available options”\n",
      "Warning message:\n",
      "“brglmFit: fitted probabilities numerically 0 or 1 occurred”\n"
     ]
    },
    {
     "name": "stdout",
     "output_type": "stream",
     "text": [
      "[1] \"1617_OT_0376_ALT\"\n"
     ]
    },
    {
     "name": "stderr",
     "output_type": "stream",
     "text": [
      "Warning message:\n",
      "“brglmFit: algorithm did not converge. Try changing the optimization algorithm defaults, e.g. the defaults for one or more of `maxit`, `epsilon`, `slowit`, and `response_adjustment`; see `?brglm_control` for default values and available options”\n",
      "Warning message:\n",
      "“brglmFit: fitted probabilities numerically 0 or 1 occurred”\n"
     ]
    },
    {
     "name": "stdout",
     "output_type": "stream",
     "text": [
      "[1] \"1617_OT_0381_ALT\"\n"
     ]
    },
    {
     "name": "stderr",
     "output_type": "stream",
     "text": [
      "Warning message:\n",
      "“brglmFit: algorithm did not converge. Try changing the optimization algorithm defaults, e.g. the defaults for one or more of `maxit`, `epsilon`, `slowit`, and `response_adjustment`; see `?brglm_control` for default values and available options”\n",
      "Warning message:\n",
      "“brglmFit: fitted probabilities numerically 0 or 1 occurred”\n"
     ]
    },
    {
     "name": "stdout",
     "output_type": "stream",
     "text": [
      "[1] \"1617_OT_0393_ALT\"\n"
     ]
    },
    {
     "name": "stderr",
     "output_type": "stream",
     "text": [
      "Warning message:\n",
      "“brglmFit: algorithm did not converge. Try changing the optimization algorithm defaults, e.g. the defaults for one or more of `maxit`, `epsilon`, `slowit`, and `response_adjustment`; see `?brglm_control` for default values and available options”\n",
      "Warning message:\n",
      "“brglmFit: fitted probabilities numerically 0 or 1 occurred”\n"
     ]
    },
    {
     "name": "stdout",
     "output_type": "stream",
     "text": [
      "[1] \"1617_OT_0398_ALT\"\n"
     ]
    },
    {
     "name": "stderr",
     "output_type": "stream",
     "text": [
      "Warning message:\n",
      "“brglmFit: algorithm did not converge. Try changing the optimization algorithm defaults, e.g. the defaults for one or more of `maxit`, `epsilon`, `slowit`, and `response_adjustment`; see `?brglm_control` for default values and available options”\n",
      "Warning message:\n",
      "“brglmFit: fitted probabilities numerically 0 or 1 occurred”\n"
     ]
    },
    {
     "name": "stdout",
     "output_type": "stream",
     "text": [
      "[1] \"1617_OT_0400_ALT\"\n"
     ]
    },
    {
     "name": "stderr",
     "output_type": "stream",
     "text": [
      "Warning message:\n",
      "“brglmFit: algorithm did not converge. Try changing the optimization algorithm defaults, e.g. the defaults for one or more of `maxit`, `epsilon`, `slowit`, and `response_adjustment`; see `?brglm_control` for default values and available options”\n",
      "Warning message:\n",
      "“brglmFit: fitted probabilities numerically 0 or 1 occurred”\n"
     ]
    },
    {
     "name": "stdout",
     "output_type": "stream",
     "text": [
      "[1] \"1617_OT_0436_ALT\"\n"
     ]
    },
    {
     "name": "stderr",
     "output_type": "stream",
     "text": [
      "Warning message:\n",
      "“brglmFit: algorithm did not converge. Try changing the optimization algorithm defaults, e.g. the defaults for one or more of `maxit`, `epsilon`, `slowit`, and `response_adjustment`; see `?brglm_control` for default values and available options”\n",
      "Warning message:\n",
      "“brglmFit: fitted probabilities numerically 0 or 1 occurred”\n"
     ]
    },
    {
     "name": "stdout",
     "output_type": "stream",
     "text": [
      "[1] \"dedudStringentV3_downSampling001_rep3\"\n",
      "[1] \"1450_OT_0000_REF\"\n",
      "[1] \"1450_OT_0071_REF\"\n"
     ]
    },
    {
     "name": "stderr",
     "output_type": "stream",
     "text": [
      "Warning message:\n",
      "“brglmFit: algorithm did not converge. Try changing the optimization algorithm defaults, e.g. the defaults for one or more of `maxit`, `epsilon`, `slowit`, and `response_adjustment`; see `?brglm_control` for default values and available options”\n",
      "Warning message:\n",
      "“brglmFit: fitted probabilities numerically 0 or 1 occurred”\n"
     ]
    },
    {
     "name": "stdout",
     "output_type": "stream",
     "text": [
      "[1] \"1450_OT_0125_ALT\"\n"
     ]
    },
    {
     "name": "stderr",
     "output_type": "stream",
     "text": [
      "Warning message:\n",
      "“brglmFit: algorithm did not converge. Try changing the optimization algorithm defaults, e.g. the defaults for one or more of `maxit`, `epsilon`, `slowit`, and `response_adjustment`; see `?brglm_control` for default values and available options”\n",
      "Warning message:\n",
      "“brglmFit: fitted probabilities numerically 0 or 1 occurred”\n"
     ]
    },
    {
     "name": "stdout",
     "output_type": "stream",
     "text": [
      "[1] \"1450_OT_0128_ALT\"\n"
     ]
    },
    {
     "name": "stderr",
     "output_type": "stream",
     "text": [
      "Warning message:\n",
      "“brglmFit: algorithm did not converge. Try changing the optimization algorithm defaults, e.g. the defaults for one or more of `maxit`, `epsilon`, `slowit`, and `response_adjustment`; see `?brglm_control` for default values and available options”\n",
      "Warning message:\n",
      "“brglmFit: fitted probabilities numerically 0 or 1 occurred”\n"
     ]
    },
    {
     "name": "stdout",
     "output_type": "stream",
     "text": [
      "[1] \"1450_OT_0132_ALT\"\n"
     ]
    },
    {
     "name": "stderr",
     "output_type": "stream",
     "text": [
      "Warning message:\n",
      "“brglmFit: algorithm did not converge. Try changing the optimization algorithm defaults, e.g. the defaults for one or more of `maxit`, `epsilon`, `slowit`, and `response_adjustment`; see `?brglm_control` for default values and available options”\n",
      "Warning message:\n",
      "“brglmFit: fitted probabilities numerically 0 or 1 occurred”\n"
     ]
    },
    {
     "name": "stdout",
     "output_type": "stream",
     "text": [
      "[1] \"1450_OT_0133_ALT\"\n"
     ]
    },
    {
     "name": "stderr",
     "output_type": "stream",
     "text": [
      "Warning message:\n",
      "“brglmFit: algorithm did not converge. Try changing the optimization algorithm defaults, e.g. the defaults for one or more of `maxit`, `epsilon`, `slowit`, and `response_adjustment`; see `?brglm_control` for default values and available options”\n",
      "Warning message:\n",
      "“brglmFit: fitted probabilities numerically 0 or 1 occurred”\n"
     ]
    },
    {
     "name": "stdout",
     "output_type": "stream",
     "text": [
      "[1] \"1450_OT_0136_ALT\"\n"
     ]
    },
    {
     "name": "stderr",
     "output_type": "stream",
     "text": [
      "Warning message:\n",
      "“brglmFit: algorithm did not converge. Try changing the optimization algorithm defaults, e.g. the defaults for one or more of `maxit`, `epsilon`, `slowit`, and `response_adjustment`; see `?brglm_control` for default values and available options”\n",
      "Warning message:\n",
      "“brglmFit: fitted probabilities numerically 0 or 1 occurred”\n"
     ]
    },
    {
     "name": "stdout",
     "output_type": "stream",
     "text": [
      "[1] \"1450_OT_0142_ALT\"\n"
     ]
    },
    {
     "name": "stderr",
     "output_type": "stream",
     "text": [
      "Warning message:\n",
      "“brglmFit: algorithm did not converge. Try changing the optimization algorithm defaults, e.g. the defaults for one or more of `maxit`, `epsilon`, `slowit`, and `response_adjustment`; see `?brglm_control` for default values and available options”\n",
      "Warning message:\n",
      "“brglmFit: fitted probabilities numerically 0 or 1 occurred”\n"
     ]
    },
    {
     "name": "stdout",
     "output_type": "stream",
     "text": [
      "[1] \"1450_OT_0145_ALT\"\n"
     ]
    },
    {
     "name": "stderr",
     "output_type": "stream",
     "text": [
      "Warning message:\n",
      "“brglmFit: algorithm did not converge. Try changing the optimization algorithm defaults, e.g. the defaults for one or more of `maxit`, `epsilon`, `slowit`, and `response_adjustment`; see `?brglm_control` for default values and available options”\n",
      "Warning message:\n",
      "“brglmFit: fitted probabilities numerically 0 or 1 occurred”\n"
     ]
    },
    {
     "name": "stdout",
     "output_type": "stream",
     "text": [
      "[1] \"1450_OT_0146_ALT\"\n"
     ]
    },
    {
     "name": "stderr",
     "output_type": "stream",
     "text": [
      "Warning message:\n",
      "“brglmFit: algorithm did not converge. Try changing the optimization algorithm defaults, e.g. the defaults for one or more of `maxit`, `epsilon`, `slowit`, and `response_adjustment`; see `?brglm_control` for default values and available options”\n",
      "Warning message:\n",
      "“brglmFit: fitted probabilities numerically 0 or 1 occurred”\n"
     ]
    },
    {
     "name": "stdout",
     "output_type": "stream",
     "text": [
      "[1] \"1450_OT_0152_ALT\"\n"
     ]
    },
    {
     "name": "stderr",
     "output_type": "stream",
     "text": [
      "Warning message:\n",
      "“brglmFit: algorithm did not converge. Try changing the optimization algorithm defaults, e.g. the defaults for one or more of `maxit`, `epsilon`, `slowit`, and `response_adjustment`; see `?brglm_control` for default values and available options”\n",
      "Warning message:\n",
      "“brglmFit: fitted probabilities numerically 0 or 1 occurred”\n"
     ]
    },
    {
     "name": "stdout",
     "output_type": "stream",
     "text": [
      "[1] \"1450_OT_0153_ALT\"\n"
     ]
    },
    {
     "name": "stderr",
     "output_type": "stream",
     "text": [
      "Warning message:\n",
      "“brglmFit: algorithm did not converge. Try changing the optimization algorithm defaults, e.g. the defaults for one or more of `maxit`, `epsilon`, `slowit`, and `response_adjustment`; see `?brglm_control` for default values and available options”\n",
      "Warning message:\n",
      "“brglmFit: fitted probabilities numerically 0 or 1 occurred”\n"
     ]
    },
    {
     "name": "stdout",
     "output_type": "stream",
     "text": [
      "[1] \"1450_OT_0162_ALT\"\n",
      "[1] \"1450_OT_0163_ALT\"\n"
     ]
    },
    {
     "name": "stderr",
     "output_type": "stream",
     "text": [
      "Warning message:\n",
      "“brglmFit: algorithm did not converge. Try changing the optimization algorithm defaults, e.g. the defaults for one or more of `maxit`, `epsilon`, `slowit`, and `response_adjustment`; see `?brglm_control` for default values and available options”\n",
      "Warning message:\n",
      "“brglmFit: fitted probabilities numerically 0 or 1 occurred”\n"
     ]
    },
    {
     "name": "stdout",
     "output_type": "stream",
     "text": [
      "[1] \"1450_OT_0164_ALT\"\n"
     ]
    },
    {
     "name": "stderr",
     "output_type": "stream",
     "text": [
      "Warning message:\n",
      "“brglmFit: algorithm did not converge. Try changing the optimization algorithm defaults, e.g. the defaults for one or more of `maxit`, `epsilon`, `slowit`, and `response_adjustment`; see `?brglm_control` for default values and available options”\n",
      "Warning message:\n",
      "“brglmFit: fitted probabilities numerically 0 or 1 occurred”\n"
     ]
    },
    {
     "name": "stdout",
     "output_type": "stream",
     "text": [
      "[1] \"1450_OT_0174_ALT\"\n"
     ]
    },
    {
     "name": "stderr",
     "output_type": "stream",
     "text": [
      "Warning message:\n",
      "“brglmFit: algorithm did not converge. Try changing the optimization algorithm defaults, e.g. the defaults for one or more of `maxit`, `epsilon`, `slowit`, and `response_adjustment`; see `?brglm_control` for default values and available options”\n",
      "Warning message:\n",
      "“brglmFit: fitted probabilities numerically 0 or 1 occurred”\n"
     ]
    },
    {
     "name": "stdout",
     "output_type": "stream",
     "text": [
      "[1] \"1450_OT_0176_ALT\"\n",
      "[1] \"1450_OT_0179_ALT\"\n"
     ]
    },
    {
     "name": "stderr",
     "output_type": "stream",
     "text": [
      "Warning message:\n",
      "“brglmFit: algorithm did not converge. Try changing the optimization algorithm defaults, e.g. the defaults for one or more of `maxit`, `epsilon`, `slowit`, and `response_adjustment`; see `?brglm_control` for default values and available options”\n",
      "Warning message:\n",
      "“brglmFit: fitted probabilities numerically 0 or 1 occurred”\n"
     ]
    },
    {
     "name": "stdout",
     "output_type": "stream",
     "text": [
      "[1] \"1450_OT_0190_ALT\"\n"
     ]
    },
    {
     "name": "stderr",
     "output_type": "stream",
     "text": [
      "Warning message:\n",
      "“brglmFit: algorithm did not converge. Try changing the optimization algorithm defaults, e.g. the defaults for one or more of `maxit`, `epsilon`, `slowit`, and `response_adjustment`; see `?brglm_control` for default values and available options”\n",
      "Warning message:\n",
      "“brglmFit: fitted probabilities numerically 0 or 1 occurred”\n"
     ]
    },
    {
     "name": "stdout",
     "output_type": "stream",
     "text": [
      "[1] \"1450_OT_0192_ALT\"\n"
     ]
    },
    {
     "name": "stderr",
     "output_type": "stream",
     "text": [
      "Warning message:\n",
      "“brglmFit: algorithm did not converge. Try changing the optimization algorithm defaults, e.g. the defaults for one or more of `maxit`, `epsilon`, `slowit`, and `response_adjustment`; see `?brglm_control` for default values and available options”\n",
      "Warning message:\n",
      "“brglmFit: fitted probabilities numerically 0 or 1 occurred”\n"
     ]
    },
    {
     "name": "stdout",
     "output_type": "stream",
     "text": [
      "[1] \"1450_OT_0193_ALT\"\n"
     ]
    },
    {
     "name": "stderr",
     "output_type": "stream",
     "text": [
      "Warning message:\n",
      "“brglmFit: algorithm did not converge. Try changing the optimization algorithm defaults, e.g. the defaults for one or more of `maxit`, `epsilon`, `slowit`, and `response_adjustment`; see `?brglm_control` for default values and available options”\n",
      "Warning message:\n",
      "“brglmFit: fitted probabilities numerically 0 or 1 occurred”\n"
     ]
    },
    {
     "name": "stdout",
     "output_type": "stream",
     "text": [
      "[1] \"1450_OT_0194_ALT\"\n"
     ]
    },
    {
     "name": "stderr",
     "output_type": "stream",
     "text": [
      "Warning message:\n",
      "“brglmFit: algorithm did not converge. Try changing the optimization algorithm defaults, e.g. the defaults for one or more of `maxit`, `epsilon`, `slowit`, and `response_adjustment`; see `?brglm_control` for default values and available options”\n",
      "Warning message:\n",
      "“brglmFit: fitted probabilities numerically 0 or 1 occurred”\n"
     ]
    },
    {
     "name": "stdout",
     "output_type": "stream",
     "text": [
      "[1] \"1450_OT_0200_ALT\"\n"
     ]
    },
    {
     "name": "stderr",
     "output_type": "stream",
     "text": [
      "Warning message:\n",
      "“brglmFit: algorithm did not converge. Try changing the optimization algorithm defaults, e.g. the defaults for one or more of `maxit`, `epsilon`, `slowit`, and `response_adjustment`; see `?brglm_control` for default values and available options”\n",
      "Warning message:\n",
      "“brglmFit: fitted probabilities numerically 0 or 1 occurred”\n"
     ]
    },
    {
     "name": "stdout",
     "output_type": "stream",
     "text": [
      "[1] \"1450_OT_0203_ALT\"\n"
     ]
    },
    {
     "name": "stderr",
     "output_type": "stream",
     "text": [
      "Warning message:\n",
      "“brglmFit: algorithm did not converge. Try changing the optimization algorithm defaults, e.g. the defaults for one or more of `maxit`, `epsilon`, `slowit`, and `response_adjustment`; see `?brglm_control` for default values and available options”\n",
      "Warning message:\n",
      "“brglmFit: fitted probabilities numerically 0 or 1 occurred”\n"
     ]
    },
    {
     "name": "stdout",
     "output_type": "stream",
     "text": [
      "[1] \"1450_OT_0206_ALT\"\n"
     ]
    },
    {
     "name": "stderr",
     "output_type": "stream",
     "text": [
      "Warning message:\n",
      "“brglmFit: algorithm did not converge. Try changing the optimization algorithm defaults, e.g. the defaults for one or more of `maxit`, `epsilon`, `slowit`, and `response_adjustment`; see `?brglm_control` for default values and available options”\n",
      "Warning message:\n",
      "“brglmFit: fitted probabilities numerically 0 or 1 occurred”\n"
     ]
    },
    {
     "name": "stdout",
     "output_type": "stream",
     "text": [
      "[1] \"1450_OT_0210_ALT\"\n"
     ]
    },
    {
     "name": "stderr",
     "output_type": "stream",
     "text": [
      "Warning message:\n",
      "“brglmFit: algorithm did not converge. Try changing the optimization algorithm defaults, e.g. the defaults for one or more of `maxit`, `epsilon`, `slowit`, and `response_adjustment`; see `?brglm_control` for default values and available options”\n",
      "Warning message:\n",
      "“brglmFit: fitted probabilities numerically 0 or 1 occurred”\n"
     ]
    },
    {
     "name": "stdout",
     "output_type": "stream",
     "text": [
      "[1] \"1450_OT_0219_ALT\"\n"
     ]
    },
    {
     "name": "stderr",
     "output_type": "stream",
     "text": [
      "Warning message:\n",
      "“brglmFit: algorithm did not converge. Try changing the optimization algorithm defaults, e.g. the defaults for one or more of `maxit`, `epsilon`, `slowit`, and `response_adjustment`; see `?brglm_control` for default values and available options”\n",
      "Warning message:\n",
      "“brglmFit: fitted probabilities numerically 0 or 1 occurred”\n"
     ]
    },
    {
     "name": "stdout",
     "output_type": "stream",
     "text": [
      "[1] \"1450_OT_0235_ALT\"\n"
     ]
    },
    {
     "name": "stderr",
     "output_type": "stream",
     "text": [
      "Warning message:\n",
      "“brglmFit: algorithm did not converge. Try changing the optimization algorithm defaults, e.g. the defaults for one or more of `maxit`, `epsilon`, `slowit`, and `response_adjustment`; see `?brglm_control` for default values and available options”\n",
      "Warning message:\n",
      "“brglmFit: fitted probabilities numerically 0 or 1 occurred”\n"
     ]
    },
    {
     "name": "stdout",
     "output_type": "stream",
     "text": [
      "[1] \"1450_OT_0237_ALT\"\n"
     ]
    },
    {
     "name": "stderr",
     "output_type": "stream",
     "text": [
      "Warning message:\n",
      "“brglmFit: algorithm did not converge. Try changing the optimization algorithm defaults, e.g. the defaults for one or more of `maxit`, `epsilon`, `slowit`, and `response_adjustment`; see `?brglm_control` for default values and available options”\n",
      "Warning message:\n",
      "“brglmFit: fitted probabilities numerically 0 or 1 occurred”\n"
     ]
    },
    {
     "name": "stdout",
     "output_type": "stream",
     "text": [
      "[1] \"1450_OT_0238_ALT\"\n"
     ]
    },
    {
     "name": "stderr",
     "output_type": "stream",
     "text": [
      "Warning message:\n",
      "“brglmFit: algorithm did not converge. Try changing the optimization algorithm defaults, e.g. the defaults for one or more of `maxit`, `epsilon`, `slowit`, and `response_adjustment`; see `?brglm_control` for default values and available options”\n",
      "Warning message:\n",
      "“brglmFit: fitted probabilities numerically 0 or 1 occurred”\n"
     ]
    },
    {
     "name": "stdout",
     "output_type": "stream",
     "text": [
      "[1] \"1450_OT_0240_ALT\"\n"
     ]
    },
    {
     "name": "stderr",
     "output_type": "stream",
     "text": [
      "Warning message:\n",
      "“brglmFit: algorithm did not converge. Try changing the optimization algorithm defaults, e.g. the defaults for one or more of `maxit`, `epsilon`, `slowit`, and `response_adjustment`; see `?brglm_control` for default values and available options”\n",
      "Warning message:\n",
      "“brglmFit: fitted probabilities numerically 0 or 1 occurred”\n"
     ]
    },
    {
     "name": "stdout",
     "output_type": "stream",
     "text": [
      "[1] \"1450_OT_0243_ALT\"\n"
     ]
    },
    {
     "name": "stderr",
     "output_type": "stream",
     "text": [
      "Warning message:\n",
      "“brglmFit: algorithm did not converge. Try changing the optimization algorithm defaults, e.g. the defaults for one or more of `maxit`, `epsilon`, `slowit`, and `response_adjustment`; see `?brglm_control` for default values and available options”\n",
      "Warning message:\n",
      "“brglmFit: fitted probabilities numerically 0 or 1 occurred”\n"
     ]
    },
    {
     "name": "stdout",
     "output_type": "stream",
     "text": [
      "[1] \"1450_OT_0250_ALT\"\n"
     ]
    },
    {
     "name": "stderr",
     "output_type": "stream",
     "text": [
      "Warning message:\n",
      "“brglmFit: algorithm did not converge. Try changing the optimization algorithm defaults, e.g. the defaults for one or more of `maxit`, `epsilon`, `slowit`, and `response_adjustment`; see `?brglm_control` for default values and available options”\n",
      "Warning message:\n",
      "“brglmFit: fitted probabilities numerically 0 or 1 occurred”\n"
     ]
    },
    {
     "name": "stdout",
     "output_type": "stream",
     "text": [
      "[1] \"1450_OT_0251_ALT\"\n",
      "[1] \"1450_OT_0264_ALT\"\n"
     ]
    },
    {
     "name": "stderr",
     "output_type": "stream",
     "text": [
      "Warning message:\n",
      "“brglmFit: algorithm did not converge. Try changing the optimization algorithm defaults, e.g. the defaults for one or more of `maxit`, `epsilon`, `slowit`, and `response_adjustment`; see `?brglm_control` for default values and available options”\n",
      "Warning message:\n",
      "“brglmFit: fitted probabilities numerically 0 or 1 occurred”\n"
     ]
    },
    {
     "name": "stdout",
     "output_type": "stream",
     "text": [
      "[1] \"1450_OT_0274_ALT\"\n",
      "[1] \"1450_OT_0278_ALT\"\n"
     ]
    },
    {
     "name": "stderr",
     "output_type": "stream",
     "text": [
      "Warning message:\n",
      "“brglmFit: algorithm did not converge. Try changing the optimization algorithm defaults, e.g. the defaults for one or more of `maxit`, `epsilon`, `slowit`, and `response_adjustment`; see `?brglm_control` for default values and available options”\n",
      "Warning message:\n",
      "“brglmFit: fitted probabilities numerically 0 or 1 occurred”\n"
     ]
    },
    {
     "name": "stdout",
     "output_type": "stream",
     "text": [
      "[1] \"1450_OT_0282_ALT\"\n",
      "[1] \"1450_OT_0290_ALT\"\n"
     ]
    },
    {
     "name": "stderr",
     "output_type": "stream",
     "text": [
      "Warning message:\n",
      "“brglmFit: algorithm did not converge. Try changing the optimization algorithm defaults, e.g. the defaults for one or more of `maxit`, `epsilon`, `slowit`, and `response_adjustment`; see `?brglm_control` for default values and available options”\n",
      "Warning message:\n",
      "“brglmFit: fitted probabilities numerically 0 or 1 occurred”\n"
     ]
    },
    {
     "name": "stdout",
     "output_type": "stream",
     "text": [
      "[1] \"1450_OT_0297_ALT\"\n"
     ]
    },
    {
     "name": "stderr",
     "output_type": "stream",
     "text": [
      "Warning message:\n",
      "“brglmFit: algorithm did not converge. Try changing the optimization algorithm defaults, e.g. the defaults for one or more of `maxit`, `epsilon`, `slowit`, and `response_adjustment`; see `?brglm_control` for default values and available options”\n",
      "Warning message:\n",
      "“brglmFit: fitted probabilities numerically 0 or 1 occurred”\n"
     ]
    },
    {
     "name": "stdout",
     "output_type": "stream",
     "text": [
      "[1] \"1450_OT_0298_ALT\"\n"
     ]
    },
    {
     "name": "stderr",
     "output_type": "stream",
     "text": [
      "Warning message:\n",
      "“brglmFit: algorithm did not converge. Try changing the optimization algorithm defaults, e.g. the defaults for one or more of `maxit`, `epsilon`, `slowit`, and `response_adjustment`; see `?brglm_control` for default values and available options”\n",
      "Warning message:\n",
      "“brglmFit: fitted probabilities numerically 0 or 1 occurred”\n"
     ]
    },
    {
     "name": "stdout",
     "output_type": "stream",
     "text": [
      "[1] \"1450_OT_0299_ALT\"\n"
     ]
    },
    {
     "name": "stderr",
     "output_type": "stream",
     "text": [
      "Warning message:\n",
      "“brglmFit: algorithm did not converge. Try changing the optimization algorithm defaults, e.g. the defaults for one or more of `maxit`, `epsilon`, `slowit`, and `response_adjustment`; see `?brglm_control` for default values and available options”\n",
      "Warning message:\n",
      "“brglmFit: fitted probabilities numerically 0 or 1 occurred”\n"
     ]
    },
    {
     "name": "stdout",
     "output_type": "stream",
     "text": [
      "[1] \"1450_OT_0311_ALT\"\n"
     ]
    },
    {
     "name": "stderr",
     "output_type": "stream",
     "text": [
      "Warning message:\n",
      "“brglmFit: algorithm did not converge. Try changing the optimization algorithm defaults, e.g. the defaults for one or more of `maxit`, `epsilon`, `slowit`, and `response_adjustment`; see `?brglm_control` for default values and available options”\n",
      "Warning message:\n",
      "“brglmFit: fitted probabilities numerically 0 or 1 occurred”\n"
     ]
    },
    {
     "name": "stdout",
     "output_type": "stream",
     "text": [
      "[1] \"1450_OT_0320_ALT\"\n",
      "[1] \"1450_OT_0321_ALT\"\n",
      "[1] \"1450_OT_0328_ALT\"\n",
      "[1] \"1450_OT_0329_ALT\"\n"
     ]
    },
    {
     "name": "stderr",
     "output_type": "stream",
     "text": [
      "Warning message:\n",
      "“brglmFit: algorithm did not converge. Try changing the optimization algorithm defaults, e.g. the defaults for one or more of `maxit`, `epsilon`, `slowit`, and `response_adjustment`; see `?brglm_control` for default values and available options”\n",
      "Warning message:\n",
      "“brglmFit: fitted probabilities numerically 0 or 1 occurred”\n"
     ]
    },
    {
     "name": "stdout",
     "output_type": "stream",
     "text": [
      "[1] \"1450_OT_0361_ALT\"\n"
     ]
    },
    {
     "name": "stderr",
     "output_type": "stream",
     "text": [
      "Warning message:\n",
      "“brglmFit: algorithm did not converge. Try changing the optimization algorithm defaults, e.g. the defaults for one or more of `maxit`, `epsilon`, `slowit`, and `response_adjustment`; see `?brglm_control` for default values and available options”\n",
      "Warning message:\n",
      "“brglmFit: fitted probabilities numerically 0 or 1 occurred”\n"
     ]
    },
    {
     "name": "stdout",
     "output_type": "stream",
     "text": [
      "[1] \"1450_OT_0362_ALT\"\n"
     ]
    },
    {
     "name": "stderr",
     "output_type": "stream",
     "text": [
      "Warning message:\n",
      "“brglmFit: algorithm did not converge. Try changing the optimization algorithm defaults, e.g. the defaults for one or more of `maxit`, `epsilon`, `slowit`, and `response_adjustment`; see `?brglm_control` for default values and available options”\n",
      "Warning message:\n",
      "“brglmFit: fitted probabilities numerically 0 or 1 occurred”\n"
     ]
    },
    {
     "name": "stdout",
     "output_type": "stream",
     "text": [
      "[1] \"1617_OT_0000_REF\"\n",
      "[1] \"1617_OT_0040_ALT\"\n",
      "[1] \"1617_OT_0040_REF\"\n"
     ]
    },
    {
     "name": "stderr",
     "output_type": "stream",
     "text": [
      "Warning message:\n",
      "“brglmFit: algorithm did not converge. Try changing the optimization algorithm defaults, e.g. the defaults for one or more of `maxit`, `epsilon`, `slowit`, and `response_adjustment`; see `?brglm_control` for default values and available options”\n",
      "Warning message:\n",
      "“brglmFit: fitted probabilities numerically 0 or 1 occurred”\n"
     ]
    },
    {
     "name": "stdout",
     "output_type": "stream",
     "text": [
      "[1] \"1617_OT_0041_ALT\"\n"
     ]
    },
    {
     "name": "stderr",
     "output_type": "stream",
     "text": [
      "Warning message:\n",
      "“brglmFit: algorithm did not converge. Try changing the optimization algorithm defaults, e.g. the defaults for one or more of `maxit`, `epsilon`, `slowit`, and `response_adjustment`; see `?brglm_control` for default values and available options”\n",
      "Warning message:\n",
      "“brglmFit: fitted probabilities numerically 0 or 1 occurred”\n"
     ]
    },
    {
     "name": "stdout",
     "output_type": "stream",
     "text": [
      "[1] \"1617_OT_0041_REF\"\n"
     ]
    },
    {
     "name": "stderr",
     "output_type": "stream",
     "text": [
      "Warning message:\n",
      "“brglmFit: algorithm did not converge. Try changing the optimization algorithm defaults, e.g. the defaults for one or more of `maxit`, `epsilon`, `slowit`, and `response_adjustment`; see `?brglm_control` for default values and available options”\n",
      "Warning message:\n",
      "“brglmFit: fitted probabilities numerically 0 or 1 occurred”\n"
     ]
    },
    {
     "name": "stdout",
     "output_type": "stream",
     "text": [
      "[1] \"1617_OT_0318_ALT\"\n"
     ]
    },
    {
     "name": "stderr",
     "output_type": "stream",
     "text": [
      "Warning message:\n",
      "“brglmFit: algorithm did not converge. Try changing the optimization algorithm defaults, e.g. the defaults for one or more of `maxit`, `epsilon`, `slowit`, and `response_adjustment`; see `?brglm_control` for default values and available options”\n",
      "Warning message:\n",
      "“brglmFit: fitted probabilities numerically 0 or 1 occurred”\n"
     ]
    },
    {
     "name": "stdout",
     "output_type": "stream",
     "text": [
      "[1] \"1617_OT_0319_ALT\"\n"
     ]
    },
    {
     "name": "stderr",
     "output_type": "stream",
     "text": [
      "Warning message:\n",
      "“brglmFit: algorithm did not converge. Try changing the optimization algorithm defaults, e.g. the defaults for one or more of `maxit`, `epsilon`, `slowit`, and `response_adjustment`; see `?brglm_control` for default values and available options”\n",
      "Warning message:\n",
      "“brglmFit: fitted probabilities numerically 0 or 1 occurred”\n"
     ]
    },
    {
     "name": "stdout",
     "output_type": "stream",
     "text": [
      "[1] \"1617_OT_0322_ALT\"\n"
     ]
    },
    {
     "name": "stderr",
     "output_type": "stream",
     "text": [
      "Warning message:\n",
      "“brglmFit: algorithm did not converge. Try changing the optimization algorithm defaults, e.g. the defaults for one or more of `maxit`, `epsilon`, `slowit`, and `response_adjustment`; see `?brglm_control` for default values and available options”\n",
      "Warning message:\n",
      "“brglmFit: fitted probabilities numerically 0 or 1 occurred”\n"
     ]
    },
    {
     "name": "stdout",
     "output_type": "stream",
     "text": [
      "[1] \"1617_OT_0327_ALT\"\n"
     ]
    },
    {
     "name": "stderr",
     "output_type": "stream",
     "text": [
      "Warning message:\n",
      "“brglmFit: algorithm did not converge. Try changing the optimization algorithm defaults, e.g. the defaults for one or more of `maxit`, `epsilon`, `slowit`, and `response_adjustment`; see `?brglm_control` for default values and available options”\n",
      "Warning message:\n",
      "“brglmFit: fitted probabilities numerically 0 or 1 occurred”\n"
     ]
    },
    {
     "name": "stdout",
     "output_type": "stream",
     "text": [
      "[1] \"1617_OT_0329_ALT\"\n"
     ]
    },
    {
     "name": "stderr",
     "output_type": "stream",
     "text": [
      "Warning message:\n",
      "“brglmFit: algorithm did not converge. Try changing the optimization algorithm defaults, e.g. the defaults for one or more of `maxit`, `epsilon`, `slowit`, and `response_adjustment`; see `?brglm_control` for default values and available options”\n",
      "Warning message:\n",
      "“brglmFit: fitted probabilities numerically 0 or 1 occurred”\n"
     ]
    },
    {
     "name": "stdout",
     "output_type": "stream",
     "text": [
      "[1] \"1617_OT_0331_ALT\"\n"
     ]
    },
    {
     "name": "stderr",
     "output_type": "stream",
     "text": [
      "Warning message:\n",
      "“brglmFit: algorithm did not converge. Try changing the optimization algorithm defaults, e.g. the defaults for one or more of `maxit`, `epsilon`, `slowit`, and `response_adjustment`; see `?brglm_control` for default values and available options”\n",
      "Warning message:\n",
      "“brglmFit: fitted probabilities numerically 0 or 1 occurred”\n"
     ]
    },
    {
     "name": "stdout",
     "output_type": "stream",
     "text": [
      "[1] \"1617_OT_0332_ALT\"\n"
     ]
    },
    {
     "name": "stderr",
     "output_type": "stream",
     "text": [
      "Warning message:\n",
      "“brglmFit: algorithm did not converge. Try changing the optimization algorithm defaults, e.g. the defaults for one or more of `maxit`, `epsilon`, `slowit`, and `response_adjustment`; see `?brglm_control` for default values and available options”\n",
      "Warning message:\n",
      "“brglmFit: fitted probabilities numerically 0 or 1 occurred”\n"
     ]
    },
    {
     "name": "stdout",
     "output_type": "stream",
     "text": [
      "[1] \"1617_OT_0333_ALT\"\n",
      "[1] \"1617_OT_0334_ALT\"\n"
     ]
    },
    {
     "name": "stderr",
     "output_type": "stream",
     "text": [
      "Warning message:\n",
      "“brglmFit: algorithm did not converge. Try changing the optimization algorithm defaults, e.g. the defaults for one or more of `maxit`, `epsilon`, `slowit`, and `response_adjustment`; see `?brglm_control` for default values and available options”\n",
      "Warning message:\n",
      "“brglmFit: fitted probabilities numerically 0 or 1 occurred”\n"
     ]
    },
    {
     "name": "stdout",
     "output_type": "stream",
     "text": [
      "[1] \"1617_OT_0344_ALT\"\n"
     ]
    },
    {
     "name": "stderr",
     "output_type": "stream",
     "text": [
      "Warning message:\n",
      "“brglmFit: algorithm did not converge. Try changing the optimization algorithm defaults, e.g. the defaults for one or more of `maxit`, `epsilon`, `slowit`, and `response_adjustment`; see `?brglm_control` for default values and available options”\n",
      "Warning message:\n",
      "“brglmFit: fitted probabilities numerically 0 or 1 occurred”\n"
     ]
    },
    {
     "name": "stdout",
     "output_type": "stream",
     "text": [
      "[1] \"1617_OT_0345_ALT\"\n"
     ]
    },
    {
     "name": "stderr",
     "output_type": "stream",
     "text": [
      "Warning message:\n",
      "“brglmFit: algorithm did not converge. Try changing the optimization algorithm defaults, e.g. the defaults for one or more of `maxit`, `epsilon`, `slowit`, and `response_adjustment`; see `?brglm_control` for default values and available options”\n",
      "Warning message:\n",
      "“brglmFit: fitted probabilities numerically 0 or 1 occurred”\n"
     ]
    },
    {
     "name": "stdout",
     "output_type": "stream",
     "text": [
      "[1] \"1617_OT_0348_ALT\"\n"
     ]
    },
    {
     "name": "stderr",
     "output_type": "stream",
     "text": [
      "Warning message:\n",
      "“brglmFit: algorithm did not converge. Try changing the optimization algorithm defaults, e.g. the defaults for one or more of `maxit`, `epsilon`, `slowit`, and `response_adjustment`; see `?brglm_control` for default values and available options”\n",
      "Warning message:\n",
      "“brglmFit: fitted probabilities numerically 0 or 1 occurred”\n"
     ]
    },
    {
     "name": "stdout",
     "output_type": "stream",
     "text": [
      "[1] \"1617_OT_0349_ALT\"\n",
      "[1] \"1617_OT_0352_ALT\"\n"
     ]
    },
    {
     "name": "stderr",
     "output_type": "stream",
     "text": [
      "Warning message:\n",
      "“brglmFit: algorithm did not converge. Try changing the optimization algorithm defaults, e.g. the defaults for one or more of `maxit`, `epsilon`, `slowit`, and `response_adjustment`; see `?brglm_control` for default values and available options”\n",
      "Warning message:\n",
      "“brglmFit: fitted probabilities numerically 0 or 1 occurred”\n"
     ]
    },
    {
     "name": "stdout",
     "output_type": "stream",
     "text": [
      "[1] \"1617_OT_0353_ALT\"\n"
     ]
    },
    {
     "name": "stderr",
     "output_type": "stream",
     "text": [
      "Warning message:\n",
      "“brglmFit: algorithm did not converge. Try changing the optimization algorithm defaults, e.g. the defaults for one or more of `maxit`, `epsilon`, `slowit`, and `response_adjustment`; see `?brglm_control` for default values and available options”\n",
      "Warning message:\n",
      "“brglmFit: fitted probabilities numerically 0 or 1 occurred”\n"
     ]
    },
    {
     "name": "stdout",
     "output_type": "stream",
     "text": [
      "[1] \"1617_OT_0355_ALT\"\n"
     ]
    },
    {
     "name": "stderr",
     "output_type": "stream",
     "text": [
      "Warning message:\n",
      "“brglmFit: algorithm did not converge. Try changing the optimization algorithm defaults, e.g. the defaults for one or more of `maxit`, `epsilon`, `slowit`, and `response_adjustment`; see `?brglm_control` for default values and available options”\n",
      "Warning message:\n",
      "“brglmFit: fitted probabilities numerically 0 or 1 occurred”\n"
     ]
    },
    {
     "name": "stdout",
     "output_type": "stream",
     "text": [
      "[1] \"1617_OT_0356_ALT\"\n"
     ]
    },
    {
     "name": "stderr",
     "output_type": "stream",
     "text": [
      "Warning message:\n",
      "“brglmFit: algorithm did not converge. Try changing the optimization algorithm defaults, e.g. the defaults for one or more of `maxit`, `epsilon`, `slowit`, and `response_adjustment`; see `?brglm_control` for default values and available options”\n",
      "Warning message:\n",
      "“brglmFit: fitted probabilities numerically 0 or 1 occurred”\n"
     ]
    },
    {
     "name": "stdout",
     "output_type": "stream",
     "text": [
      "[1] \"1617_OT_0362_ALT\"\n"
     ]
    },
    {
     "name": "stderr",
     "output_type": "stream",
     "text": [
      "Warning message:\n",
      "“brglmFit: algorithm did not converge. Try changing the optimization algorithm defaults, e.g. the defaults for one or more of `maxit`, `epsilon`, `slowit`, and `response_adjustment`; see `?brglm_control` for default values and available options”\n",
      "Warning message:\n",
      "“brglmFit: fitted probabilities numerically 0 or 1 occurred”\n"
     ]
    },
    {
     "name": "stdout",
     "output_type": "stream",
     "text": [
      "[1] \"1617_OT_0373_ALT\"\n"
     ]
    },
    {
     "name": "stderr",
     "output_type": "stream",
     "text": [
      "Warning message:\n",
      "“brglmFit: algorithm did not converge. Try changing the optimization algorithm defaults, e.g. the defaults for one or more of `maxit`, `epsilon`, `slowit`, and `response_adjustment`; see `?brglm_control` for default values and available options”\n",
      "Warning message:\n",
      "“brglmFit: fitted probabilities numerically 0 or 1 occurred”\n"
     ]
    },
    {
     "name": "stdout",
     "output_type": "stream",
     "text": [
      "[1] \"1617_OT_0376_ALT\"\n"
     ]
    },
    {
     "name": "stderr",
     "output_type": "stream",
     "text": [
      "Warning message:\n",
      "“brglmFit: algorithm did not converge. Try changing the optimization algorithm defaults, e.g. the defaults for one or more of `maxit`, `epsilon`, `slowit`, and `response_adjustment`; see `?brglm_control` for default values and available options”\n",
      "Warning message:\n",
      "“brglmFit: fitted probabilities numerically 0 or 1 occurred”\n"
     ]
    },
    {
     "name": "stdout",
     "output_type": "stream",
     "text": [
      "[1] \"1617_OT_0381_ALT\"\n"
     ]
    },
    {
     "name": "stderr",
     "output_type": "stream",
     "text": [
      "Warning message:\n",
      "“brglmFit: algorithm did not converge. Try changing the optimization algorithm defaults, e.g. the defaults for one or more of `maxit`, `epsilon`, `slowit`, and `response_adjustment`; see `?brglm_control` for default values and available options”\n",
      "Warning message:\n",
      "“brglmFit: fitted probabilities numerically 0 or 1 occurred”\n"
     ]
    },
    {
     "name": "stdout",
     "output_type": "stream",
     "text": [
      "[1] \"1617_OT_0393_ALT\"\n"
     ]
    },
    {
     "name": "stderr",
     "output_type": "stream",
     "text": [
      "Warning message:\n",
      "“brglmFit: algorithm did not converge. Try changing the optimization algorithm defaults, e.g. the defaults for one or more of `maxit`, `epsilon`, `slowit`, and `response_adjustment`; see `?brglm_control` for default values and available options”\n",
      "Warning message:\n",
      "“brglmFit: fitted probabilities numerically 0 or 1 occurred”\n"
     ]
    },
    {
     "name": "stdout",
     "output_type": "stream",
     "text": [
      "[1] \"1617_OT_0398_ALT\"\n"
     ]
    },
    {
     "name": "stderr",
     "output_type": "stream",
     "text": [
      "Warning message:\n",
      "“brglmFit: algorithm did not converge. Try changing the optimization algorithm defaults, e.g. the defaults for one or more of `maxit`, `epsilon`, `slowit`, and `response_adjustment`; see `?brglm_control` for default values and available options”\n",
      "Warning message:\n",
      "“brglmFit: fitted probabilities numerically 0 or 1 occurred”\n"
     ]
    },
    {
     "name": "stdout",
     "output_type": "stream",
     "text": [
      "[1] \"1617_OT_0400_ALT\"\n"
     ]
    },
    {
     "name": "stderr",
     "output_type": "stream",
     "text": [
      "Warning message:\n",
      "“brglmFit: algorithm did not converge. Try changing the optimization algorithm defaults, e.g. the defaults for one or more of `maxit`, `epsilon`, `slowit`, and `response_adjustment`; see `?brglm_control` for default values and available options”\n",
      "Warning message:\n",
      "“brglmFit: fitted probabilities numerically 0 or 1 occurred”\n"
     ]
    },
    {
     "name": "stdout",
     "output_type": "stream",
     "text": [
      "[1] \"1617_OT_0436_ALT\"\n"
     ]
    },
    {
     "name": "stderr",
     "output_type": "stream",
     "text": [
      "Warning message:\n",
      "“brglmFit: algorithm did not converge. Try changing the optimization algorithm defaults, e.g. the defaults for one or more of `maxit`, `epsilon`, `slowit`, and `response_adjustment`; see `?brglm_control` for default values and available options”\n",
      "Warning message:\n",
      "“brglmFit: fitted probabilities numerically 0 or 1 occurred”\n"
     ]
    },
    {
     "name": "stdout",
     "output_type": "stream",
     "text": [
      "[1] \"dedudStringentV3_downSampling001_rep4\"\n",
      "[1] \"1450_OT_0000_REF\"\n",
      "[1] \"1450_OT_0071_REF\"\n",
      "[1] \"1450_OT_0125_ALT\"\n"
     ]
    },
    {
     "name": "stderr",
     "output_type": "stream",
     "text": [
      "Warning message:\n",
      "“brglmFit: algorithm did not converge. Try changing the optimization algorithm defaults, e.g. the defaults for one or more of `maxit`, `epsilon`, `slowit`, and `response_adjustment`; see `?brglm_control` for default values and available options”\n",
      "Warning message:\n",
      "“brglmFit: fitted probabilities numerically 0 or 1 occurred”\n"
     ]
    },
    {
     "name": "stdout",
     "output_type": "stream",
     "text": [
      "[1] \"1450_OT_0128_ALT\"\n"
     ]
    },
    {
     "name": "stderr",
     "output_type": "stream",
     "text": [
      "Warning message:\n",
      "“brglmFit: algorithm did not converge. Try changing the optimization algorithm defaults, e.g. the defaults for one or more of `maxit`, `epsilon`, `slowit`, and `response_adjustment`; see `?brglm_control` for default values and available options”\n",
      "Warning message:\n",
      "“brglmFit: fitted probabilities numerically 0 or 1 occurred”\n"
     ]
    },
    {
     "name": "stdout",
     "output_type": "stream",
     "text": [
      "[1] \"1450_OT_0132_ALT\"\n"
     ]
    },
    {
     "name": "stderr",
     "output_type": "stream",
     "text": [
      "Warning message:\n",
      "“brglmFit: algorithm did not converge. Try changing the optimization algorithm defaults, e.g. the defaults for one or more of `maxit`, `epsilon`, `slowit`, and `response_adjustment`; see `?brglm_control` for default values and available options”\n",
      "Warning message:\n",
      "“brglmFit: fitted probabilities numerically 0 or 1 occurred”\n"
     ]
    },
    {
     "name": "stdout",
     "output_type": "stream",
     "text": [
      "[1] \"1450_OT_0133_ALT\"\n"
     ]
    },
    {
     "name": "stderr",
     "output_type": "stream",
     "text": [
      "Warning message:\n",
      "“brglmFit: algorithm did not converge. Try changing the optimization algorithm defaults, e.g. the defaults for one or more of `maxit`, `epsilon`, `slowit`, and `response_adjustment`; see `?brglm_control` for default values and available options”\n",
      "Warning message:\n",
      "“brglmFit: fitted probabilities numerically 0 or 1 occurred”\n"
     ]
    },
    {
     "name": "stdout",
     "output_type": "stream",
     "text": [
      "[1] \"1450_OT_0136_ALT\"\n"
     ]
    },
    {
     "name": "stderr",
     "output_type": "stream",
     "text": [
      "Warning message:\n",
      "“brglmFit: algorithm did not converge. Try changing the optimization algorithm defaults, e.g. the defaults for one or more of `maxit`, `epsilon`, `slowit`, and `response_adjustment`; see `?brglm_control` for default values and available options”\n",
      "Warning message:\n",
      "“brglmFit: fitted probabilities numerically 0 or 1 occurred”\n"
     ]
    },
    {
     "name": "stdout",
     "output_type": "stream",
     "text": [
      "[1] \"1450_OT_0142_ALT\"\n"
     ]
    },
    {
     "name": "stderr",
     "output_type": "stream",
     "text": [
      "Warning message:\n",
      "“brglmFit: algorithm did not converge. Try changing the optimization algorithm defaults, e.g. the defaults for one or more of `maxit`, `epsilon`, `slowit`, and `response_adjustment`; see `?brglm_control` for default values and available options”\n",
      "Warning message:\n",
      "“brglmFit: fitted probabilities numerically 0 or 1 occurred”\n"
     ]
    },
    {
     "name": "stdout",
     "output_type": "stream",
     "text": [
      "[1] \"1450_OT_0145_ALT\"\n"
     ]
    },
    {
     "name": "stderr",
     "output_type": "stream",
     "text": [
      "Warning message:\n",
      "“brglmFit: algorithm did not converge. Try changing the optimization algorithm defaults, e.g. the defaults for one or more of `maxit`, `epsilon`, `slowit`, and `response_adjustment`; see `?brglm_control` for default values and available options”\n",
      "Warning message:\n",
      "“brglmFit: fitted probabilities numerically 0 or 1 occurred”\n"
     ]
    },
    {
     "name": "stdout",
     "output_type": "stream",
     "text": [
      "[1] \"1450_OT_0146_ALT\"\n"
     ]
    },
    {
     "name": "stderr",
     "output_type": "stream",
     "text": [
      "Warning message:\n",
      "“brglmFit: algorithm did not converge. Try changing the optimization algorithm defaults, e.g. the defaults for one or more of `maxit`, `epsilon`, `slowit`, and `response_adjustment`; see `?brglm_control` for default values and available options”\n",
      "Warning message:\n",
      "“brglmFit: fitted probabilities numerically 0 or 1 occurred”\n"
     ]
    },
    {
     "name": "stdout",
     "output_type": "stream",
     "text": [
      "[1] \"1450_OT_0152_ALT\"\n"
     ]
    },
    {
     "name": "stderr",
     "output_type": "stream",
     "text": [
      "Warning message:\n",
      "“brglmFit: algorithm did not converge. Try changing the optimization algorithm defaults, e.g. the defaults for one or more of `maxit`, `epsilon`, `slowit`, and `response_adjustment`; see `?brglm_control` for default values and available options”\n",
      "Warning message:\n",
      "“brglmFit: fitted probabilities numerically 0 or 1 occurred”\n"
     ]
    },
    {
     "name": "stdout",
     "output_type": "stream",
     "text": [
      "[1] \"1450_OT_0153_ALT\"\n"
     ]
    },
    {
     "name": "stderr",
     "output_type": "stream",
     "text": [
      "Warning message:\n",
      "“brglmFit: algorithm did not converge. Try changing the optimization algorithm defaults, e.g. the defaults for one or more of `maxit`, `epsilon`, `slowit`, and `response_adjustment`; see `?brglm_control` for default values and available options”\n",
      "Warning message:\n",
      "“brglmFit: fitted probabilities numerically 0 or 1 occurred”\n"
     ]
    },
    {
     "name": "stdout",
     "output_type": "stream",
     "text": [
      "[1] \"1450_OT_0162_ALT\"\n",
      "[1] \"1450_OT_0163_ALT\"\n"
     ]
    },
    {
     "name": "stderr",
     "output_type": "stream",
     "text": [
      "Warning message:\n",
      "“brglmFit: algorithm did not converge. Try changing the optimization algorithm defaults, e.g. the defaults for one or more of `maxit`, `epsilon`, `slowit`, and `response_adjustment`; see `?brglm_control` for default values and available options”\n",
      "Warning message:\n",
      "“brglmFit: fitted probabilities numerically 0 or 1 occurred”\n"
     ]
    },
    {
     "name": "stdout",
     "output_type": "stream",
     "text": [
      "[1] \"1450_OT_0164_ALT\"\n"
     ]
    },
    {
     "name": "stderr",
     "output_type": "stream",
     "text": [
      "Warning message:\n",
      "“brglmFit: algorithm did not converge. Try changing the optimization algorithm defaults, e.g. the defaults for one or more of `maxit`, `epsilon`, `slowit`, and `response_adjustment`; see `?brglm_control` for default values and available options”\n",
      "Warning message:\n",
      "“brglmFit: fitted probabilities numerically 0 or 1 occurred”\n"
     ]
    },
    {
     "name": "stdout",
     "output_type": "stream",
     "text": [
      "[1] \"1450_OT_0174_ALT\"\n"
     ]
    },
    {
     "name": "stderr",
     "output_type": "stream",
     "text": [
      "Warning message:\n",
      "“brglmFit: algorithm did not converge. Try changing the optimization algorithm defaults, e.g. the defaults for one or more of `maxit`, `epsilon`, `slowit`, and `response_adjustment`; see `?brglm_control` for default values and available options”\n",
      "Warning message:\n",
      "“brglmFit: fitted probabilities numerically 0 or 1 occurred”\n"
     ]
    },
    {
     "name": "stdout",
     "output_type": "stream",
     "text": [
      "[1] \"1450_OT_0176_ALT\"\n",
      "[1] \"1450_OT_0179_ALT\"\n"
     ]
    },
    {
     "name": "stderr",
     "output_type": "stream",
     "text": [
      "Warning message:\n",
      "“brglmFit: algorithm did not converge. Try changing the optimization algorithm defaults, e.g. the defaults for one or more of `maxit`, `epsilon`, `slowit`, and `response_adjustment`; see `?brglm_control` for default values and available options”\n",
      "Warning message:\n",
      "“brglmFit: fitted probabilities numerically 0 or 1 occurred”\n"
     ]
    },
    {
     "name": "stdout",
     "output_type": "stream",
     "text": [
      "[1] \"1450_OT_0190_ALT\"\n"
     ]
    },
    {
     "name": "stderr",
     "output_type": "stream",
     "text": [
      "Warning message:\n",
      "“brglmFit: algorithm did not converge. Try changing the optimization algorithm defaults, e.g. the defaults for one or more of `maxit`, `epsilon`, `slowit`, and `response_adjustment`; see `?brglm_control` for default values and available options”\n",
      "Warning message:\n",
      "“brglmFit: fitted probabilities numerically 0 or 1 occurred”\n"
     ]
    },
    {
     "name": "stdout",
     "output_type": "stream",
     "text": [
      "[1] \"1450_OT_0192_ALT\"\n"
     ]
    },
    {
     "name": "stderr",
     "output_type": "stream",
     "text": [
      "Warning message:\n",
      "“brglmFit: algorithm did not converge. Try changing the optimization algorithm defaults, e.g. the defaults for one or more of `maxit`, `epsilon`, `slowit`, and `response_adjustment`; see `?brglm_control` for default values and available options”\n",
      "Warning message:\n",
      "“brglmFit: fitted probabilities numerically 0 or 1 occurred”\n"
     ]
    },
    {
     "name": "stdout",
     "output_type": "stream",
     "text": [
      "[1] \"1450_OT_0193_ALT\"\n"
     ]
    },
    {
     "name": "stderr",
     "output_type": "stream",
     "text": [
      "Warning message:\n",
      "“brglmFit: algorithm did not converge. Try changing the optimization algorithm defaults, e.g. the defaults for one or more of `maxit`, `epsilon`, `slowit`, and `response_adjustment`; see `?brglm_control` for default values and available options”\n",
      "Warning message:\n",
      "“brglmFit: fitted probabilities numerically 0 or 1 occurred”\n"
     ]
    },
    {
     "name": "stdout",
     "output_type": "stream",
     "text": [
      "[1] \"1450_OT_0194_ALT\"\n"
     ]
    },
    {
     "name": "stderr",
     "output_type": "stream",
     "text": [
      "Warning message:\n",
      "“brglmFit: algorithm did not converge. Try changing the optimization algorithm defaults, e.g. the defaults for one or more of `maxit`, `epsilon`, `slowit`, and `response_adjustment`; see `?brglm_control` for default values and available options”\n",
      "Warning message:\n",
      "“brglmFit: fitted probabilities numerically 0 or 1 occurred”\n"
     ]
    },
    {
     "name": "stdout",
     "output_type": "stream",
     "text": [
      "[1] \"1450_OT_0200_ALT\"\n"
     ]
    },
    {
     "name": "stderr",
     "output_type": "stream",
     "text": [
      "Warning message:\n",
      "“brglmFit: algorithm did not converge. Try changing the optimization algorithm defaults, e.g. the defaults for one or more of `maxit`, `epsilon`, `slowit`, and `response_adjustment`; see `?brglm_control` for default values and available options”\n",
      "Warning message:\n",
      "“brglmFit: fitted probabilities numerically 0 or 1 occurred”\n"
     ]
    },
    {
     "name": "stdout",
     "output_type": "stream",
     "text": [
      "[1] \"1450_OT_0203_ALT\"\n",
      "[1] \"1450_OT_0206_ALT\"\n"
     ]
    },
    {
     "name": "stderr",
     "output_type": "stream",
     "text": [
      "Warning message:\n",
      "“brglmFit: algorithm did not converge. Try changing the optimization algorithm defaults, e.g. the defaults for one or more of `maxit`, `epsilon`, `slowit`, and `response_adjustment`; see `?brglm_control` for default values and available options”\n",
      "Warning message:\n",
      "“brglmFit: fitted probabilities numerically 0 or 1 occurred”\n"
     ]
    },
    {
     "name": "stdout",
     "output_type": "stream",
     "text": [
      "[1] \"1450_OT_0210_ALT\"\n",
      "[1] \"1450_OT_0219_ALT\"\n"
     ]
    },
    {
     "name": "stderr",
     "output_type": "stream",
     "text": [
      "Warning message:\n",
      "“brglmFit: algorithm did not converge. Try changing the optimization algorithm defaults, e.g. the defaults for one or more of `maxit`, `epsilon`, `slowit`, and `response_adjustment`; see `?brglm_control` for default values and available options”\n",
      "Warning message:\n",
      "“brglmFit: fitted probabilities numerically 0 or 1 occurred”\n"
     ]
    },
    {
     "name": "stdout",
     "output_type": "stream",
     "text": [
      "[1] \"1450_OT_0235_ALT\"\n",
      "[1] \"1450_OT_0237_ALT\"\n"
     ]
    },
    {
     "name": "stderr",
     "output_type": "stream",
     "text": [
      "Warning message:\n",
      "“brglmFit: algorithm did not converge. Try changing the optimization algorithm defaults, e.g. the defaults for one or more of `maxit`, `epsilon`, `slowit`, and `response_adjustment`; see `?brglm_control` for default values and available options”\n",
      "Warning message:\n",
      "“brglmFit: fitted probabilities numerically 0 or 1 occurred”\n"
     ]
    },
    {
     "name": "stdout",
     "output_type": "stream",
     "text": [
      "[1] \"1450_OT_0238_ALT\"\n",
      "[1] \"1450_OT_0240_ALT\"\n"
     ]
    },
    {
     "name": "stderr",
     "output_type": "stream",
     "text": [
      "Warning message:\n",
      "“brglmFit: algorithm did not converge. Try changing the optimization algorithm defaults, e.g. the defaults for one or more of `maxit`, `epsilon`, `slowit`, and `response_adjustment`; see `?brglm_control` for default values and available options”\n",
      "Warning message:\n",
      "“brglmFit: fitted probabilities numerically 0 or 1 occurred”\n"
     ]
    },
    {
     "name": "stdout",
     "output_type": "stream",
     "text": [
      "[1] \"1450_OT_0243_ALT\"\n"
     ]
    },
    {
     "name": "stderr",
     "output_type": "stream",
     "text": [
      "Warning message:\n",
      "“brglmFit: algorithm did not converge. Try changing the optimization algorithm defaults, e.g. the defaults for one or more of `maxit`, `epsilon`, `slowit`, and `response_adjustment`; see `?brglm_control` for default values and available options”\n",
      "Warning message:\n",
      "“brglmFit: fitted probabilities numerically 0 or 1 occurred”\n"
     ]
    },
    {
     "name": "stdout",
     "output_type": "stream",
     "text": [
      "[1] \"1450_OT_0250_ALT\"\n",
      "[1] \"1450_OT_0251_ALT\"\n",
      "[1] \"1450_OT_0264_ALT\"\n"
     ]
    },
    {
     "name": "stderr",
     "output_type": "stream",
     "text": [
      "Warning message:\n",
      "“brglmFit: algorithm did not converge. Try changing the optimization algorithm defaults, e.g. the defaults for one or more of `maxit`, `epsilon`, `slowit`, and `response_adjustment`; see `?brglm_control` for default values and available options”\n",
      "Warning message:\n",
      "“brglmFit: fitted probabilities numerically 0 or 1 occurred”\n"
     ]
    },
    {
     "name": "stdout",
     "output_type": "stream",
     "text": [
      "[1] \"1450_OT_0274_ALT\"\n",
      "[1] \"1450_OT_0278_ALT\"\n"
     ]
    },
    {
     "name": "stderr",
     "output_type": "stream",
     "text": [
      "Warning message:\n",
      "“brglmFit: algorithm did not converge. Try changing the optimization algorithm defaults, e.g. the defaults for one or more of `maxit`, `epsilon`, `slowit`, and `response_adjustment`; see `?brglm_control` for default values and available options”\n",
      "Warning message:\n",
      "“brglmFit: fitted probabilities numerically 0 or 1 occurred”\n"
     ]
    },
    {
     "name": "stdout",
     "output_type": "stream",
     "text": [
      "[1] \"1450_OT_0282_ALT\"\n",
      "[1] \"1450_OT_0290_ALT\"\n"
     ]
    },
    {
     "name": "stderr",
     "output_type": "stream",
     "text": [
      "Warning message:\n",
      "“brglmFit: algorithm did not converge. Try changing the optimization algorithm defaults, e.g. the defaults for one or more of `maxit`, `epsilon`, `slowit`, and `response_adjustment`; see `?brglm_control` for default values and available options”\n",
      "Warning message:\n",
      "“brglmFit: fitted probabilities numerically 0 or 1 occurred”\n"
     ]
    },
    {
     "name": "stdout",
     "output_type": "stream",
     "text": [
      "[1] \"1450_OT_0297_ALT\"\n"
     ]
    },
    {
     "name": "stderr",
     "output_type": "stream",
     "text": [
      "Warning message:\n",
      "“brglmFit: algorithm did not converge. Try changing the optimization algorithm defaults, e.g. the defaults for one or more of `maxit`, `epsilon`, `slowit`, and `response_adjustment`; see `?brglm_control` for default values and available options”\n",
      "Warning message:\n",
      "“brglmFit: fitted probabilities numerically 0 or 1 occurred”\n"
     ]
    },
    {
     "name": "stdout",
     "output_type": "stream",
     "text": [
      "[1] \"1450_OT_0298_ALT\"\n"
     ]
    },
    {
     "name": "stderr",
     "output_type": "stream",
     "text": [
      "Warning message:\n",
      "“brglmFit: algorithm did not converge. Try changing the optimization algorithm defaults, e.g. the defaults for one or more of `maxit`, `epsilon`, `slowit`, and `response_adjustment`; see `?brglm_control` for default values and available options”\n",
      "Warning message:\n",
      "“brglmFit: fitted probabilities numerically 0 or 1 occurred”\n"
     ]
    },
    {
     "name": "stdout",
     "output_type": "stream",
     "text": [
      "[1] \"1450_OT_0299_ALT\"\n"
     ]
    },
    {
     "name": "stderr",
     "output_type": "stream",
     "text": [
      "Warning message:\n",
      "“brglmFit: algorithm did not converge. Try changing the optimization algorithm defaults, e.g. the defaults for one or more of `maxit`, `epsilon`, `slowit`, and `response_adjustment`; see `?brglm_control` for default values and available options”\n",
      "Warning message:\n",
      "“brglmFit: fitted probabilities numerically 0 or 1 occurred”\n"
     ]
    },
    {
     "name": "stdout",
     "output_type": "stream",
     "text": [
      "[1] \"1450_OT_0311_ALT\"\n"
     ]
    },
    {
     "name": "stderr",
     "output_type": "stream",
     "text": [
      "Warning message:\n",
      "“brglmFit: algorithm did not converge. Try changing the optimization algorithm defaults, e.g. the defaults for one or more of `maxit`, `epsilon`, `slowit`, and `response_adjustment`; see `?brglm_control` for default values and available options”\n",
      "Warning message:\n",
      "“brglmFit: fitted probabilities numerically 0 or 1 occurred”\n"
     ]
    },
    {
     "name": "stdout",
     "output_type": "stream",
     "text": [
      "[1] \"1450_OT_0320_ALT\"\n"
     ]
    },
    {
     "name": "stderr",
     "output_type": "stream",
     "text": [
      "Warning message:\n",
      "“brglmFit: algorithm did not converge. Try changing the optimization algorithm defaults, e.g. the defaults for one or more of `maxit`, `epsilon`, `slowit`, and `response_adjustment`; see `?brglm_control` for default values and available options”\n",
      "Warning message:\n",
      "“brglmFit: fitted probabilities numerically 0 or 1 occurred”\n"
     ]
    },
    {
     "name": "stdout",
     "output_type": "stream",
     "text": [
      "[1] \"1450_OT_0321_ALT\"\n"
     ]
    },
    {
     "name": "stderr",
     "output_type": "stream",
     "text": [
      "Warning message:\n",
      "“brglmFit: algorithm did not converge. Try changing the optimization algorithm defaults, e.g. the defaults for one or more of `maxit`, `epsilon`, `slowit`, and `response_adjustment`; see `?brglm_control` for default values and available options”\n",
      "Warning message:\n",
      "“brglmFit: fitted probabilities numerically 0 or 1 occurred”\n"
     ]
    },
    {
     "name": "stdout",
     "output_type": "stream",
     "text": [
      "[1] \"1450_OT_0328_ALT\"\n"
     ]
    },
    {
     "name": "stderr",
     "output_type": "stream",
     "text": [
      "Warning message:\n",
      "“brglmFit: algorithm did not converge. Try changing the optimization algorithm defaults, e.g. the defaults for one or more of `maxit`, `epsilon`, `slowit`, and `response_adjustment`; see `?brglm_control` for default values and available options”\n",
      "Warning message:\n",
      "“brglmFit: fitted probabilities numerically 0 or 1 occurred”\n"
     ]
    },
    {
     "name": "stdout",
     "output_type": "stream",
     "text": [
      "[1] \"1450_OT_0329_ALT\"\n"
     ]
    },
    {
     "name": "stderr",
     "output_type": "stream",
     "text": [
      "Warning message:\n",
      "“brglmFit: algorithm did not converge. Try changing the optimization algorithm defaults, e.g. the defaults for one or more of `maxit`, `epsilon`, `slowit`, and `response_adjustment`; see `?brglm_control` for default values and available options”\n",
      "Warning message:\n",
      "“brglmFit: fitted probabilities numerically 0 or 1 occurred”\n"
     ]
    },
    {
     "name": "stdout",
     "output_type": "stream",
     "text": [
      "[1] \"1450_OT_0361_ALT\"\n"
     ]
    },
    {
     "name": "stderr",
     "output_type": "stream",
     "text": [
      "Warning message:\n",
      "“brglmFit: algorithm did not converge. Try changing the optimization algorithm defaults, e.g. the defaults for one or more of `maxit`, `epsilon`, `slowit`, and `response_adjustment`; see `?brglm_control` for default values and available options”\n",
      "Warning message:\n",
      "“brglmFit: fitted probabilities numerically 0 or 1 occurred”\n"
     ]
    },
    {
     "name": "stdout",
     "output_type": "stream",
     "text": [
      "[1] \"1450_OT_0362_ALT\"\n"
     ]
    },
    {
     "name": "stderr",
     "output_type": "stream",
     "text": [
      "Warning message:\n",
      "“brglmFit: algorithm did not converge. Try changing the optimization algorithm defaults, e.g. the defaults for one or more of `maxit`, `epsilon`, `slowit`, and `response_adjustment`; see `?brglm_control` for default values and available options”\n",
      "Warning message:\n",
      "“brglmFit: fitted probabilities numerically 0 or 1 occurred”\n"
     ]
    },
    {
     "name": "stdout",
     "output_type": "stream",
     "text": [
      "[1] \"1617_OT_0000_REF\"\n",
      "[1] \"1617_OT_0040_ALT\"\n",
      "[1] \"1617_OT_0040_REF\"\n"
     ]
    },
    {
     "name": "stderr",
     "output_type": "stream",
     "text": [
      "Warning message:\n",
      "“brglmFit: algorithm did not converge. Try changing the optimization algorithm defaults, e.g. the defaults for one or more of `maxit`, `epsilon`, `slowit`, and `response_adjustment`; see `?brglm_control` for default values and available options”\n",
      "Warning message:\n",
      "“brglmFit: fitted probabilities numerically 0 or 1 occurred”\n"
     ]
    },
    {
     "name": "stdout",
     "output_type": "stream",
     "text": [
      "[1] \"1617_OT_0041_ALT\"\n"
     ]
    },
    {
     "name": "stderr",
     "output_type": "stream",
     "text": [
      "Warning message:\n",
      "“brglmFit: algorithm did not converge. Try changing the optimization algorithm defaults, e.g. the defaults for one or more of `maxit`, `epsilon`, `slowit`, and `response_adjustment`; see `?brglm_control` for default values and available options”\n",
      "Warning message:\n",
      "“brglmFit: fitted probabilities numerically 0 or 1 occurred”\n"
     ]
    },
    {
     "name": "stdout",
     "output_type": "stream",
     "text": [
      "[1] \"1617_OT_0041_REF\"\n"
     ]
    },
    {
     "name": "stderr",
     "output_type": "stream",
     "text": [
      "Warning message:\n",
      "“brglmFit: algorithm did not converge. Try changing the optimization algorithm defaults, e.g. the defaults for one or more of `maxit`, `epsilon`, `slowit`, and `response_adjustment`; see `?brglm_control` for default values and available options”\n",
      "Warning message:\n",
      "“brglmFit: fitted probabilities numerically 0 or 1 occurred”\n"
     ]
    },
    {
     "name": "stdout",
     "output_type": "stream",
     "text": [
      "[1] \"1617_OT_0318_ALT\"\n"
     ]
    },
    {
     "name": "stderr",
     "output_type": "stream",
     "text": [
      "Warning message:\n",
      "“brglmFit: algorithm did not converge. Try changing the optimization algorithm defaults, e.g. the defaults for one or more of `maxit`, `epsilon`, `slowit`, and `response_adjustment`; see `?brglm_control` for default values and available options”\n",
      "Warning message:\n",
      "“brglmFit: fitted probabilities numerically 0 or 1 occurred”\n"
     ]
    },
    {
     "name": "stdout",
     "output_type": "stream",
     "text": [
      "[1] \"1617_OT_0319_ALT\"\n"
     ]
    },
    {
     "name": "stderr",
     "output_type": "stream",
     "text": [
      "Warning message:\n",
      "“brglmFit: algorithm did not converge. Try changing the optimization algorithm defaults, e.g. the defaults for one or more of `maxit`, `epsilon`, `slowit`, and `response_adjustment`; see `?brglm_control` for default values and available options”\n",
      "Warning message:\n",
      "“brglmFit: fitted probabilities numerically 0 or 1 occurred”\n"
     ]
    },
    {
     "name": "stdout",
     "output_type": "stream",
     "text": [
      "[1] \"1617_OT_0322_ALT\"\n"
     ]
    },
    {
     "name": "stderr",
     "output_type": "stream",
     "text": [
      "Warning message:\n",
      "“brglmFit: algorithm did not converge. Try changing the optimization algorithm defaults, e.g. the defaults for one or more of `maxit`, `epsilon`, `slowit`, and `response_adjustment`; see `?brglm_control` for default values and available options”\n",
      "Warning message:\n",
      "“brglmFit: fitted probabilities numerically 0 or 1 occurred”\n"
     ]
    },
    {
     "name": "stdout",
     "output_type": "stream",
     "text": [
      "[1] \"1617_OT_0327_ALT\"\n"
     ]
    },
    {
     "name": "stderr",
     "output_type": "stream",
     "text": [
      "Warning message:\n",
      "“brglmFit: algorithm did not converge. Try changing the optimization algorithm defaults, e.g. the defaults for one or more of `maxit`, `epsilon`, `slowit`, and `response_adjustment`; see `?brglm_control` for default values and available options”\n",
      "Warning message:\n",
      "“brglmFit: fitted probabilities numerically 0 or 1 occurred”\n"
     ]
    },
    {
     "name": "stdout",
     "output_type": "stream",
     "text": [
      "[1] \"1617_OT_0329_ALT\"\n"
     ]
    },
    {
     "name": "stderr",
     "output_type": "stream",
     "text": [
      "Warning message:\n",
      "“brglmFit: algorithm did not converge. Try changing the optimization algorithm defaults, e.g. the defaults for one or more of `maxit`, `epsilon`, `slowit`, and `response_adjustment`; see `?brglm_control` for default values and available options”\n",
      "Warning message:\n",
      "“brglmFit: fitted probabilities numerically 0 or 1 occurred”\n"
     ]
    },
    {
     "name": "stdout",
     "output_type": "stream",
     "text": [
      "[1] \"1617_OT_0331_ALT\"\n"
     ]
    },
    {
     "name": "stderr",
     "output_type": "stream",
     "text": [
      "Warning message:\n",
      "“brglmFit: algorithm did not converge. Try changing the optimization algorithm defaults, e.g. the defaults for one or more of `maxit`, `epsilon`, `slowit`, and `response_adjustment`; see `?brglm_control` for default values and available options”\n",
      "Warning message:\n",
      "“brglmFit: fitted probabilities numerically 0 or 1 occurred”\n"
     ]
    },
    {
     "name": "stdout",
     "output_type": "stream",
     "text": [
      "[1] \"1617_OT_0332_ALT\"\n"
     ]
    },
    {
     "name": "stderr",
     "output_type": "stream",
     "text": [
      "Warning message:\n",
      "“brglmFit: algorithm did not converge. Try changing the optimization algorithm defaults, e.g. the defaults for one or more of `maxit`, `epsilon`, `slowit`, and `response_adjustment`; see `?brglm_control` for default values and available options”\n",
      "Warning message:\n",
      "“brglmFit: fitted probabilities numerically 0 or 1 occurred”\n"
     ]
    },
    {
     "name": "stdout",
     "output_type": "stream",
     "text": [
      "[1] \"1617_OT_0333_ALT\"\n"
     ]
    },
    {
     "name": "stderr",
     "output_type": "stream",
     "text": [
      "Warning message:\n",
      "“brglmFit: algorithm did not converge. Try changing the optimization algorithm defaults, e.g. the defaults for one or more of `maxit`, `epsilon`, `slowit`, and `response_adjustment`; see `?brglm_control` for default values and available options”\n",
      "Warning message:\n",
      "“brglmFit: fitted probabilities numerically 0 or 1 occurred”\n"
     ]
    },
    {
     "name": "stdout",
     "output_type": "stream",
     "text": [
      "[1] \"1617_OT_0334_ALT\"\n"
     ]
    },
    {
     "name": "stderr",
     "output_type": "stream",
     "text": [
      "Warning message:\n",
      "“brglmFit: algorithm did not converge. Try changing the optimization algorithm defaults, e.g. the defaults for one or more of `maxit`, `epsilon`, `slowit`, and `response_adjustment`; see `?brglm_control` for default values and available options”\n",
      "Warning message:\n",
      "“brglmFit: fitted probabilities numerically 0 or 1 occurred”\n"
     ]
    },
    {
     "name": "stdout",
     "output_type": "stream",
     "text": [
      "[1] \"1617_OT_0344_ALT\"\n"
     ]
    },
    {
     "name": "stderr",
     "output_type": "stream",
     "text": [
      "Warning message:\n",
      "“brglmFit: algorithm did not converge. Try changing the optimization algorithm defaults, e.g. the defaults for one or more of `maxit`, `epsilon`, `slowit`, and `response_adjustment`; see `?brglm_control` for default values and available options”\n",
      "Warning message:\n",
      "“brglmFit: fitted probabilities numerically 0 or 1 occurred”\n"
     ]
    },
    {
     "name": "stdout",
     "output_type": "stream",
     "text": [
      "[1] \"1617_OT_0345_ALT\"\n"
     ]
    },
    {
     "name": "stderr",
     "output_type": "stream",
     "text": [
      "Warning message:\n",
      "“brglmFit: algorithm did not converge. Try changing the optimization algorithm defaults, e.g. the defaults for one or more of `maxit`, `epsilon`, `slowit`, and `response_adjustment`; see `?brglm_control` for default values and available options”\n",
      "Warning message:\n",
      "“brglmFit: fitted probabilities numerically 0 or 1 occurred”\n"
     ]
    },
    {
     "name": "stdout",
     "output_type": "stream",
     "text": [
      "[1] \"1617_OT_0348_ALT\"\n"
     ]
    },
    {
     "name": "stderr",
     "output_type": "stream",
     "text": [
      "Warning message:\n",
      "“brglmFit: algorithm did not converge. Try changing the optimization algorithm defaults, e.g. the defaults for one or more of `maxit`, `epsilon`, `slowit`, and `response_adjustment`; see `?brglm_control` for default values and available options”\n",
      "Warning message:\n",
      "“brglmFit: fitted probabilities numerically 0 or 1 occurred”\n"
     ]
    },
    {
     "name": "stdout",
     "output_type": "stream",
     "text": [
      "[1] \"1617_OT_0349_ALT\"\n"
     ]
    },
    {
     "name": "stderr",
     "output_type": "stream",
     "text": [
      "Warning message:\n",
      "“brglmFit: algorithm did not converge. Try changing the optimization algorithm defaults, e.g. the defaults for one or more of `maxit`, `epsilon`, `slowit`, and `response_adjustment`; see `?brglm_control` for default values and available options”\n",
      "Warning message:\n",
      "“brglmFit: fitted probabilities numerically 0 or 1 occurred”\n"
     ]
    },
    {
     "name": "stdout",
     "output_type": "stream",
     "text": [
      "[1] \"1617_OT_0352_ALT\"\n"
     ]
    },
    {
     "name": "stderr",
     "output_type": "stream",
     "text": [
      "Warning message:\n",
      "“brglmFit: algorithm did not converge. Try changing the optimization algorithm defaults, e.g. the defaults for one or more of `maxit`, `epsilon`, `slowit`, and `response_adjustment`; see `?brglm_control` for default values and available options”\n",
      "Warning message:\n",
      "“brglmFit: fitted probabilities numerically 0 or 1 occurred”\n"
     ]
    },
    {
     "name": "stdout",
     "output_type": "stream",
     "text": [
      "[1] \"1617_OT_0353_ALT\"\n"
     ]
    },
    {
     "name": "stderr",
     "output_type": "stream",
     "text": [
      "Warning message:\n",
      "“brglmFit: algorithm did not converge. Try changing the optimization algorithm defaults, e.g. the defaults for one or more of `maxit`, `epsilon`, `slowit`, and `response_adjustment`; see `?brglm_control` for default values and available options”\n",
      "Warning message:\n",
      "“brglmFit: fitted probabilities numerically 0 or 1 occurred”\n"
     ]
    },
    {
     "name": "stdout",
     "output_type": "stream",
     "text": [
      "[1] \"1617_OT_0355_ALT\"\n"
     ]
    },
    {
     "name": "stderr",
     "output_type": "stream",
     "text": [
      "Warning message:\n",
      "“brglmFit: algorithm did not converge. Try changing the optimization algorithm defaults, e.g. the defaults for one or more of `maxit`, `epsilon`, `slowit`, and `response_adjustment`; see `?brglm_control` for default values and available options”\n",
      "Warning message:\n",
      "“brglmFit: fitted probabilities numerically 0 or 1 occurred”\n"
     ]
    },
    {
     "name": "stdout",
     "output_type": "stream",
     "text": [
      "[1] \"1617_OT_0356_ALT\"\n"
     ]
    },
    {
     "name": "stderr",
     "output_type": "stream",
     "text": [
      "Warning message:\n",
      "“brglmFit: algorithm did not converge. Try changing the optimization algorithm defaults, e.g. the defaults for one or more of `maxit`, `epsilon`, `slowit`, and `response_adjustment`; see `?brglm_control` for default values and available options”\n",
      "Warning message:\n",
      "“brglmFit: fitted probabilities numerically 0 or 1 occurred”\n"
     ]
    },
    {
     "name": "stdout",
     "output_type": "stream",
     "text": [
      "[1] \"1617_OT_0362_ALT\"\n"
     ]
    },
    {
     "name": "stderr",
     "output_type": "stream",
     "text": [
      "Warning message:\n",
      "“brglmFit: algorithm did not converge. Try changing the optimization algorithm defaults, e.g. the defaults for one or more of `maxit`, `epsilon`, `slowit`, and `response_adjustment`; see `?brglm_control` for default values and available options”\n",
      "Warning message:\n",
      "“brglmFit: fitted probabilities numerically 0 or 1 occurred”\n"
     ]
    },
    {
     "name": "stdout",
     "output_type": "stream",
     "text": [
      "[1] \"1617_OT_0373_ALT\"\n"
     ]
    },
    {
     "name": "stderr",
     "output_type": "stream",
     "text": [
      "Warning message:\n",
      "“brglmFit: algorithm did not converge. Try changing the optimization algorithm defaults, e.g. the defaults for one or more of `maxit`, `epsilon`, `slowit`, and `response_adjustment`; see `?brglm_control` for default values and available options”\n",
      "Warning message:\n",
      "“brglmFit: fitted probabilities numerically 0 or 1 occurred”\n"
     ]
    },
    {
     "name": "stdout",
     "output_type": "stream",
     "text": [
      "[1] \"1617_OT_0376_ALT\"\n"
     ]
    },
    {
     "name": "stderr",
     "output_type": "stream",
     "text": [
      "Warning message:\n",
      "“brglmFit: algorithm did not converge. Try changing the optimization algorithm defaults, e.g. the defaults for one or more of `maxit`, `epsilon`, `slowit`, and `response_adjustment`; see `?brglm_control` for default values and available options”\n",
      "Warning message:\n",
      "“brglmFit: fitted probabilities numerically 0 or 1 occurred”\n"
     ]
    },
    {
     "name": "stdout",
     "output_type": "stream",
     "text": [
      "[1] \"1617_OT_0381_ALT\"\n"
     ]
    },
    {
     "name": "stderr",
     "output_type": "stream",
     "text": [
      "Warning message:\n",
      "“brglmFit: algorithm did not converge. Try changing the optimization algorithm defaults, e.g. the defaults for one or more of `maxit`, `epsilon`, `slowit`, and `response_adjustment`; see `?brglm_control` for default values and available options”\n",
      "Warning message:\n",
      "“brglmFit: fitted probabilities numerically 0 or 1 occurred”\n"
     ]
    },
    {
     "name": "stdout",
     "output_type": "stream",
     "text": [
      "[1] \"1617_OT_0393_ALT\"\n"
     ]
    },
    {
     "name": "stderr",
     "output_type": "stream",
     "text": [
      "Warning message:\n",
      "“brglmFit: algorithm did not converge. Try changing the optimization algorithm defaults, e.g. the defaults for one or more of `maxit`, `epsilon`, `slowit`, and `response_adjustment`; see `?brglm_control` for default values and available options”\n",
      "Warning message:\n",
      "“brglmFit: fitted probabilities numerically 0 or 1 occurred”\n"
     ]
    },
    {
     "name": "stdout",
     "output_type": "stream",
     "text": [
      "[1] \"1617_OT_0398_ALT\"\n"
     ]
    },
    {
     "name": "stderr",
     "output_type": "stream",
     "text": [
      "Warning message:\n",
      "“brglmFit: algorithm did not converge. Try changing the optimization algorithm defaults, e.g. the defaults for one or more of `maxit`, `epsilon`, `slowit`, and `response_adjustment`; see `?brglm_control` for default values and available options”\n",
      "Warning message:\n",
      "“brglmFit: fitted probabilities numerically 0 or 1 occurred”\n"
     ]
    },
    {
     "name": "stdout",
     "output_type": "stream",
     "text": [
      "[1] \"1617_OT_0400_ALT\"\n"
     ]
    },
    {
     "name": "stderr",
     "output_type": "stream",
     "text": [
      "Warning message:\n",
      "“brglmFit: algorithm did not converge. Try changing the optimization algorithm defaults, e.g. the defaults for one or more of `maxit`, `epsilon`, `slowit`, and `response_adjustment`; see `?brglm_control` for default values and available options”\n",
      "Warning message:\n",
      "“brglmFit: fitted probabilities numerically 0 or 1 occurred”\n"
     ]
    },
    {
     "name": "stdout",
     "output_type": "stream",
     "text": [
      "[1] \"1617_OT_0436_ALT\"\n"
     ]
    },
    {
     "name": "stderr",
     "output_type": "stream",
     "text": [
      "Warning message:\n",
      "“brglmFit: algorithm did not converge. Try changing the optimization algorithm defaults, e.g. the defaults for one or more of `maxit`, `epsilon`, `slowit`, and `response_adjustment`; see `?brglm_control` for default values and available options”\n",
      "Warning message:\n",
      "“brglmFit: fitted probabilities numerically 0 or 1 occurred”\n"
     ]
    },
    {
     "name": "stdout",
     "output_type": "stream",
     "text": [
      "[1] \"dedudStringentV3_downSampling001_rep5\"\n",
      "[1] \"1450_OT_0000_REF\"\n",
      "[1] \"1450_OT_0071_REF\"\n"
     ]
    },
    {
     "name": "stderr",
     "output_type": "stream",
     "text": [
      "Warning message:\n",
      "“brglmFit: algorithm did not converge. Try changing the optimization algorithm defaults, e.g. the defaults for one or more of `maxit`, `epsilon`, `slowit`, and `response_adjustment`; see `?brglm_control` for default values and available options”\n",
      "Warning message:\n",
      "“brglmFit: fitted probabilities numerically 0 or 1 occurred”\n"
     ]
    },
    {
     "name": "stdout",
     "output_type": "stream",
     "text": [
      "[1] \"1450_OT_0125_ALT\"\n"
     ]
    },
    {
     "name": "stderr",
     "output_type": "stream",
     "text": [
      "Warning message:\n",
      "“brglmFit: algorithm did not converge. Try changing the optimization algorithm defaults, e.g. the defaults for one or more of `maxit`, `epsilon`, `slowit`, and `response_adjustment`; see `?brglm_control` for default values and available options”\n",
      "Warning message:\n",
      "“brglmFit: fitted probabilities numerically 0 or 1 occurred”\n"
     ]
    },
    {
     "name": "stdout",
     "output_type": "stream",
     "text": [
      "[1] \"1450_OT_0128_ALT\"\n"
     ]
    },
    {
     "name": "stderr",
     "output_type": "stream",
     "text": [
      "Warning message:\n",
      "“brglmFit: algorithm did not converge. Try changing the optimization algorithm defaults, e.g. the defaults for one or more of `maxit`, `epsilon`, `slowit`, and `response_adjustment`; see `?brglm_control` for default values and available options”\n",
      "Warning message:\n",
      "“brglmFit: fitted probabilities numerically 0 or 1 occurred”\n"
     ]
    },
    {
     "name": "stdout",
     "output_type": "stream",
     "text": [
      "[1] \"1450_OT_0132_ALT\"\n"
     ]
    },
    {
     "name": "stderr",
     "output_type": "stream",
     "text": [
      "Warning message:\n",
      "“brglmFit: algorithm did not converge. Try changing the optimization algorithm defaults, e.g. the defaults for one or more of `maxit`, `epsilon`, `slowit`, and `response_adjustment`; see `?brglm_control` for default values and available options”\n",
      "Warning message:\n",
      "“brglmFit: fitted probabilities numerically 0 or 1 occurred”\n"
     ]
    },
    {
     "name": "stdout",
     "output_type": "stream",
     "text": [
      "[1] \"1450_OT_0133_ALT\"\n",
      "[1] \"1450_OT_0136_ALT\"\n"
     ]
    },
    {
     "name": "stderr",
     "output_type": "stream",
     "text": [
      "Warning message:\n",
      "“brglmFit: algorithm did not converge. Try changing the optimization algorithm defaults, e.g. the defaults for one or more of `maxit`, `epsilon`, `slowit`, and `response_adjustment`; see `?brglm_control` for default values and available options”\n",
      "Warning message:\n",
      "“brglmFit: fitted probabilities numerically 0 or 1 occurred”\n"
     ]
    },
    {
     "name": "stdout",
     "output_type": "stream",
     "text": [
      "[1] \"1450_OT_0142_ALT\"\n"
     ]
    },
    {
     "name": "stderr",
     "output_type": "stream",
     "text": [
      "Warning message:\n",
      "“brglmFit: algorithm did not converge. Try changing the optimization algorithm defaults, e.g. the defaults for one or more of `maxit`, `epsilon`, `slowit`, and `response_adjustment`; see `?brglm_control` for default values and available options”\n",
      "Warning message:\n",
      "“brglmFit: fitted probabilities numerically 0 or 1 occurred”\n"
     ]
    },
    {
     "name": "stdout",
     "output_type": "stream",
     "text": [
      "[1] \"1450_OT_0145_ALT\"\n"
     ]
    },
    {
     "name": "stderr",
     "output_type": "stream",
     "text": [
      "Warning message:\n",
      "“brglmFit: algorithm did not converge. Try changing the optimization algorithm defaults, e.g. the defaults for one or more of `maxit`, `epsilon`, `slowit`, and `response_adjustment`; see `?brglm_control` for default values and available options”\n",
      "Warning message:\n",
      "“brglmFit: fitted probabilities numerically 0 or 1 occurred”\n"
     ]
    },
    {
     "name": "stdout",
     "output_type": "stream",
     "text": [
      "[1] \"1450_OT_0146_ALT\"\n"
     ]
    },
    {
     "name": "stderr",
     "output_type": "stream",
     "text": [
      "Warning message:\n",
      "“brglmFit: algorithm did not converge. Try changing the optimization algorithm defaults, e.g. the defaults for one or more of `maxit`, `epsilon`, `slowit`, and `response_adjustment`; see `?brglm_control` for default values and available options”\n",
      "Warning message:\n",
      "“brglmFit: fitted probabilities numerically 0 or 1 occurred”\n"
     ]
    },
    {
     "name": "stdout",
     "output_type": "stream",
     "text": [
      "[1] \"1450_OT_0152_ALT\"\n"
     ]
    },
    {
     "name": "stderr",
     "output_type": "stream",
     "text": [
      "Warning message:\n",
      "“brglmFit: algorithm did not converge. Try changing the optimization algorithm defaults, e.g. the defaults for one or more of `maxit`, `epsilon`, `slowit`, and `response_adjustment`; see `?brglm_control` for default values and available options”\n",
      "Warning message:\n",
      "“brglmFit: fitted probabilities numerically 0 or 1 occurred”\n"
     ]
    },
    {
     "name": "stdout",
     "output_type": "stream",
     "text": [
      "[1] \"1450_OT_0153_ALT\"\n"
     ]
    },
    {
     "name": "stderr",
     "output_type": "stream",
     "text": [
      "Warning message:\n",
      "“brglmFit: algorithm did not converge. Try changing the optimization algorithm defaults, e.g. the defaults for one or more of `maxit`, `epsilon`, `slowit`, and `response_adjustment`; see `?brglm_control` for default values and available options”\n",
      "Warning message:\n",
      "“brglmFit: fitted probabilities numerically 0 or 1 occurred”\n"
     ]
    },
    {
     "name": "stdout",
     "output_type": "stream",
     "text": [
      "[1] \"1450_OT_0162_ALT\"\n"
     ]
    },
    {
     "name": "stderr",
     "output_type": "stream",
     "text": [
      "Warning message:\n",
      "“brglmFit: algorithm did not converge. Try changing the optimization algorithm defaults, e.g. the defaults for one or more of `maxit`, `epsilon`, `slowit`, and `response_adjustment`; see `?brglm_control` for default values and available options”\n",
      "Warning message:\n",
      "“brglmFit: fitted probabilities numerically 0 or 1 occurred”\n"
     ]
    },
    {
     "name": "stdout",
     "output_type": "stream",
     "text": [
      "[1] \"1450_OT_0163_ALT\"\n"
     ]
    },
    {
     "name": "stderr",
     "output_type": "stream",
     "text": [
      "Warning message:\n",
      "“brglmFit: algorithm did not converge. Try changing the optimization algorithm defaults, e.g. the defaults for one or more of `maxit`, `epsilon`, `slowit`, and `response_adjustment`; see `?brglm_control` for default values and available options”\n",
      "Warning message:\n",
      "“brglmFit: fitted probabilities numerically 0 or 1 occurred”\n"
     ]
    },
    {
     "name": "stdout",
     "output_type": "stream",
     "text": [
      "[1] \"1450_OT_0164_ALT\"\n",
      "[1] \"1450_OT_0174_ALT\"\n"
     ]
    },
    {
     "name": "stderr",
     "output_type": "stream",
     "text": [
      "Warning message:\n",
      "“brglmFit: algorithm did not converge. Try changing the optimization algorithm defaults, e.g. the defaults for one or more of `maxit`, `epsilon`, `slowit`, and `response_adjustment`; see `?brglm_control` for default values and available options”\n",
      "Warning message:\n",
      "“brglmFit: fitted probabilities numerically 0 or 1 occurred”\n"
     ]
    },
    {
     "name": "stdout",
     "output_type": "stream",
     "text": [
      "[1] \"1450_OT_0176_ALT\"\n",
      "[1] \"1450_OT_0179_ALT\"\n"
     ]
    },
    {
     "name": "stderr",
     "output_type": "stream",
     "text": [
      "Warning message:\n",
      "“brglmFit: algorithm did not converge. Try changing the optimization algorithm defaults, e.g. the defaults for one or more of `maxit`, `epsilon`, `slowit`, and `response_adjustment`; see `?brglm_control` for default values and available options”\n",
      "Warning message:\n",
      "“brglmFit: fitted probabilities numerically 0 or 1 occurred”\n"
     ]
    },
    {
     "name": "stdout",
     "output_type": "stream",
     "text": [
      "[1] \"1450_OT_0190_ALT\"\n"
     ]
    },
    {
     "name": "stderr",
     "output_type": "stream",
     "text": [
      "Warning message:\n",
      "“brglmFit: algorithm did not converge. Try changing the optimization algorithm defaults, e.g. the defaults for one or more of `maxit`, `epsilon`, `slowit`, and `response_adjustment`; see `?brglm_control` for default values and available options”\n",
      "Warning message:\n",
      "“brglmFit: fitted probabilities numerically 0 or 1 occurred”\n"
     ]
    },
    {
     "name": "stdout",
     "output_type": "stream",
     "text": [
      "[1] \"1450_OT_0192_ALT\"\n"
     ]
    },
    {
     "name": "stderr",
     "output_type": "stream",
     "text": [
      "Warning message:\n",
      "“brglmFit: algorithm did not converge. Try changing the optimization algorithm defaults, e.g. the defaults for one or more of `maxit`, `epsilon`, `slowit`, and `response_adjustment`; see `?brglm_control` for default values and available options”\n",
      "Warning message:\n",
      "“brglmFit: fitted probabilities numerically 0 or 1 occurred”\n"
     ]
    },
    {
     "name": "stdout",
     "output_type": "stream",
     "text": [
      "[1] \"1450_OT_0193_ALT\"\n"
     ]
    },
    {
     "name": "stderr",
     "output_type": "stream",
     "text": [
      "Warning message:\n",
      "“brglmFit: algorithm did not converge. Try changing the optimization algorithm defaults, e.g. the defaults for one or more of `maxit`, `epsilon`, `slowit`, and `response_adjustment`; see `?brglm_control` for default values and available options”\n",
      "Warning message:\n",
      "“brglmFit: fitted probabilities numerically 0 or 1 occurred”\n"
     ]
    },
    {
     "name": "stdout",
     "output_type": "stream",
     "text": [
      "[1] \"1450_OT_0194_ALT\"\n"
     ]
    },
    {
     "name": "stderr",
     "output_type": "stream",
     "text": [
      "Warning message:\n",
      "“brglmFit: algorithm did not converge. Try changing the optimization algorithm defaults, e.g. the defaults for one or more of `maxit`, `epsilon`, `slowit`, and `response_adjustment`; see `?brglm_control` for default values and available options”\n",
      "Warning message:\n",
      "“brglmFit: fitted probabilities numerically 0 or 1 occurred”\n"
     ]
    },
    {
     "name": "stdout",
     "output_type": "stream",
     "text": [
      "[1] \"1450_OT_0200_ALT\"\n"
     ]
    },
    {
     "name": "stderr",
     "output_type": "stream",
     "text": [
      "Warning message:\n",
      "“brglmFit: algorithm did not converge. Try changing the optimization algorithm defaults, e.g. the defaults for one or more of `maxit`, `epsilon`, `slowit`, and `response_adjustment`; see `?brglm_control` for default values and available options”\n",
      "Warning message:\n",
      "“brglmFit: fitted probabilities numerically 0 or 1 occurred”\n"
     ]
    },
    {
     "name": "stdout",
     "output_type": "stream",
     "text": [
      "[1] \"1450_OT_0203_ALT\"\n",
      "[1] \"1450_OT_0206_ALT\"\n"
     ]
    },
    {
     "name": "stderr",
     "output_type": "stream",
     "text": [
      "Warning message:\n",
      "“brglmFit: algorithm did not converge. Try changing the optimization algorithm defaults, e.g. the defaults for one or more of `maxit`, `epsilon`, `slowit`, and `response_adjustment`; see `?brglm_control` for default values and available options”\n",
      "Warning message:\n",
      "“brglmFit: fitted probabilities numerically 0 or 1 occurred”\n"
     ]
    },
    {
     "name": "stdout",
     "output_type": "stream",
     "text": [
      "[1] \"1450_OT_0210_ALT\"\n"
     ]
    },
    {
     "name": "stderr",
     "output_type": "stream",
     "text": [
      "Warning message:\n",
      "“brglmFit: algorithm did not converge. Try changing the optimization algorithm defaults, e.g. the defaults for one or more of `maxit`, `epsilon`, `slowit`, and `response_adjustment`; see `?brglm_control` for default values and available options”\n",
      "Warning message:\n",
      "“brglmFit: fitted probabilities numerically 0 or 1 occurred”\n"
     ]
    },
    {
     "name": "stdout",
     "output_type": "stream",
     "text": [
      "[1] \"1450_OT_0219_ALT\"\n"
     ]
    },
    {
     "name": "stderr",
     "output_type": "stream",
     "text": [
      "Warning message:\n",
      "“brglmFit: algorithm did not converge. Try changing the optimization algorithm defaults, e.g. the defaults for one or more of `maxit`, `epsilon`, `slowit`, and `response_adjustment`; see `?brglm_control` for default values and available options”\n",
      "Warning message:\n",
      "“brglmFit: fitted probabilities numerically 0 or 1 occurred”\n"
     ]
    },
    {
     "name": "stdout",
     "output_type": "stream",
     "text": [
      "[1] \"1450_OT_0235_ALT\"\n",
      "[1] \"1450_OT_0237_ALT\"\n"
     ]
    },
    {
     "name": "stderr",
     "output_type": "stream",
     "text": [
      "Warning message:\n",
      "“brglmFit: algorithm did not converge. Try changing the optimization algorithm defaults, e.g. the defaults for one or more of `maxit`, `epsilon`, `slowit`, and `response_adjustment`; see `?brglm_control` for default values and available options”\n",
      "Warning message:\n",
      "“brglmFit: fitted probabilities numerically 0 or 1 occurred”\n"
     ]
    },
    {
     "name": "stdout",
     "output_type": "stream",
     "text": [
      "[1] \"1450_OT_0238_ALT\"\n"
     ]
    },
    {
     "name": "stderr",
     "output_type": "stream",
     "text": [
      "Warning message:\n",
      "“brglmFit: algorithm did not converge. Try changing the optimization algorithm defaults, e.g. the defaults for one or more of `maxit`, `epsilon`, `slowit`, and `response_adjustment`; see `?brglm_control` for default values and available options”\n",
      "Warning message:\n",
      "“brglmFit: fitted probabilities numerically 0 or 1 occurred”\n"
     ]
    },
    {
     "name": "stdout",
     "output_type": "stream",
     "text": [
      "[1] \"1450_OT_0240_ALT\"\n"
     ]
    },
    {
     "name": "stderr",
     "output_type": "stream",
     "text": [
      "Warning message:\n",
      "“brglmFit: algorithm did not converge. Try changing the optimization algorithm defaults, e.g. the defaults for one or more of `maxit`, `epsilon`, `slowit`, and `response_adjustment`; see `?brglm_control` for default values and available options”\n",
      "Warning message:\n",
      "“brglmFit: fitted probabilities numerically 0 or 1 occurred”\n"
     ]
    },
    {
     "name": "stdout",
     "output_type": "stream",
     "text": [
      "[1] \"1450_OT_0243_ALT\"\n"
     ]
    },
    {
     "name": "stderr",
     "output_type": "stream",
     "text": [
      "Warning message:\n",
      "“brglmFit: algorithm did not converge. Try changing the optimization algorithm defaults, e.g. the defaults for one or more of `maxit`, `epsilon`, `slowit`, and `response_adjustment`; see `?brglm_control` for default values and available options”\n",
      "Warning message:\n",
      "“brglmFit: fitted probabilities numerically 0 or 1 occurred”\n"
     ]
    },
    {
     "name": "stdout",
     "output_type": "stream",
     "text": [
      "[1] \"1450_OT_0250_ALT\"\n"
     ]
    },
    {
     "name": "stderr",
     "output_type": "stream",
     "text": [
      "Warning message:\n",
      "“brglmFit: algorithm did not converge. Try changing the optimization algorithm defaults, e.g. the defaults for one or more of `maxit`, `epsilon`, `slowit`, and `response_adjustment`; see `?brglm_control` for default values and available options”\n",
      "Warning message:\n",
      "“brglmFit: fitted probabilities numerically 0 or 1 occurred”\n"
     ]
    },
    {
     "name": "stdout",
     "output_type": "stream",
     "text": [
      "[1] \"1450_OT_0251_ALT\"\n"
     ]
    },
    {
     "name": "stderr",
     "output_type": "stream",
     "text": [
      "Warning message:\n",
      "“brglmFit: algorithm did not converge. Try changing the optimization algorithm defaults, e.g. the defaults for one or more of `maxit`, `epsilon`, `slowit`, and `response_adjustment`; see `?brglm_control` for default values and available options”\n",
      "Warning message:\n",
      "“brglmFit: fitted probabilities numerically 0 or 1 occurred”\n"
     ]
    },
    {
     "name": "stdout",
     "output_type": "stream",
     "text": [
      "[1] \"1450_OT_0264_ALT\"\n"
     ]
    },
    {
     "name": "stderr",
     "output_type": "stream",
     "text": [
      "Warning message:\n",
      "“brglmFit: algorithm did not converge. Try changing the optimization algorithm defaults, e.g. the defaults for one or more of `maxit`, `epsilon`, `slowit`, and `response_adjustment`; see `?brglm_control` for default values and available options”\n",
      "Warning message:\n",
      "“brglmFit: fitted probabilities numerically 0 or 1 occurred”\n"
     ]
    },
    {
     "name": "stdout",
     "output_type": "stream",
     "text": [
      "[1] \"1450_OT_0274_ALT\"\n",
      "[1] \"1450_OT_0278_ALT\"\n",
      "[1] \"1450_OT_0282_ALT\"\n",
      "[1] \"1450_OT_0290_ALT\"\n",
      "[1] \"1450_OT_0297_ALT\"\n"
     ]
    },
    {
     "name": "stderr",
     "output_type": "stream",
     "text": [
      "Warning message:\n",
      "“brglmFit: algorithm did not converge. Try changing the optimization algorithm defaults, e.g. the defaults for one or more of `maxit`, `epsilon`, `slowit`, and `response_adjustment`; see `?brglm_control` for default values and available options”\n",
      "Warning message:\n",
      "“brglmFit: fitted probabilities numerically 0 or 1 occurred”\n"
     ]
    },
    {
     "name": "stdout",
     "output_type": "stream",
     "text": [
      "[1] \"1450_OT_0298_ALT\"\n"
     ]
    },
    {
     "name": "stderr",
     "output_type": "stream",
     "text": [
      "Warning message:\n",
      "“brglmFit: algorithm did not converge. Try changing the optimization algorithm defaults, e.g. the defaults for one or more of `maxit`, `epsilon`, `slowit`, and `response_adjustment`; see `?brglm_control` for default values and available options”\n",
      "Warning message:\n",
      "“brglmFit: fitted probabilities numerically 0 or 1 occurred”\n"
     ]
    },
    {
     "name": "stdout",
     "output_type": "stream",
     "text": [
      "[1] \"1450_OT_0299_ALT\"\n"
     ]
    },
    {
     "name": "stderr",
     "output_type": "stream",
     "text": [
      "Warning message:\n",
      "“brglmFit: algorithm did not converge. Try changing the optimization algorithm defaults, e.g. the defaults for one or more of `maxit`, `epsilon`, `slowit`, and `response_adjustment`; see `?brglm_control` for default values and available options”\n",
      "Warning message:\n",
      "“brglmFit: fitted probabilities numerically 0 or 1 occurred”\n"
     ]
    },
    {
     "name": "stdout",
     "output_type": "stream",
     "text": [
      "[1] \"1450_OT_0311_ALT\"\n"
     ]
    },
    {
     "name": "stderr",
     "output_type": "stream",
     "text": [
      "Warning message:\n",
      "“brglmFit: algorithm did not converge. Try changing the optimization algorithm defaults, e.g. the defaults for one or more of `maxit`, `epsilon`, `slowit`, and `response_adjustment`; see `?brglm_control` for default values and available options”\n",
      "Warning message:\n",
      "“brglmFit: fitted probabilities numerically 0 or 1 occurred”\n"
     ]
    },
    {
     "name": "stdout",
     "output_type": "stream",
     "text": [
      "[1] \"1450_OT_0320_ALT\"\n"
     ]
    },
    {
     "name": "stderr",
     "output_type": "stream",
     "text": [
      "Warning message:\n",
      "“brglmFit: algorithm did not converge. Try changing the optimization algorithm defaults, e.g. the defaults for one or more of `maxit`, `epsilon`, `slowit`, and `response_adjustment`; see `?brglm_control` for default values and available options”\n",
      "Warning message:\n",
      "“brglmFit: fitted probabilities numerically 0 or 1 occurred”\n"
     ]
    },
    {
     "name": "stdout",
     "output_type": "stream",
     "text": [
      "[1] \"1450_OT_0321_ALT\"\n"
     ]
    },
    {
     "name": "stderr",
     "output_type": "stream",
     "text": [
      "Warning message:\n",
      "“brglmFit: algorithm did not converge. Try changing the optimization algorithm defaults, e.g. the defaults for one or more of `maxit`, `epsilon`, `slowit`, and `response_adjustment`; see `?brglm_control` for default values and available options”\n",
      "Warning message:\n",
      "“brglmFit: fitted probabilities numerically 0 or 1 occurred”\n"
     ]
    },
    {
     "name": "stdout",
     "output_type": "stream",
     "text": [
      "[1] \"1450_OT_0328_ALT\"\n"
     ]
    },
    {
     "name": "stderr",
     "output_type": "stream",
     "text": [
      "Warning message:\n",
      "“brglmFit: algorithm did not converge. Try changing the optimization algorithm defaults, e.g. the defaults for one or more of `maxit`, `epsilon`, `slowit`, and `response_adjustment`; see `?brglm_control` for default values and available options”\n",
      "Warning message:\n",
      "“brglmFit: fitted probabilities numerically 0 or 1 occurred”\n"
     ]
    },
    {
     "name": "stdout",
     "output_type": "stream",
     "text": [
      "[1] \"1450_OT_0329_ALT\"\n"
     ]
    },
    {
     "name": "stderr",
     "output_type": "stream",
     "text": [
      "Warning message:\n",
      "“brglmFit: algorithm did not converge. Try changing the optimization algorithm defaults, e.g. the defaults for one or more of `maxit`, `epsilon`, `slowit`, and `response_adjustment`; see `?brglm_control` for default values and available options”\n",
      "Warning message:\n",
      "“brglmFit: fitted probabilities numerically 0 or 1 occurred”\n"
     ]
    },
    {
     "name": "stdout",
     "output_type": "stream",
     "text": [
      "[1] \"1450_OT_0361_ALT\"\n"
     ]
    },
    {
     "name": "stderr",
     "output_type": "stream",
     "text": [
      "Warning message:\n",
      "“brglmFit: algorithm did not converge. Try changing the optimization algorithm defaults, e.g. the defaults for one or more of `maxit`, `epsilon`, `slowit`, and `response_adjustment`; see `?brglm_control` for default values and available options”\n",
      "Warning message:\n",
      "“brglmFit: fitted probabilities numerically 0 or 1 occurred”\n"
     ]
    },
    {
     "name": "stdout",
     "output_type": "stream",
     "text": [
      "[1] \"1450_OT_0362_ALT\"\n"
     ]
    },
    {
     "name": "stderr",
     "output_type": "stream",
     "text": [
      "Warning message:\n",
      "“brglmFit: algorithm did not converge. Try changing the optimization algorithm defaults, e.g. the defaults for one or more of `maxit`, `epsilon`, `slowit`, and `response_adjustment`; see `?brglm_control` for default values and available options”\n",
      "Warning message:\n",
      "“brglmFit: fitted probabilities numerically 0 or 1 occurred”\n"
     ]
    },
    {
     "name": "stdout",
     "output_type": "stream",
     "text": [
      "[1] \"1617_OT_0000_REF\"\n",
      "[1] \"1617_OT_0040_ALT\"\n",
      "[1] \"1617_OT_0040_REF\"\n"
     ]
    },
    {
     "name": "stderr",
     "output_type": "stream",
     "text": [
      "Warning message:\n",
      "“brglmFit: algorithm did not converge. Try changing the optimization algorithm defaults, e.g. the defaults for one or more of `maxit`, `epsilon`, `slowit`, and `response_adjustment`; see `?brglm_control` for default values and available options”\n",
      "Warning message:\n",
      "“brglmFit: fitted probabilities numerically 0 or 1 occurred”\n"
     ]
    },
    {
     "name": "stdout",
     "output_type": "stream",
     "text": [
      "[1] \"1617_OT_0041_ALT\"\n"
     ]
    },
    {
     "name": "stderr",
     "output_type": "stream",
     "text": [
      "Warning message:\n",
      "“brglmFit: algorithm did not converge. Try changing the optimization algorithm defaults, e.g. the defaults for one or more of `maxit`, `epsilon`, `slowit`, and `response_adjustment`; see `?brglm_control` for default values and available options”\n",
      "Warning message:\n",
      "“brglmFit: fitted probabilities numerically 0 or 1 occurred”\n"
     ]
    },
    {
     "name": "stdout",
     "output_type": "stream",
     "text": [
      "[1] \"1617_OT_0041_REF\"\n"
     ]
    },
    {
     "name": "stderr",
     "output_type": "stream",
     "text": [
      "Warning message:\n",
      "“brglmFit: algorithm did not converge. Try changing the optimization algorithm defaults, e.g. the defaults for one or more of `maxit`, `epsilon`, `slowit`, and `response_adjustment`; see `?brglm_control` for default values and available options”\n",
      "Warning message:\n",
      "“brglmFit: fitted probabilities numerically 0 or 1 occurred”\n"
     ]
    },
    {
     "name": "stdout",
     "output_type": "stream",
     "text": [
      "[1] \"1617_OT_0318_ALT\"\n"
     ]
    },
    {
     "name": "stderr",
     "output_type": "stream",
     "text": [
      "Warning message:\n",
      "“brglmFit: algorithm did not converge. Try changing the optimization algorithm defaults, e.g. the defaults for one or more of `maxit`, `epsilon`, `slowit`, and `response_adjustment`; see `?brglm_control` for default values and available options”\n",
      "Warning message:\n",
      "“brglmFit: fitted probabilities numerically 0 or 1 occurred”\n"
     ]
    },
    {
     "name": "stdout",
     "output_type": "stream",
     "text": [
      "[1] \"1617_OT_0319_ALT\"\n"
     ]
    },
    {
     "name": "stderr",
     "output_type": "stream",
     "text": [
      "Warning message:\n",
      "“brglmFit: algorithm did not converge. Try changing the optimization algorithm defaults, e.g. the defaults for one or more of `maxit`, `epsilon`, `slowit`, and `response_adjustment`; see `?brglm_control` for default values and available options”\n",
      "Warning message:\n",
      "“brglmFit: fitted probabilities numerically 0 or 1 occurred”\n"
     ]
    },
    {
     "name": "stdout",
     "output_type": "stream",
     "text": [
      "[1] \"1617_OT_0322_ALT\"\n"
     ]
    },
    {
     "name": "stderr",
     "output_type": "stream",
     "text": [
      "Warning message:\n",
      "“brglmFit: algorithm did not converge. Try changing the optimization algorithm defaults, e.g. the defaults for one or more of `maxit`, `epsilon`, `slowit`, and `response_adjustment`; see `?brglm_control` for default values and available options”\n",
      "Warning message:\n",
      "“brglmFit: fitted probabilities numerically 0 or 1 occurred”\n"
     ]
    },
    {
     "name": "stdout",
     "output_type": "stream",
     "text": [
      "[1] \"1617_OT_0327_ALT\"\n",
      "[1] \"1617_OT_0329_ALT\"\n"
     ]
    },
    {
     "name": "stderr",
     "output_type": "stream",
     "text": [
      "Warning message:\n",
      "“brglmFit: algorithm did not converge. Try changing the optimization algorithm defaults, e.g. the defaults for one or more of `maxit`, `epsilon`, `slowit`, and `response_adjustment`; see `?brglm_control` for default values and available options”\n",
      "Warning message:\n",
      "“brglmFit: fitted probabilities numerically 0 or 1 occurred”\n"
     ]
    },
    {
     "name": "stdout",
     "output_type": "stream",
     "text": [
      "[1] \"1617_OT_0331_ALT\"\n"
     ]
    },
    {
     "name": "stderr",
     "output_type": "stream",
     "text": [
      "Warning message:\n",
      "“brglmFit: algorithm did not converge. Try changing the optimization algorithm defaults, e.g. the defaults for one or more of `maxit`, `epsilon`, `slowit`, and `response_adjustment`; see `?brglm_control` for default values and available options”\n",
      "Warning message:\n",
      "“brglmFit: fitted probabilities numerically 0 or 1 occurred”\n"
     ]
    },
    {
     "name": "stdout",
     "output_type": "stream",
     "text": [
      "[1] \"1617_OT_0332_ALT\"\n"
     ]
    },
    {
     "name": "stderr",
     "output_type": "stream",
     "text": [
      "Warning message:\n",
      "“brglmFit: algorithm did not converge. Try changing the optimization algorithm defaults, e.g. the defaults for one or more of `maxit`, `epsilon`, `slowit`, and `response_adjustment`; see `?brglm_control` for default values and available options”\n",
      "Warning message:\n",
      "“brglmFit: fitted probabilities numerically 0 or 1 occurred”\n"
     ]
    },
    {
     "name": "stdout",
     "output_type": "stream",
     "text": [
      "[1] \"1617_OT_0333_ALT\"\n"
     ]
    },
    {
     "name": "stderr",
     "output_type": "stream",
     "text": [
      "Warning message:\n",
      "“brglmFit: algorithm did not converge. Try changing the optimization algorithm defaults, e.g. the defaults for one or more of `maxit`, `epsilon`, `slowit`, and `response_adjustment`; see `?brglm_control` for default values and available options”\n",
      "Warning message:\n",
      "“brglmFit: fitted probabilities numerically 0 or 1 occurred”\n"
     ]
    },
    {
     "name": "stdout",
     "output_type": "stream",
     "text": [
      "[1] \"1617_OT_0334_ALT\"\n"
     ]
    },
    {
     "name": "stderr",
     "output_type": "stream",
     "text": [
      "Warning message:\n",
      "“brglmFit: algorithm did not converge. Try changing the optimization algorithm defaults, e.g. the defaults for one or more of `maxit`, `epsilon`, `slowit`, and `response_adjustment`; see `?brglm_control` for default values and available options”\n",
      "Warning message:\n",
      "“brglmFit: fitted probabilities numerically 0 or 1 occurred”\n"
     ]
    },
    {
     "name": "stdout",
     "output_type": "stream",
     "text": [
      "[1] \"1617_OT_0344_ALT\"\n"
     ]
    },
    {
     "name": "stderr",
     "output_type": "stream",
     "text": [
      "Warning message:\n",
      "“brglmFit: algorithm did not converge. Try changing the optimization algorithm defaults, e.g. the defaults for one or more of `maxit`, `epsilon`, `slowit`, and `response_adjustment`; see `?brglm_control` for default values and available options”\n",
      "Warning message:\n",
      "“brglmFit: fitted probabilities numerically 0 or 1 occurred”\n"
     ]
    },
    {
     "name": "stdout",
     "output_type": "stream",
     "text": [
      "[1] \"1617_OT_0345_ALT\"\n"
     ]
    },
    {
     "name": "stderr",
     "output_type": "stream",
     "text": [
      "Warning message:\n",
      "“brglmFit: algorithm did not converge. Try changing the optimization algorithm defaults, e.g. the defaults for one or more of `maxit`, `epsilon`, `slowit`, and `response_adjustment`; see `?brglm_control` for default values and available options”\n",
      "Warning message:\n",
      "“brglmFit: fitted probabilities numerically 0 or 1 occurred”\n"
     ]
    },
    {
     "name": "stdout",
     "output_type": "stream",
     "text": [
      "[1] \"1617_OT_0348_ALT\"\n"
     ]
    },
    {
     "name": "stderr",
     "output_type": "stream",
     "text": [
      "Warning message:\n",
      "“brglmFit: algorithm did not converge. Try changing the optimization algorithm defaults, e.g. the defaults for one or more of `maxit`, `epsilon`, `slowit`, and `response_adjustment`; see `?brglm_control` for default values and available options”\n",
      "Warning message:\n",
      "“brglmFit: fitted probabilities numerically 0 or 1 occurred”\n"
     ]
    },
    {
     "name": "stdout",
     "output_type": "stream",
     "text": [
      "[1] \"1617_OT_0349_ALT\"\n"
     ]
    },
    {
     "name": "stderr",
     "output_type": "stream",
     "text": [
      "Warning message:\n",
      "“brglmFit: algorithm did not converge. Try changing the optimization algorithm defaults, e.g. the defaults for one or more of `maxit`, `epsilon`, `slowit`, and `response_adjustment`; see `?brglm_control` for default values and available options”\n",
      "Warning message:\n",
      "“brglmFit: fitted probabilities numerically 0 or 1 occurred”\n"
     ]
    },
    {
     "name": "stdout",
     "output_type": "stream",
     "text": [
      "[1] \"1617_OT_0352_ALT\"\n"
     ]
    },
    {
     "name": "stderr",
     "output_type": "stream",
     "text": [
      "Warning message:\n",
      "“brglmFit: algorithm did not converge. Try changing the optimization algorithm defaults, e.g. the defaults for one or more of `maxit`, `epsilon`, `slowit`, and `response_adjustment`; see `?brglm_control` for default values and available options”\n",
      "Warning message:\n",
      "“brglmFit: fitted probabilities numerically 0 or 1 occurred”\n"
     ]
    },
    {
     "name": "stdout",
     "output_type": "stream",
     "text": [
      "[1] \"1617_OT_0353_ALT\"\n"
     ]
    },
    {
     "name": "stderr",
     "output_type": "stream",
     "text": [
      "Warning message:\n",
      "“brglmFit: algorithm did not converge. Try changing the optimization algorithm defaults, e.g. the defaults for one or more of `maxit`, `epsilon`, `slowit`, and `response_adjustment`; see `?brglm_control` for default values and available options”\n",
      "Warning message:\n",
      "“brglmFit: fitted probabilities numerically 0 or 1 occurred”\n"
     ]
    },
    {
     "name": "stdout",
     "output_type": "stream",
     "text": [
      "[1] \"1617_OT_0355_ALT\"\n"
     ]
    },
    {
     "name": "stderr",
     "output_type": "stream",
     "text": [
      "Warning message:\n",
      "“brglmFit: algorithm did not converge. Try changing the optimization algorithm defaults, e.g. the defaults for one or more of `maxit`, `epsilon`, `slowit`, and `response_adjustment`; see `?brglm_control` for default values and available options”\n",
      "Warning message:\n",
      "“brglmFit: fitted probabilities numerically 0 or 1 occurred”\n"
     ]
    },
    {
     "name": "stdout",
     "output_type": "stream",
     "text": [
      "[1] \"1617_OT_0356_ALT\"\n"
     ]
    },
    {
     "name": "stderr",
     "output_type": "stream",
     "text": [
      "Warning message:\n",
      "“brglmFit: algorithm did not converge. Try changing the optimization algorithm defaults, e.g. the defaults for one or more of `maxit`, `epsilon`, `slowit`, and `response_adjustment`; see `?brglm_control` for default values and available options”\n",
      "Warning message:\n",
      "“brglmFit: fitted probabilities numerically 0 or 1 occurred”\n"
     ]
    },
    {
     "name": "stdout",
     "output_type": "stream",
     "text": [
      "[1] \"1617_OT_0362_ALT\"\n"
     ]
    },
    {
     "name": "stderr",
     "output_type": "stream",
     "text": [
      "Warning message:\n",
      "“brglmFit: algorithm did not converge. Try changing the optimization algorithm defaults, e.g. the defaults for one or more of `maxit`, `epsilon`, `slowit`, and `response_adjustment`; see `?brglm_control` for default values and available options”\n",
      "Warning message:\n",
      "“brglmFit: fitted probabilities numerically 0 or 1 occurred”\n"
     ]
    },
    {
     "name": "stdout",
     "output_type": "stream",
     "text": [
      "[1] \"1617_OT_0373_ALT\"\n"
     ]
    },
    {
     "name": "stderr",
     "output_type": "stream",
     "text": [
      "Warning message:\n",
      "“brglmFit: algorithm did not converge. Try changing the optimization algorithm defaults, e.g. the defaults for one or more of `maxit`, `epsilon`, `slowit`, and `response_adjustment`; see `?brglm_control` for default values and available options”\n",
      "Warning message:\n",
      "“brglmFit: fitted probabilities numerically 0 or 1 occurred”\n"
     ]
    },
    {
     "name": "stdout",
     "output_type": "stream",
     "text": [
      "[1] \"1617_OT_0376_ALT\"\n"
     ]
    },
    {
     "name": "stderr",
     "output_type": "stream",
     "text": [
      "Warning message:\n",
      "“brglmFit: algorithm did not converge. Try changing the optimization algorithm defaults, e.g. the defaults for one or more of `maxit`, `epsilon`, `slowit`, and `response_adjustment`; see `?brglm_control` for default values and available options”\n",
      "Warning message:\n",
      "“brglmFit: fitted probabilities numerically 0 or 1 occurred”\n"
     ]
    },
    {
     "name": "stdout",
     "output_type": "stream",
     "text": [
      "[1] \"1617_OT_0381_ALT\"\n",
      "[1] \"1617_OT_0393_ALT\"\n"
     ]
    },
    {
     "name": "stderr",
     "output_type": "stream",
     "text": [
      "Warning message:\n",
      "“brglmFit: algorithm did not converge. Try changing the optimization algorithm defaults, e.g. the defaults for one or more of `maxit`, `epsilon`, `slowit`, and `response_adjustment`; see `?brglm_control` for default values and available options”\n",
      "Warning message:\n",
      "“brglmFit: fitted probabilities numerically 0 or 1 occurred”\n"
     ]
    },
    {
     "name": "stdout",
     "output_type": "stream",
     "text": [
      "[1] \"1617_OT_0398_ALT\"\n"
     ]
    },
    {
     "name": "stderr",
     "output_type": "stream",
     "text": [
      "Warning message:\n",
      "“brglmFit: algorithm did not converge. Try changing the optimization algorithm defaults, e.g. the defaults for one or more of `maxit`, `epsilon`, `slowit`, and `response_adjustment`; see `?brglm_control` for default values and available options”\n",
      "Warning message:\n",
      "“brglmFit: fitted probabilities numerically 0 or 1 occurred”\n"
     ]
    },
    {
     "name": "stdout",
     "output_type": "stream",
     "text": [
      "[1] \"1617_OT_0400_ALT\"\n"
     ]
    },
    {
     "name": "stderr",
     "output_type": "stream",
     "text": [
      "Warning message:\n",
      "“brglmFit: algorithm did not converge. Try changing the optimization algorithm defaults, e.g. the defaults for one or more of `maxit`, `epsilon`, `slowit`, and `response_adjustment`; see `?brglm_control` for default values and available options”\n",
      "Warning message:\n",
      "“brglmFit: fitted probabilities numerically 0 or 1 occurred”\n"
     ]
    },
    {
     "name": "stdout",
     "output_type": "stream",
     "text": [
      "[1] \"1617_OT_0436_ALT\"\n"
     ]
    },
    {
     "name": "stderr",
     "output_type": "stream",
     "text": [
      "Warning message:\n",
      "“brglmFit: algorithm did not converge. Try changing the optimization algorithm defaults, e.g. the defaults for one or more of `maxit`, `epsilon`, `slowit`, and `response_adjustment`; see `?brglm_control` for default values and available options”\n",
      "Warning message:\n",
      "“brglmFit: fitted probabilities numerically 0 or 1 occurred”\n"
     ]
    }
   ],
   "source": [
    "# basedir=\"/home/d4np3l/Projects/BauerLab/offTarget/LVOT/CRISPRessoBatch_editing_alleles-20230607T201120Z-001/CRISPRessoBatch_editing_alleles/dedudLoose\"\n",
    "# basedirRes=\"/home/d4np3l/Projects/BauerLab/offTarget/LVOT/CRISPRessoBatch_editing_alleles-20230607T201120Z-001/CRISPRessoBatch_editing_alleles/dedudLoose/results\"\n",
    "\n",
    "# setwd(\"/home/d4np3l/Projects/BauerLab/offTarget/LVOT/CRISPRessoBatch_editing_alleles-20230607T201120Z-001/CRISPRessoBatch_editing_alleles/dedudLoose\")\n",
    "\n",
    "inputDataInfo=data.table(Donor=c(\"0\"),Treat=c(\"0\"),cInd=0,cTot=0)\n",
    "\n",
    "offrAll=NULL\n",
    "\n",
    "folders=c(\"dedudStringentV3_downSampling001_rep1\", \"dedudStringentV3_downSampling001_rep2\", \"dedudStringentV3_downSampling001_rep3\", \n",
    "          \"dedudStringentV3_downSampling001_rep4\", \"dedudStringentV3_downSampling001_rep5\")\n",
    "effectSize=0.1/100\n",
    "Nsim=1000\n",
    "ncores=12\n",
    "\n",
    "\n",
    "estimModel=function(Offr,Alpha=0.05){\n",
    "  Offr$cInd=apply(Offr,1,function(xx) sum(rbinom(n = as.numeric(xx[4]),size = 1, prob = as.numeric(xx[7]) )))\n",
    "  Offr$Treat=factor(Offr$Treat)\n",
    "  Offr$Treat=relevel(Offr$Treat, \"NoEP\")\n",
    "  # prepare data for logistic regression using success/failures formulation  \n",
    "  Offr$cNet=Offr$cTot-Offr$cInd\n",
    "  mme=glm(cbind(cInd,cNet) ~ Treat+ Donor, data = Offr, family = binomial,method = \"brglmFit\")\n",
    "  pvalueTreatPval=(1-pnorm( coef(summary(mme))[\"TreatHiFi\",\"z value\"]))\n",
    "  return(pvalueTreatPval<Alpha)\n",
    "}\n",
    "# print(folders)\n",
    "\n",
    "for(qq in 1:length(folders)){\n",
    "    powerV=c()\n",
    "    print(folders[qq])\n",
    "    basedir=file.path(\"/data/pinello/PROJECTS/2022_04_LVOT/trimmed_fastq_vpooled_all/CRISPRessoBatch_alleles_umi\",folders[qq])\n",
    "    basedirRes=file.path(\"/data/pinello/PROJECTS/2022_04_LVOT/trimmed_fastq_vpooled_all/CRISPRessoBatch_alleles_umi\",folders[qq],\"results\")\n",
    "    setwd(basedir)\n",
    "    files=dir(pattern = \"*.txt\")\n",
    "    filesSplit=unique(unlist(lapply(strsplit(files,split = \"_\"),function(x) paste(x[1:4],sep=\"_\",collapse = \"_\") )))\n",
    "    for(fileS in 1:length(filesSplit)){\n",
    "        print(filesSplit[fileS])\n",
    "        filesLocus=dir(pattern=filesSplit[fileS])\n",
    "        dataAll=NULL\n",
    "        offr=data.table(Donor=rep(x = \"NA\",length(filesLocus)),Treat=rep(x = \"NA\",length(filesLocus)),cInd=rep(x = 0,length(filesLocus)),cTot=rep(x = 0,length(filesLocus)))\n",
    "        for(fileL in 1:length(filesLocus)){\n",
    "            dataRep = fread(filesLocus[fileL], sep=\"\\t\",header = T)\n",
    "            offr[fileL,\"Donor\"]=unique(unlist(lapply(strsplit(filesLocus[fileL],split = \"_\"),function(x) x[7] )))\n",
    "            offr[fileL,\"Treat\"]=unique(unlist(lapply(strsplit(filesLocus[fileL],split = \"_\"),function(x) x[8] )))\n",
    "            offr$cInd[fileL]=sum(dataRep$'#Reads'[dataRep$Unedited==\"FALSE\"])\n",
    "            offr$cTot[fileL]=sum(dataRep$'#Reads')\n",
    "        }\n",
    "        offr$Treat=factor(offr$Treat)\n",
    "        offr$Treat=relevel(offr$Treat,\"NoEP\")\n",
    "        # prepare data for logistic regression using success/failures formulation  \n",
    "        offr$cNet=offr$cTot-offr$cInd\n",
    "        ndonor=length(unique(offr$Donor))\n",
    "        donors=unique(offr$Donor)\n",
    "\n",
    "        # run the logistic regression using Biased reduction formula   \n",
    "        mme=glm(cbind(cInd,cNet) ~ Treat+ Donor, data = offr, family = binomial,method = \"brglmFit\")\n",
    "\n",
    "        #  glmer(cbind(cInd,cNet) ~ Treat+ (1|Donor), data = offr, family = binomial)\n",
    "        # given the regression model estimates, calculate the predicted probabilities for Donor and Treat variables and their variances, conf. intervals \n",
    "        h=ggpredict(mme,c(\"Donor\",\"Treat\"))\n",
    "        for(oo in 1:length(h$predicted)){\n",
    "          offr$predicted[offr$Treat== h$group[oo] & offr$Donor== h$x[oo]]=h$predicted[oo]\n",
    "        }\n",
    "\n",
    "        pvalueTreatPval=(1-pnorm( coef(summary(mme))[\"TreatHiFi\",\"z value\"]))\n",
    "        offr$powerProb=0\n",
    "        for(donorInd in 1:ndonor){\n",
    "            offr$powerProb[offr$Donor==donors[donorInd]]=offr$predicted[offr$Donor==donors[donorInd] & offr$Treat==\"NoEP\"][1]\n",
    "        }\n",
    "        offr$powerProb[offr$Treat==\"HiFi\"]=offr$powerProb[offr$Treat==\"HiFi\"]+effectSize\n",
    "        fwrite(offr,file=file.path(basedirRes,filesSplit[fileS]),sep = \"\\t\",col.names = T,row.names = F)\n",
    "        powerV=c(powerV,mean(unlist(mclapply(vector(\"list\", length = Nsim), function(x) estimModel(Offr = offr),mc.cores = ncores))))           \n",
    "  }\n",
    "  powerV_df <- data.frame (\n",
    "          target = filesSplit,\n",
    "          power = powerV\n",
    "        )\n",
    "  powerV_df$type <- folders[qq]\n",
    "  powerV_df$effectSize <- effectSize  \n",
    "  fwrite(powerV_df,file=file.path(\"/data/pinello/PROJECTS/2022_04_LVOT/trimmed_fastq_vpooled_all/CRISPRessoBatch_alleles_umi/power_analysis\",folders[qq]),sep = \"\\t\",col.names = T,row.names = F)\n",
    "}          "
   ]
  },
  {
   "cell_type": "code",
   "execution_count": null,
   "id": "ef7669f6",
   "metadata": {
    "scrolled": true
   },
   "outputs": [],
   "source": []
  },
  {
   "cell_type": "code",
   "execution_count": 26,
   "id": "4897bf18",
   "metadata": {},
   "outputs": [],
   "source": [
    "# folder <- '/data/pinello/PROJECTS/2022_04_LVOT/trimmed_fastq_vpooled_all/CRISPRessoBatch_alleles_umi/power_analysis'\n",
    "# if (file.exists(folder)) {\n",
    "#  cat(\"The folder already exists\")\n",
    "# } else {\n",
    "#  dir.create(folder)\n",
    "# }"
   ]
  },
  {
   "cell_type": "code",
   "execution_count": 52,
   "id": "f06570fb",
   "metadata": {},
   "outputs": [
    {
     "data": {
      "text/html": [
       "'dedudStringentV3_downSampling01_rep5'"
      ],
      "text/latex": [
       "'dedudStringentV3\\_downSampling01\\_rep5'"
      ],
      "text/markdown": [
       "'dedudStringentV3_downSampling01_rep5'"
      ],
      "text/plain": [
       "[1] \"dedudStringentV3_downSampling01_rep5\""
      ]
     },
     "metadata": {},
     "output_type": "display_data"
    }
   ],
   "source": [
    "folders[qq]"
   ]
  },
  {
   "cell_type": "code",
   "execution_count": 40,
   "id": "dc081d24",
   "metadata": {},
   "outputs": [],
   "source": [
    "fwrite(powerV_df, file=file.path('/data/pinello/PROJECTS/2022_04_LVOT/trimmed_fastq_vpooled_all/CRISPRessoBatch_alleles_umi/power_analysis/raw_deduplicateS_effectSize0.0001.tsv'),sep = \"\\t\",col.names = T,row.names = F)"
   ]
  },
  {
   "cell_type": "code",
   "execution_count": 56,
   "id": "8d2c4a2e",
   "metadata": {},
   "outputs": [
    {
     "data": {
      "text/html": [
       "<table class=\"dataframe\">\n",
       "<caption>A data.frame: 79 × 4</caption>\n",
       "<thead>\n",
       "\t<tr><th scope=col>target</th><th scope=col>power</th><th scope=col>type</th><th scope=col>effectSize</th></tr>\n",
       "\t<tr><th scope=col>&lt;chr&gt;</th><th scope=col>&lt;dbl&gt;</th><th scope=col>&lt;chr&gt;</th><th scope=col>&lt;dbl&gt;</th></tr>\n",
       "</thead>\n",
       "<tbody>\n",
       "\t<tr><td>1450_OT_0000_REF</td><td>0.354</td><td>dedudStringentV3_downSampling001_rep5</td><td>0.001</td></tr>\n",
       "\t<tr><td>1450_OT_0071_REF</td><td>0.457</td><td>dedudStringentV3_downSampling001_rep5</td><td>0.001</td></tr>\n",
       "\t<tr><td>1450_OT_0125_ALT</td><td>0.212</td><td>dedudStringentV3_downSampling001_rep5</td><td>0.001</td></tr>\n",
       "\t<tr><td>1450_OT_0128_ALT</td><td>0.460</td><td>dedudStringentV3_downSampling001_rep5</td><td>0.001</td></tr>\n",
       "\t<tr><td>1450_OT_0132_ALT</td><td>0.793</td><td>dedudStringentV3_downSampling001_rep5</td><td>0.001</td></tr>\n",
       "\t<tr><td>1450_OT_0133_ALT</td><td>0.486</td><td>dedudStringentV3_downSampling001_rep5</td><td>0.001</td></tr>\n",
       "\t<tr><td>1450_OT_0136_ALT</td><td>0.461</td><td>dedudStringentV3_downSampling001_rep5</td><td>0.001</td></tr>\n",
       "\t<tr><td>1450_OT_0142_ALT</td><td>0.044</td><td>dedudStringentV3_downSampling001_rep5</td><td>0.001</td></tr>\n",
       "\t<tr><td>1450_OT_0145_ALT</td><td>0.370</td><td>dedudStringentV3_downSampling001_rep5</td><td>0.001</td></tr>\n",
       "\t<tr><td>1450_OT_0146_ALT</td><td>0.018</td><td>dedudStringentV3_downSampling001_rep5</td><td>0.001</td></tr>\n",
       "\t<tr><td>1450_OT_0152_ALT</td><td>0.216</td><td>dedudStringentV3_downSampling001_rep5</td><td>0.001</td></tr>\n",
       "\t<tr><td>1450_OT_0153_ALT</td><td>0.208</td><td>dedudStringentV3_downSampling001_rep5</td><td>0.001</td></tr>\n",
       "\t<tr><td>1450_OT_0162_ALT</td><td>0.133</td><td>dedudStringentV3_downSampling001_rep5</td><td>0.001</td></tr>\n",
       "\t<tr><td>1450_OT_0163_ALT</td><td>0.346</td><td>dedudStringentV3_downSampling001_rep5</td><td>0.001</td></tr>\n",
       "\t<tr><td>1450_OT_0164_ALT</td><td>0.171</td><td>dedudStringentV3_downSampling001_rep5</td><td>0.001</td></tr>\n",
       "\t<tr><td>1450_OT_0174_ALT</td><td>0.181</td><td>dedudStringentV3_downSampling001_rep5</td><td>0.001</td></tr>\n",
       "\t<tr><td>1450_OT_0176_ALT</td><td>0.182</td><td>dedudStringentV3_downSampling001_rep5</td><td>0.001</td></tr>\n",
       "\t<tr><td>1450_OT_0179_ALT</td><td>0.506</td><td>dedudStringentV3_downSampling001_rep5</td><td>0.001</td></tr>\n",
       "\t<tr><td>1450_OT_0190_ALT</td><td>0.218</td><td>dedudStringentV3_downSampling001_rep5</td><td>0.001</td></tr>\n",
       "\t<tr><td>1450_OT_0192_ALT</td><td>0.565</td><td>dedudStringentV3_downSampling001_rep5</td><td>0.001</td></tr>\n",
       "\t<tr><td>1450_OT_0193_ALT</td><td>0.302</td><td>dedudStringentV3_downSampling001_rep5</td><td>0.001</td></tr>\n",
       "\t<tr><td>1450_OT_0194_ALT</td><td>0.288</td><td>dedudStringentV3_downSampling001_rep5</td><td>0.001</td></tr>\n",
       "\t<tr><td>1450_OT_0200_ALT</td><td>0.474</td><td>dedudStringentV3_downSampling001_rep5</td><td>0.001</td></tr>\n",
       "\t<tr><td>1450_OT_0203_ALT</td><td>0.533</td><td>dedudStringentV3_downSampling001_rep5</td><td>0.001</td></tr>\n",
       "\t<tr><td>1450_OT_0206_ALT</td><td>0.552</td><td>dedudStringentV3_downSampling001_rep5</td><td>0.001</td></tr>\n",
       "\t<tr><td>1450_OT_0210_ALT</td><td>0.096</td><td>dedudStringentV3_downSampling001_rep5</td><td>0.001</td></tr>\n",
       "\t<tr><td>1450_OT_0219_ALT</td><td>0.533</td><td>dedudStringentV3_downSampling001_rep5</td><td>0.001</td></tr>\n",
       "\t<tr><td>1450_OT_0235_ALT</td><td>0.295</td><td>dedudStringentV3_downSampling001_rep5</td><td>0.001</td></tr>\n",
       "\t<tr><td>1450_OT_0237_ALT</td><td>0.046</td><td>dedudStringentV3_downSampling001_rep5</td><td>0.001</td></tr>\n",
       "\t<tr><td>1450_OT_0238_ALT</td><td>0.527</td><td>dedudStringentV3_downSampling001_rep5</td><td>0.001</td></tr>\n",
       "\t<tr><td>⋮</td><td>⋮</td><td>⋮</td><td>⋮</td></tr>\n",
       "\t<tr><td>1617_OT_0000_REF</td><td>0.348</td><td>dedudStringentV3_downSampling001_rep5</td><td>0.001</td></tr>\n",
       "\t<tr><td>1617_OT_0040_ALT</td><td>0.342</td><td>dedudStringentV3_downSampling001_rep5</td><td>0.001</td></tr>\n",
       "\t<tr><td>1617_OT_0040_REF</td><td>0.723</td><td>dedudStringentV3_downSampling001_rep5</td><td>0.001</td></tr>\n",
       "\t<tr><td>1617_OT_0041_ALT</td><td>0.079</td><td>dedudStringentV3_downSampling001_rep5</td><td>0.001</td></tr>\n",
       "\t<tr><td>1617_OT_0041_REF</td><td>0.090</td><td>dedudStringentV3_downSampling001_rep5</td><td>0.001</td></tr>\n",
       "\t<tr><td>1617_OT_0318_ALT</td><td>0.041</td><td>dedudStringentV3_downSampling001_rep5</td><td>0.001</td></tr>\n",
       "\t<tr><td>1617_OT_0319_ALT</td><td>0.090</td><td>dedudStringentV3_downSampling001_rep5</td><td>0.001</td></tr>\n",
       "\t<tr><td>1617_OT_0322_ALT</td><td>0.132</td><td>dedudStringentV3_downSampling001_rep5</td><td>0.001</td></tr>\n",
       "\t<tr><td>1617_OT_0327_ALT</td><td>0.286</td><td>dedudStringentV3_downSampling001_rep5</td><td>0.001</td></tr>\n",
       "\t<tr><td>1617_OT_0329_ALT</td><td>0.496</td><td>dedudStringentV3_downSampling001_rep5</td><td>0.001</td></tr>\n",
       "\t<tr><td>1617_OT_0331_ALT</td><td>0.087</td><td>dedudStringentV3_downSampling001_rep5</td><td>0.001</td></tr>\n",
       "\t<tr><td>1617_OT_0332_ALT</td><td>0.570</td><td>dedudStringentV3_downSampling001_rep5</td><td>0.001</td></tr>\n",
       "\t<tr><td>1617_OT_0333_ALT</td><td>0.390</td><td>dedudStringentV3_downSampling001_rep5</td><td>0.001</td></tr>\n",
       "\t<tr><td>1617_OT_0334_ALT</td><td>0.995</td><td>dedudStringentV3_downSampling001_rep5</td><td>0.001</td></tr>\n",
       "\t<tr><td>1617_OT_0344_ALT</td><td>0.435</td><td>dedudStringentV3_downSampling001_rep5</td><td>0.001</td></tr>\n",
       "\t<tr><td>1617_OT_0345_ALT</td><td>0.257</td><td>dedudStringentV3_downSampling001_rep5</td><td>0.001</td></tr>\n",
       "\t<tr><td>1617_OT_0348_ALT</td><td>0.070</td><td>dedudStringentV3_downSampling001_rep5</td><td>0.001</td></tr>\n",
       "\t<tr><td>1617_OT_0349_ALT</td><td>0.025</td><td>dedudStringentV3_downSampling001_rep5</td><td>0.001</td></tr>\n",
       "\t<tr><td>1617_OT_0352_ALT</td><td>0.249</td><td>dedudStringentV3_downSampling001_rep5</td><td>0.001</td></tr>\n",
       "\t<tr><td>1617_OT_0353_ALT</td><td>0.193</td><td>dedudStringentV3_downSampling001_rep5</td><td>0.001</td></tr>\n",
       "\t<tr><td>1617_OT_0355_ALT</td><td>0.101</td><td>dedudStringentV3_downSampling001_rep5</td><td>0.001</td></tr>\n",
       "\t<tr><td>1617_OT_0356_ALT</td><td>0.071</td><td>dedudStringentV3_downSampling001_rep5</td><td>0.001</td></tr>\n",
       "\t<tr><td>1617_OT_0362_ALT</td><td>0.185</td><td>dedudStringentV3_downSampling001_rep5</td><td>0.001</td></tr>\n",
       "\t<tr><td>1617_OT_0373_ALT</td><td>0.002</td><td>dedudStringentV3_downSampling001_rep5</td><td>0.001</td></tr>\n",
       "\t<tr><td>1617_OT_0376_ALT</td><td>0.149</td><td>dedudStringentV3_downSampling001_rep5</td><td>0.001</td></tr>\n",
       "\t<tr><td>1617_OT_0381_ALT</td><td>0.217</td><td>dedudStringentV3_downSampling001_rep5</td><td>0.001</td></tr>\n",
       "\t<tr><td>1617_OT_0393_ALT</td><td>0.076</td><td>dedudStringentV3_downSampling001_rep5</td><td>0.001</td></tr>\n",
       "\t<tr><td>1617_OT_0398_ALT</td><td>0.701</td><td>dedudStringentV3_downSampling001_rep5</td><td>0.001</td></tr>\n",
       "\t<tr><td>1617_OT_0400_ALT</td><td>0.292</td><td>dedudStringentV3_downSampling001_rep5</td><td>0.001</td></tr>\n",
       "\t<tr><td>1617_OT_0436_ALT</td><td>0.061</td><td>dedudStringentV3_downSampling001_rep5</td><td>0.001</td></tr>\n",
       "</tbody>\n",
       "</table>\n"
      ],
      "text/latex": [
       "A data.frame: 79 × 4\n",
       "\\begin{tabular}{llll}\n",
       " target & power & type & effectSize\\\\\n",
       " <chr> & <dbl> & <chr> & <dbl>\\\\\n",
       "\\hline\n",
       "\t 1450\\_OT\\_0000\\_REF & 0.354 & dedudStringentV3\\_downSampling001\\_rep5 & 0.001\\\\\n",
       "\t 1450\\_OT\\_0071\\_REF & 0.457 & dedudStringentV3\\_downSampling001\\_rep5 & 0.001\\\\\n",
       "\t 1450\\_OT\\_0125\\_ALT & 0.212 & dedudStringentV3\\_downSampling001\\_rep5 & 0.001\\\\\n",
       "\t 1450\\_OT\\_0128\\_ALT & 0.460 & dedudStringentV3\\_downSampling001\\_rep5 & 0.001\\\\\n",
       "\t 1450\\_OT\\_0132\\_ALT & 0.793 & dedudStringentV3\\_downSampling001\\_rep5 & 0.001\\\\\n",
       "\t 1450\\_OT\\_0133\\_ALT & 0.486 & dedudStringentV3\\_downSampling001\\_rep5 & 0.001\\\\\n",
       "\t 1450\\_OT\\_0136\\_ALT & 0.461 & dedudStringentV3\\_downSampling001\\_rep5 & 0.001\\\\\n",
       "\t 1450\\_OT\\_0142\\_ALT & 0.044 & dedudStringentV3\\_downSampling001\\_rep5 & 0.001\\\\\n",
       "\t 1450\\_OT\\_0145\\_ALT & 0.370 & dedudStringentV3\\_downSampling001\\_rep5 & 0.001\\\\\n",
       "\t 1450\\_OT\\_0146\\_ALT & 0.018 & dedudStringentV3\\_downSampling001\\_rep5 & 0.001\\\\\n",
       "\t 1450\\_OT\\_0152\\_ALT & 0.216 & dedudStringentV3\\_downSampling001\\_rep5 & 0.001\\\\\n",
       "\t 1450\\_OT\\_0153\\_ALT & 0.208 & dedudStringentV3\\_downSampling001\\_rep5 & 0.001\\\\\n",
       "\t 1450\\_OT\\_0162\\_ALT & 0.133 & dedudStringentV3\\_downSampling001\\_rep5 & 0.001\\\\\n",
       "\t 1450\\_OT\\_0163\\_ALT & 0.346 & dedudStringentV3\\_downSampling001\\_rep5 & 0.001\\\\\n",
       "\t 1450\\_OT\\_0164\\_ALT & 0.171 & dedudStringentV3\\_downSampling001\\_rep5 & 0.001\\\\\n",
       "\t 1450\\_OT\\_0174\\_ALT & 0.181 & dedudStringentV3\\_downSampling001\\_rep5 & 0.001\\\\\n",
       "\t 1450\\_OT\\_0176\\_ALT & 0.182 & dedudStringentV3\\_downSampling001\\_rep5 & 0.001\\\\\n",
       "\t 1450\\_OT\\_0179\\_ALT & 0.506 & dedudStringentV3\\_downSampling001\\_rep5 & 0.001\\\\\n",
       "\t 1450\\_OT\\_0190\\_ALT & 0.218 & dedudStringentV3\\_downSampling001\\_rep5 & 0.001\\\\\n",
       "\t 1450\\_OT\\_0192\\_ALT & 0.565 & dedudStringentV3\\_downSampling001\\_rep5 & 0.001\\\\\n",
       "\t 1450\\_OT\\_0193\\_ALT & 0.302 & dedudStringentV3\\_downSampling001\\_rep5 & 0.001\\\\\n",
       "\t 1450\\_OT\\_0194\\_ALT & 0.288 & dedudStringentV3\\_downSampling001\\_rep5 & 0.001\\\\\n",
       "\t 1450\\_OT\\_0200\\_ALT & 0.474 & dedudStringentV3\\_downSampling001\\_rep5 & 0.001\\\\\n",
       "\t 1450\\_OT\\_0203\\_ALT & 0.533 & dedudStringentV3\\_downSampling001\\_rep5 & 0.001\\\\\n",
       "\t 1450\\_OT\\_0206\\_ALT & 0.552 & dedudStringentV3\\_downSampling001\\_rep5 & 0.001\\\\\n",
       "\t 1450\\_OT\\_0210\\_ALT & 0.096 & dedudStringentV3\\_downSampling001\\_rep5 & 0.001\\\\\n",
       "\t 1450\\_OT\\_0219\\_ALT & 0.533 & dedudStringentV3\\_downSampling001\\_rep5 & 0.001\\\\\n",
       "\t 1450\\_OT\\_0235\\_ALT & 0.295 & dedudStringentV3\\_downSampling001\\_rep5 & 0.001\\\\\n",
       "\t 1450\\_OT\\_0237\\_ALT & 0.046 & dedudStringentV3\\_downSampling001\\_rep5 & 0.001\\\\\n",
       "\t 1450\\_OT\\_0238\\_ALT & 0.527 & dedudStringentV3\\_downSampling001\\_rep5 & 0.001\\\\\n",
       "\t ⋮ & ⋮ & ⋮ & ⋮\\\\\n",
       "\t 1617\\_OT\\_0000\\_REF & 0.348 & dedudStringentV3\\_downSampling001\\_rep5 & 0.001\\\\\n",
       "\t 1617\\_OT\\_0040\\_ALT & 0.342 & dedudStringentV3\\_downSampling001\\_rep5 & 0.001\\\\\n",
       "\t 1617\\_OT\\_0040\\_REF & 0.723 & dedudStringentV3\\_downSampling001\\_rep5 & 0.001\\\\\n",
       "\t 1617\\_OT\\_0041\\_ALT & 0.079 & dedudStringentV3\\_downSampling001\\_rep5 & 0.001\\\\\n",
       "\t 1617\\_OT\\_0041\\_REF & 0.090 & dedudStringentV3\\_downSampling001\\_rep5 & 0.001\\\\\n",
       "\t 1617\\_OT\\_0318\\_ALT & 0.041 & dedudStringentV3\\_downSampling001\\_rep5 & 0.001\\\\\n",
       "\t 1617\\_OT\\_0319\\_ALT & 0.090 & dedudStringentV3\\_downSampling001\\_rep5 & 0.001\\\\\n",
       "\t 1617\\_OT\\_0322\\_ALT & 0.132 & dedudStringentV3\\_downSampling001\\_rep5 & 0.001\\\\\n",
       "\t 1617\\_OT\\_0327\\_ALT & 0.286 & dedudStringentV3\\_downSampling001\\_rep5 & 0.001\\\\\n",
       "\t 1617\\_OT\\_0329\\_ALT & 0.496 & dedudStringentV3\\_downSampling001\\_rep5 & 0.001\\\\\n",
       "\t 1617\\_OT\\_0331\\_ALT & 0.087 & dedudStringentV3\\_downSampling001\\_rep5 & 0.001\\\\\n",
       "\t 1617\\_OT\\_0332\\_ALT & 0.570 & dedudStringentV3\\_downSampling001\\_rep5 & 0.001\\\\\n",
       "\t 1617\\_OT\\_0333\\_ALT & 0.390 & dedudStringentV3\\_downSampling001\\_rep5 & 0.001\\\\\n",
       "\t 1617\\_OT\\_0334\\_ALT & 0.995 & dedudStringentV3\\_downSampling001\\_rep5 & 0.001\\\\\n",
       "\t 1617\\_OT\\_0344\\_ALT & 0.435 & dedudStringentV3\\_downSampling001\\_rep5 & 0.001\\\\\n",
       "\t 1617\\_OT\\_0345\\_ALT & 0.257 & dedudStringentV3\\_downSampling001\\_rep5 & 0.001\\\\\n",
       "\t 1617\\_OT\\_0348\\_ALT & 0.070 & dedudStringentV3\\_downSampling001\\_rep5 & 0.001\\\\\n",
       "\t 1617\\_OT\\_0349\\_ALT & 0.025 & dedudStringentV3\\_downSampling001\\_rep5 & 0.001\\\\\n",
       "\t 1617\\_OT\\_0352\\_ALT & 0.249 & dedudStringentV3\\_downSampling001\\_rep5 & 0.001\\\\\n",
       "\t 1617\\_OT\\_0353\\_ALT & 0.193 & dedudStringentV3\\_downSampling001\\_rep5 & 0.001\\\\\n",
       "\t 1617\\_OT\\_0355\\_ALT & 0.101 & dedudStringentV3\\_downSampling001\\_rep5 & 0.001\\\\\n",
       "\t 1617\\_OT\\_0356\\_ALT & 0.071 & dedudStringentV3\\_downSampling001\\_rep5 & 0.001\\\\\n",
       "\t 1617\\_OT\\_0362\\_ALT & 0.185 & dedudStringentV3\\_downSampling001\\_rep5 & 0.001\\\\\n",
       "\t 1617\\_OT\\_0373\\_ALT & 0.002 & dedudStringentV3\\_downSampling001\\_rep5 & 0.001\\\\\n",
       "\t 1617\\_OT\\_0376\\_ALT & 0.149 & dedudStringentV3\\_downSampling001\\_rep5 & 0.001\\\\\n",
       "\t 1617\\_OT\\_0381\\_ALT & 0.217 & dedudStringentV3\\_downSampling001\\_rep5 & 0.001\\\\\n",
       "\t 1617\\_OT\\_0393\\_ALT & 0.076 & dedudStringentV3\\_downSampling001\\_rep5 & 0.001\\\\\n",
       "\t 1617\\_OT\\_0398\\_ALT & 0.701 & dedudStringentV3\\_downSampling001\\_rep5 & 0.001\\\\\n",
       "\t 1617\\_OT\\_0400\\_ALT & 0.292 & dedudStringentV3\\_downSampling001\\_rep5 & 0.001\\\\\n",
       "\t 1617\\_OT\\_0436\\_ALT & 0.061 & dedudStringentV3\\_downSampling001\\_rep5 & 0.001\\\\\n",
       "\\end{tabular}\n"
      ],
      "text/markdown": [
       "\n",
       "A data.frame: 79 × 4\n",
       "\n",
       "| target &lt;chr&gt; | power &lt;dbl&gt; | type &lt;chr&gt; | effectSize &lt;dbl&gt; |\n",
       "|---|---|---|---|\n",
       "| 1450_OT_0000_REF | 0.354 | dedudStringentV3_downSampling001_rep5 | 0.001 |\n",
       "| 1450_OT_0071_REF | 0.457 | dedudStringentV3_downSampling001_rep5 | 0.001 |\n",
       "| 1450_OT_0125_ALT | 0.212 | dedudStringentV3_downSampling001_rep5 | 0.001 |\n",
       "| 1450_OT_0128_ALT | 0.460 | dedudStringentV3_downSampling001_rep5 | 0.001 |\n",
       "| 1450_OT_0132_ALT | 0.793 | dedudStringentV3_downSampling001_rep5 | 0.001 |\n",
       "| 1450_OT_0133_ALT | 0.486 | dedudStringentV3_downSampling001_rep5 | 0.001 |\n",
       "| 1450_OT_0136_ALT | 0.461 | dedudStringentV3_downSampling001_rep5 | 0.001 |\n",
       "| 1450_OT_0142_ALT | 0.044 | dedudStringentV3_downSampling001_rep5 | 0.001 |\n",
       "| 1450_OT_0145_ALT | 0.370 | dedudStringentV3_downSampling001_rep5 | 0.001 |\n",
       "| 1450_OT_0146_ALT | 0.018 | dedudStringentV3_downSampling001_rep5 | 0.001 |\n",
       "| 1450_OT_0152_ALT | 0.216 | dedudStringentV3_downSampling001_rep5 | 0.001 |\n",
       "| 1450_OT_0153_ALT | 0.208 | dedudStringentV3_downSampling001_rep5 | 0.001 |\n",
       "| 1450_OT_0162_ALT | 0.133 | dedudStringentV3_downSampling001_rep5 | 0.001 |\n",
       "| 1450_OT_0163_ALT | 0.346 | dedudStringentV3_downSampling001_rep5 | 0.001 |\n",
       "| 1450_OT_0164_ALT | 0.171 | dedudStringentV3_downSampling001_rep5 | 0.001 |\n",
       "| 1450_OT_0174_ALT | 0.181 | dedudStringentV3_downSampling001_rep5 | 0.001 |\n",
       "| 1450_OT_0176_ALT | 0.182 | dedudStringentV3_downSampling001_rep5 | 0.001 |\n",
       "| 1450_OT_0179_ALT | 0.506 | dedudStringentV3_downSampling001_rep5 | 0.001 |\n",
       "| 1450_OT_0190_ALT | 0.218 | dedudStringentV3_downSampling001_rep5 | 0.001 |\n",
       "| 1450_OT_0192_ALT | 0.565 | dedudStringentV3_downSampling001_rep5 | 0.001 |\n",
       "| 1450_OT_0193_ALT | 0.302 | dedudStringentV3_downSampling001_rep5 | 0.001 |\n",
       "| 1450_OT_0194_ALT | 0.288 | dedudStringentV3_downSampling001_rep5 | 0.001 |\n",
       "| 1450_OT_0200_ALT | 0.474 | dedudStringentV3_downSampling001_rep5 | 0.001 |\n",
       "| 1450_OT_0203_ALT | 0.533 | dedudStringentV3_downSampling001_rep5 | 0.001 |\n",
       "| 1450_OT_0206_ALT | 0.552 | dedudStringentV3_downSampling001_rep5 | 0.001 |\n",
       "| 1450_OT_0210_ALT | 0.096 | dedudStringentV3_downSampling001_rep5 | 0.001 |\n",
       "| 1450_OT_0219_ALT | 0.533 | dedudStringentV3_downSampling001_rep5 | 0.001 |\n",
       "| 1450_OT_0235_ALT | 0.295 | dedudStringentV3_downSampling001_rep5 | 0.001 |\n",
       "| 1450_OT_0237_ALT | 0.046 | dedudStringentV3_downSampling001_rep5 | 0.001 |\n",
       "| 1450_OT_0238_ALT | 0.527 | dedudStringentV3_downSampling001_rep5 | 0.001 |\n",
       "| ⋮ | ⋮ | ⋮ | ⋮ |\n",
       "| 1617_OT_0000_REF | 0.348 | dedudStringentV3_downSampling001_rep5 | 0.001 |\n",
       "| 1617_OT_0040_ALT | 0.342 | dedudStringentV3_downSampling001_rep5 | 0.001 |\n",
       "| 1617_OT_0040_REF | 0.723 | dedudStringentV3_downSampling001_rep5 | 0.001 |\n",
       "| 1617_OT_0041_ALT | 0.079 | dedudStringentV3_downSampling001_rep5 | 0.001 |\n",
       "| 1617_OT_0041_REF | 0.090 | dedudStringentV3_downSampling001_rep5 | 0.001 |\n",
       "| 1617_OT_0318_ALT | 0.041 | dedudStringentV3_downSampling001_rep5 | 0.001 |\n",
       "| 1617_OT_0319_ALT | 0.090 | dedudStringentV3_downSampling001_rep5 | 0.001 |\n",
       "| 1617_OT_0322_ALT | 0.132 | dedudStringentV3_downSampling001_rep5 | 0.001 |\n",
       "| 1617_OT_0327_ALT | 0.286 | dedudStringentV3_downSampling001_rep5 | 0.001 |\n",
       "| 1617_OT_0329_ALT | 0.496 | dedudStringentV3_downSampling001_rep5 | 0.001 |\n",
       "| 1617_OT_0331_ALT | 0.087 | dedudStringentV3_downSampling001_rep5 | 0.001 |\n",
       "| 1617_OT_0332_ALT | 0.570 | dedudStringentV3_downSampling001_rep5 | 0.001 |\n",
       "| 1617_OT_0333_ALT | 0.390 | dedudStringentV3_downSampling001_rep5 | 0.001 |\n",
       "| 1617_OT_0334_ALT | 0.995 | dedudStringentV3_downSampling001_rep5 | 0.001 |\n",
       "| 1617_OT_0344_ALT | 0.435 | dedudStringentV3_downSampling001_rep5 | 0.001 |\n",
       "| 1617_OT_0345_ALT | 0.257 | dedudStringentV3_downSampling001_rep5 | 0.001 |\n",
       "| 1617_OT_0348_ALT | 0.070 | dedudStringentV3_downSampling001_rep5 | 0.001 |\n",
       "| 1617_OT_0349_ALT | 0.025 | dedudStringentV3_downSampling001_rep5 | 0.001 |\n",
       "| 1617_OT_0352_ALT | 0.249 | dedudStringentV3_downSampling001_rep5 | 0.001 |\n",
       "| 1617_OT_0353_ALT | 0.193 | dedudStringentV3_downSampling001_rep5 | 0.001 |\n",
       "| 1617_OT_0355_ALT | 0.101 | dedudStringentV3_downSampling001_rep5 | 0.001 |\n",
       "| 1617_OT_0356_ALT | 0.071 | dedudStringentV3_downSampling001_rep5 | 0.001 |\n",
       "| 1617_OT_0362_ALT | 0.185 | dedudStringentV3_downSampling001_rep5 | 0.001 |\n",
       "| 1617_OT_0373_ALT | 0.002 | dedudStringentV3_downSampling001_rep5 | 0.001 |\n",
       "| 1617_OT_0376_ALT | 0.149 | dedudStringentV3_downSampling001_rep5 | 0.001 |\n",
       "| 1617_OT_0381_ALT | 0.217 | dedudStringentV3_downSampling001_rep5 | 0.001 |\n",
       "| 1617_OT_0393_ALT | 0.076 | dedudStringentV3_downSampling001_rep5 | 0.001 |\n",
       "| 1617_OT_0398_ALT | 0.701 | dedudStringentV3_downSampling001_rep5 | 0.001 |\n",
       "| 1617_OT_0400_ALT | 0.292 | dedudStringentV3_downSampling001_rep5 | 0.001 |\n",
       "| 1617_OT_0436_ALT | 0.061 | dedudStringentV3_downSampling001_rep5 | 0.001 |\n",
       "\n"
      ],
      "text/plain": [
       "   target           power type                                  effectSize\n",
       "1  1450_OT_0000_REF 0.354 dedudStringentV3_downSampling001_rep5 0.001     \n",
       "2  1450_OT_0071_REF 0.457 dedudStringentV3_downSampling001_rep5 0.001     \n",
       "3  1450_OT_0125_ALT 0.212 dedudStringentV3_downSampling001_rep5 0.001     \n",
       "4  1450_OT_0128_ALT 0.460 dedudStringentV3_downSampling001_rep5 0.001     \n",
       "5  1450_OT_0132_ALT 0.793 dedudStringentV3_downSampling001_rep5 0.001     \n",
       "6  1450_OT_0133_ALT 0.486 dedudStringentV3_downSampling001_rep5 0.001     \n",
       "7  1450_OT_0136_ALT 0.461 dedudStringentV3_downSampling001_rep5 0.001     \n",
       "8  1450_OT_0142_ALT 0.044 dedudStringentV3_downSampling001_rep5 0.001     \n",
       "9  1450_OT_0145_ALT 0.370 dedudStringentV3_downSampling001_rep5 0.001     \n",
       "10 1450_OT_0146_ALT 0.018 dedudStringentV3_downSampling001_rep5 0.001     \n",
       "11 1450_OT_0152_ALT 0.216 dedudStringentV3_downSampling001_rep5 0.001     \n",
       "12 1450_OT_0153_ALT 0.208 dedudStringentV3_downSampling001_rep5 0.001     \n",
       "13 1450_OT_0162_ALT 0.133 dedudStringentV3_downSampling001_rep5 0.001     \n",
       "14 1450_OT_0163_ALT 0.346 dedudStringentV3_downSampling001_rep5 0.001     \n",
       "15 1450_OT_0164_ALT 0.171 dedudStringentV3_downSampling001_rep5 0.001     \n",
       "16 1450_OT_0174_ALT 0.181 dedudStringentV3_downSampling001_rep5 0.001     \n",
       "17 1450_OT_0176_ALT 0.182 dedudStringentV3_downSampling001_rep5 0.001     \n",
       "18 1450_OT_0179_ALT 0.506 dedudStringentV3_downSampling001_rep5 0.001     \n",
       "19 1450_OT_0190_ALT 0.218 dedudStringentV3_downSampling001_rep5 0.001     \n",
       "20 1450_OT_0192_ALT 0.565 dedudStringentV3_downSampling001_rep5 0.001     \n",
       "21 1450_OT_0193_ALT 0.302 dedudStringentV3_downSampling001_rep5 0.001     \n",
       "22 1450_OT_0194_ALT 0.288 dedudStringentV3_downSampling001_rep5 0.001     \n",
       "23 1450_OT_0200_ALT 0.474 dedudStringentV3_downSampling001_rep5 0.001     \n",
       "24 1450_OT_0203_ALT 0.533 dedudStringentV3_downSampling001_rep5 0.001     \n",
       "25 1450_OT_0206_ALT 0.552 dedudStringentV3_downSampling001_rep5 0.001     \n",
       "26 1450_OT_0210_ALT 0.096 dedudStringentV3_downSampling001_rep5 0.001     \n",
       "27 1450_OT_0219_ALT 0.533 dedudStringentV3_downSampling001_rep5 0.001     \n",
       "28 1450_OT_0235_ALT 0.295 dedudStringentV3_downSampling001_rep5 0.001     \n",
       "29 1450_OT_0237_ALT 0.046 dedudStringentV3_downSampling001_rep5 0.001     \n",
       "30 1450_OT_0238_ALT 0.527 dedudStringentV3_downSampling001_rep5 0.001     \n",
       "⋮  ⋮                ⋮     ⋮                                     ⋮         \n",
       "50 1617_OT_0000_REF 0.348 dedudStringentV3_downSampling001_rep5 0.001     \n",
       "51 1617_OT_0040_ALT 0.342 dedudStringentV3_downSampling001_rep5 0.001     \n",
       "52 1617_OT_0040_REF 0.723 dedudStringentV3_downSampling001_rep5 0.001     \n",
       "53 1617_OT_0041_ALT 0.079 dedudStringentV3_downSampling001_rep5 0.001     \n",
       "54 1617_OT_0041_REF 0.090 dedudStringentV3_downSampling001_rep5 0.001     \n",
       "55 1617_OT_0318_ALT 0.041 dedudStringentV3_downSampling001_rep5 0.001     \n",
       "56 1617_OT_0319_ALT 0.090 dedudStringentV3_downSampling001_rep5 0.001     \n",
       "57 1617_OT_0322_ALT 0.132 dedudStringentV3_downSampling001_rep5 0.001     \n",
       "58 1617_OT_0327_ALT 0.286 dedudStringentV3_downSampling001_rep5 0.001     \n",
       "59 1617_OT_0329_ALT 0.496 dedudStringentV3_downSampling001_rep5 0.001     \n",
       "60 1617_OT_0331_ALT 0.087 dedudStringentV3_downSampling001_rep5 0.001     \n",
       "61 1617_OT_0332_ALT 0.570 dedudStringentV3_downSampling001_rep5 0.001     \n",
       "62 1617_OT_0333_ALT 0.390 dedudStringentV3_downSampling001_rep5 0.001     \n",
       "63 1617_OT_0334_ALT 0.995 dedudStringentV3_downSampling001_rep5 0.001     \n",
       "64 1617_OT_0344_ALT 0.435 dedudStringentV3_downSampling001_rep5 0.001     \n",
       "65 1617_OT_0345_ALT 0.257 dedudStringentV3_downSampling001_rep5 0.001     \n",
       "66 1617_OT_0348_ALT 0.070 dedudStringentV3_downSampling001_rep5 0.001     \n",
       "67 1617_OT_0349_ALT 0.025 dedudStringentV3_downSampling001_rep5 0.001     \n",
       "68 1617_OT_0352_ALT 0.249 dedudStringentV3_downSampling001_rep5 0.001     \n",
       "69 1617_OT_0353_ALT 0.193 dedudStringentV3_downSampling001_rep5 0.001     \n",
       "70 1617_OT_0355_ALT 0.101 dedudStringentV3_downSampling001_rep5 0.001     \n",
       "71 1617_OT_0356_ALT 0.071 dedudStringentV3_downSampling001_rep5 0.001     \n",
       "72 1617_OT_0362_ALT 0.185 dedudStringentV3_downSampling001_rep5 0.001     \n",
       "73 1617_OT_0373_ALT 0.002 dedudStringentV3_downSampling001_rep5 0.001     \n",
       "74 1617_OT_0376_ALT 0.149 dedudStringentV3_downSampling001_rep5 0.001     \n",
       "75 1617_OT_0381_ALT 0.217 dedudStringentV3_downSampling001_rep5 0.001     \n",
       "76 1617_OT_0393_ALT 0.076 dedudStringentV3_downSampling001_rep5 0.001     \n",
       "77 1617_OT_0398_ALT 0.701 dedudStringentV3_downSampling001_rep5 0.001     \n",
       "78 1617_OT_0400_ALT 0.292 dedudStringentV3_downSampling001_rep5 0.001     \n",
       "79 1617_OT_0436_ALT 0.061 dedudStringentV3_downSampling001_rep5 0.001     "
      ]
     },
     "metadata": {},
     "output_type": "display_data"
    }
   ],
   "source": [
    "powerV_df"
   ]
  },
  {
   "cell_type": "code",
   "execution_count": null,
   "id": "06e32f83",
   "metadata": {},
   "outputs": [],
   "source": []
  }
 ],
 "metadata": {
  "kernelspec": {
   "display_name": "R [conda env:.conda-jiecong_r]",
   "language": "R",
   "name": "conda-env-.conda-jiecong_r-r"
  },
  "language_info": {
   "codemirror_mode": "r",
   "file_extension": ".r",
   "mimetype": "text/x-r-source",
   "name": "R",
   "pygments_lexer": "r",
   "version": "4.1.1"
  }
 },
 "nbformat": 4,
 "nbformat_minor": 5
}
